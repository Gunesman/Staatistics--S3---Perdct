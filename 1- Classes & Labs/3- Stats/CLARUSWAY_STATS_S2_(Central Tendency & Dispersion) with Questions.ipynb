{
 "cells": [
  {
   "cell_type": "markdown",
   "metadata": {
    "deletable": false,
    "editable": false
   },
   "source": [
    "<a href=\"https://clarusway.com/contact-us/\"><img align=\"center\" src=\"https://i.ibb.co/B43qn24/officially-licensed-logo.png\" alt=\"Open in Clarusway LMS\" width=\"110\" height=\"200\" title=\"This notebook is licensed by Clarusway IT training school. Please contact the authorized persons about the conditions under which you can use or share.\"></a>"
   ]
  },
  {
   "cell_type": "markdown",
   "metadata": {},
   "source": [
    "<hr>\n",
    "\n",
    "<a href=\"https://clarusway.com/\"><img align=\"center\" src=\"https://i.ibb.co/KhG2kV4/new-clarusway-logo.png\" width=\"450\" height=\"200\" alt=\"CLRSWY_LOGO\" title=\"Open and Execute in Google Colaboratory\"></a><br/>\n",
    "\n",
    "<p style=\"background-color:#E51A59; font-family:newtimeroman; color:#FDFEFE; font-size:130%; text-align:center; border-radius:10px 10px;\">WAY TO REINVENT YOURSELF</p>\n",
    "\n",
    "<p style=\"text-align: center;\"><img src=\"https://i.ibb.co/HgnTPh9/stats.png\" class=\"img-fluid\" alt=\"STATS\" width=\"600\" height=\"200\"></p>\n",
    "\n",
    "## <p style=\"background-color:#FDFEFE; font-family:newtimeroman; color:#0000FF; font-size:200%; text-align:center; border-radius:10px 10px;\">SESSION-02 (Central Tendency & Dispersion)</p>\n",
    "\n",
    "<hr>"
   ]
  },
  {
   "cell_type": "markdown",
   "metadata": {},
   "source": [
    "## Libraries Needed in this Notebook"
   ]
  },
  {
   "cell_type": "code",
   "execution_count": 73,
   "metadata": {},
   "outputs": [],
   "source": [
    "import numpy as np\n",
    "import pandas as pd\n",
    "import matplotlib.pyplot as plt\n",
    "import seaborn as sns\n",
    "from scipy import stats\n",
    "from scipy.stats import iqr\n",
    "\n",
    "import warnings\n",
    "warnings.filterwarnings('ignore')"
   ]
  },
  {
   "cell_type": "markdown",
   "metadata": {},
   "source": [
    "- **[How to Enable and Use Autocomplete in Jupyter Notebook](https://linuxhint.com/enable-use-autocomplete-jupyter-notebook/)**"
   ]
  },
  {
   "cell_type": "markdown",
   "metadata": {},
   "source": [
    "<p style=\"background-color:#FFFFFF; font-family:newtimeroman; color:#FF0000; font-size:140%; text-align:left;\"><strong>❗⚠️ WARNING:</strong></p>\n",
    "\n",
    "- Before we start reviewing our notebook, it should be noted that the purpose of this Statistics Course is NOT to explain the codes in the notebook, but to reinforce the topics we have covered in our Statistics in-class session. Throughout your Data Analytics journey, you will learn how the codes are created and what they mean in the relevant courses. So do NOT waste time with the codes, but rather try to digest the concepts you have learned in the Statistics sessions."
   ]
  },
  {
   "cell_type": "markdown",
   "metadata": {
    "id": "scybkCY9IoTS"
   },
   "source": [
    "## <p style=\"background-color:#E51A59; font-family:newtimeroman; color:#FDFEFE; font-size:175%; text-align:center; border-radius:10px 10px;\">How to Find Min, Max, Mode, & Range?</p>\n",
    "\n",
    "- **[np.mean()](https://numpy.org/doc/stable/reference/generated/numpy.mean.html)**<br>\n",
    "  - ``numpy.mean(a, axis=None, dtype=None, out=None, keepdims=<no value>, *, where=<no value>)``\n",
    "\n",
    "- **[np.median()]()**<br>\n",
    "  - ``numpy.median(a, axis=None, out=None, overwrite_input=False, keepdims=False)``\n",
    "\n",
    "- **[stats.mode()]()**<br>\n",
    "  - ``scipy.stats.mode(a, axis=0, nan_policy='propagate', keepdims=None)``"
   ]
  },
  {
   "cell_type": "code",
   "execution_count": 74,
   "metadata": {
    "colab": {
     "base_uri": "https://localhost:8080/"
    },
    "executionInfo": {
     "elapsed": 275,
     "status": "ok",
     "timestamp": 1682672129429,
     "user": {
      "displayName": "Richard Thames",
      "userId": "00258987493291873022"
     },
     "user_tz": -180
    },
    "id": "Dpy_kfxkmvFn",
    "outputId": "50f9264d-0e1c-4971-b0ea-14df9260e644"
   },
   "outputs": [
    {
     "name": "stdout",
     "output_type": "stream",
     "text": [
      "mean: 37.0\n",
      "median: 30.0\n",
      "mode: ModeResult(mode=array([33]), count=array([3], dtype=int64))\n"
     ]
    }
   ],
   "source": [
    "salary = [102, 33, 26, 27, 30, 25, 33, 33, 24]\n",
    "\n",
    "mean_salary = np.mean(salary)\n",
    "print(\"mean:\", mean_salary)\n",
    "\n",
    "median_salary = np.median(salary)\n",
    "print(\"median:\", median_salary)\n",
    "\n",
    "mode_salary = stats.mode(salary, keepdims=True)  # NumPy does NOT have a built-in function for calculating the mode of an array \n",
    "print(\"mode:\", mode_salary)"
   ]
  },
  {
   "cell_type": "code",
   "execution_count": 75,
   "metadata": {
    "colab": {
     "base_uri": "https://localhost:8080/"
    },
    "executionInfo": {
     "elapsed": 11,
     "status": "ok",
     "timestamp": 1678809541912,
     "user": {
      "displayName": "Richard Thames",
      "userId": "00258987493291873022"
     },
     "user_tz": -180
    },
    "id": "2FiXg1KKFxch",
    "outputId": "037626ec-2184-44c8-9f54-fd2dbf468601"
   },
   "outputs": [
    {
     "data": {
      "text/plain": [
       "33"
      ]
     },
     "execution_count": 75,
     "metadata": {},
     "output_type": "execute_result"
    }
   ],
   "source": [
    "mode_salary[0][0]"
   ]
  },
  {
   "cell_type": "code",
   "execution_count": 76,
   "metadata": {},
   "outputs": [
    {
     "data": {
      "text/plain": [
       "33"
      ]
     },
     "execution_count": 76,
     "metadata": {},
     "output_type": "execute_result"
    }
   ],
   "source": [
    "np.bincount(salary).argmax()"
   ]
  },
  {
   "cell_type": "markdown",
   "metadata": {},
   "source": [
    "- NumPy does **NOT** have a built-in function for calculating the mode of an array because the mode can be **defined differently for different types of data** and there is **no one-size-fits-all approach**. For example, in a discrete distribution, the mode is the most common value, while in a continuous distribution, it is the value with the highest density.\n",
    "\n",
    "- **However**, NumPy provides several functions that can be used to calculate the mode depending on the type of data and the definition of the mode that is appropriate for the given context. For example, for discrete data, the **[numpy.bincount()]((https://numpy.org/doc/stable/reference/generated/numpy.bincount.html)** function can be used to count the occurrences of each value in an array, and then the **[numpy.argmax()](https://numpy.org/doc/stable/reference/generated/numpy.argmax.html)** function can be used to find the index of the most frequent value. For continuous data, other libraries like **``scipy.stats``** can be used.\n",
    "\n",
    "- Alternatively, users can define their own functions to calculate the mode based on their specific requirements and use cases."
   ]
  },
  {
   "cell_type": "code",
   "execution_count": 77,
   "metadata": {
    "id": "6ObX3mkjfW_Z",
    "scrolled": true
   },
   "outputs": [],
   "source": [
    "# help(stats.mode)"
   ]
  },
  {
   "cell_type": "markdown",
   "metadata": {},
   "source": [
    "- **``scipy.stats``** is a <u>module</u> in the SciPy library, which is a collection of numerical algorithms and tools for **scientific computing in Python**. The scipy.stats module provides a wide range of **probability distributions** and **statistical functions** that can be used for statistical analysis, data modeling, and hypothesis testing.\n",
    "\n",
    "- The module contains functions for continuous and discrete probability distributions, such as the normal distribution, t-distribution, and binomial distribution, as well as statistical tests, such as t-tests, ANOVA, and chi-square tests. It also provides functions for generating random numbers from various probability distributions.\n",
    "\n",
    "- **``scipy.stats``** is a very powerful and widely used tool for statistical analysis in Python, and is often used together with other scientific computing libraries such as NumPy, Pandas, and Matplotlib."
   ]
  },
  {
   "cell_type": "code",
   "execution_count": 80,
   "metadata": {
    "colab": {
     "base_uri": "https://localhost:8080/"
    },
    "executionInfo": {
     "elapsed": 662,
     "status": "ok",
     "timestamp": 1682589775206,
     "user": {
      "displayName": "Richard Thames",
      "userId": "00258987493291873022"
     },
     "user_tz": -180
    },
    "id": "bl33vMGVIp3m",
    "outputId": "65641bf8-9215-4ccf-d5a2-fb2be48483db"
   },
   "outputs": [
    {
     "name": "stdout",
     "output_type": "stream",
     "text": [
      "min: 32\n",
      "max: 116\n",
      "range: 84\n",
      "range: 84\n"
     ]
    }
   ],
   "source": [
    "data = [32, 36, 46, 47, 56, 69, 75, 79, 79, 88, 89, 91, 92, 93, 96, 97, 101, 105, 112, 116]\n",
    "# data = [32, 36, 46, 47, 56, 69, 75, 79, 79, np.nan, 88, 89, 91, 92, 93, 96, 97, 101, 105, 112, 116, np.nan]\n",
    "\n",
    "print(\"min:\", np.min(data))\n",
    "print(\"max:\", np.max(data))\n",
    "print(\"range:\", np.max(data) - np.min(data))\n",
    "print(\"range:\", np.nanmax(data) - np.nanmin(data))"
   ]
  },
  {
   "cell_type": "markdown",
   "metadata": {},
   "source": [
    "- In Numpy, we can subtract the minimum value from the maximum value to obtain the **``range of the array``**, which can be stored in a new variable.\n",
    "\n",
    "- **``Note``** that if the array contains **NaN (not a number) values**, the result of ``np.max`` and ``np.min`` will be **NaN**, and the ``range`` will also be **NaN**. To handle this case, you can use the ``np.nanmax`` and ``np.nanmin`` functions instead."
   ]
  },
  {
   "cell_type": "markdown",
   "metadata": {
    "id": "p6yulkRaIvd3"
   },
   "source": [
    "## <p style=\"background-color:#E51A59; font-family:newtimeroman; color:#FDFEFE; font-size:175%; text-align:center; border-radius:10px 10px;\">How to Find Q1, Q3, & IQR manually?</p>\n",
    "\n",
    "- In statistics, Q1, Q3, and IQR are measures of variability and dispersion that describe the spread of a dataset.\n",
    "\n",
    "  - **``Q1``**, or ``the first quartile``, is the value that separates the lowest 25% of the data from the rest of the data. It is the 25th percentile of the dataset.\n",
    "\n",
    "  - **``Q3``**, or ``the third quartile``, is the value that separates the lowest 75% of the data from the rest of the data. It is the 75th percentile of the dataset.\n",
    "\n",
    "  - **``IQR``**, or ``the interquartile range``, is the range of values that includes the middle 50% of the data. It is calculated as the difference between the Q3 and Q1 values.\n",
    "\n",
    "- In other words, the IQR represents the range of values where the middle 50% of the data falls. It is a measure of the spread of the dataset that is less sensitive to outliers than the range, which is simply the difference between the maximum and minimum values in the dataset.\n",
    "\n",
    "- The IQR is often used in statistical analysis to identify outliers and to compare the variability of different datasets. It can also be used to construct box plots, which provide a visual representation of the distribution of the data."
   ]
  },
  {
   "cell_type": "code",
   "execution_count": 81,
   "metadata": {},
   "outputs": [],
   "source": [
    "# Create a data:\n",
    "\n",
    "data = [32, 36, 46, 47, 56, 69, 75, 79, 80, 88, 89]\n",
    "data2 = [32, 36, 46, 47, 56, 69, 75, 79, 255, 864, 1328]"
   ]
  },
  {
   "cell_type": "code",
   "execution_count": 8,
   "metadata": {},
   "outputs": [
    {
     "name": "stdout",
     "output_type": "stream",
     "text": [
      "mean1: 63.36363636363637\n",
      "median1: 69.0\n",
      "*************************\n",
      "mean2: 224.57142857142858\n",
      "median2: 77.0\n"
     ]
    }
   ],
   "source": [
    "mean_data = np.mean(data)\n",
    "print(\"mean1:\", mean_data)\n",
    "median_data = np.median(data)\n",
    "print(\"median1:\", median_data)\n",
    "\n",
    "print(\"*\"*25)\n",
    "\n",
    "mean_data2 = np.mean(data2)\n",
    "print(\"mean2:\", mean_data2)\n",
    "median_data2 = np.median(data2)\n",
    "print(\"median2:\", median_data2)"
   ]
  },
  {
   "cell_type": "markdown",
   "metadata": {},
   "source": [
    "### Calculating the Interquartile Range (IQR) ``manually``:"
   ]
  },
  {
   "cell_type": "markdown",
   "metadata": {},
   "source": [
    "#### Step 1: Calculate the First Quartile:"
   ]
  },
  {
   "cell_type": "markdown",
   "metadata": {},
   "source": [
    "- **[np.percentile()](https://numpy.org/doc/stable/reference/generated/numpy.percentile.html)**<br>\n",
    "  - ``numpy.percentile(a, q, axis=None, out=None, overwrite_input=False, method='linear', keepdims=False, *, interpolation=None)``"
   ]
  },
  {
   "cell_type": "code",
   "execution_count": 9,
   "metadata": {
    "colab": {
     "base_uri": "https://localhost:8080/"
    },
    "executionInfo": {
     "elapsed": 301,
     "status": "ok",
     "timestamp": 1678809552338,
     "user": {
      "displayName": "Richard Thames",
      "userId": "00258987493291873022"
     },
     "user_tz": -180
    },
    "id": "2kxZdz2sIuPV",
    "outputId": "777e2d6e-e3f9-40eb-ef07-81c8e413e5c6"
   },
   "outputs": [
    {
     "name": "stdout",
     "output_type": "stream",
     "text": [
      "The first quartile (Q1) is: 46.5\n"
     ]
    }
   ],
   "source": [
    "# First quartile (Q1) \n",
    "Q1 = np.percentile(data, 25)\n",
    "\n",
    "print(\"The first quartile (Q1) is:\", Q1)"
   ]
  },
  {
   "cell_type": "markdown",
   "metadata": {},
   "source": [
    "- In this example, we first create a NumPy array data with some random values. We then use the **[np.percentile()](https://numpy.org/doc/stable/reference/generated/numpy.percentile.html)** function to calculate the first quartile of the data, which is the value that separates the lowest 25% of the data from the rest of the data. We pass the data array as the first argument and the percentile value 25 as the second argument to np.percentile. The calculated Q1 value is then stored in the Q1 variable and printed to the console.\n",
    "\n",
    "- Note that the **``numpy.percentile()``** function can also be used to ``calculate other percentiles``, such as the median (50th percentile) or the third quartile (75th percentile), by simply changing the second argument to the appropriate percentile value."
   ]
  },
  {
   "cell_type": "code",
   "execution_count": 10,
   "metadata": {
    "id": "g1wOq4wtJAMS"
   },
   "outputs": [],
   "source": [
    "# help(np.percentile)"
   ]
  },
  {
   "cell_type": "markdown",
   "metadata": {},
   "source": [
    "#### Step 2: Calculate the Third Quartile:"
   ]
  },
  {
   "cell_type": "code",
   "execution_count": 11,
   "metadata": {
    "colab": {
     "base_uri": "https://localhost:8080/"
    },
    "executionInfo": {
     "elapsed": 250,
     "status": "ok",
     "timestamp": 1678809572176,
     "user": {
      "displayName": "Richard Thames",
      "userId": "00258987493291873022"
     },
     "user_tz": -180
    },
    "id": "JIhAqKRoI3Py",
    "outputId": "8da8c7c2-ff03-4e4f-a492-f65f55a5b080"
   },
   "outputs": [
    {
     "name": "stdout",
     "output_type": "stream",
     "text": [
      "The third quartile (Q3) is: 79.5\n"
     ]
    }
   ],
   "source": [
    "# Third quartile (Q3) \n",
    "\n",
    "Q3 = np.percentile(data, 75)\n",
    "\n",
    "print(\"The third quartile (Q3) is:\", Q3)"
   ]
  },
  {
   "cell_type": "markdown",
   "metadata": {},
   "source": [
    "- A **``box plot``**, also known as a box-and-whisker plot, is a graphical representation of the distribution of a dataset based on five number summary: minimum, first quartile (Q1), median, third quartile (Q3), and maximum. The box plot displays these five statistics as a box with whiskers extending from the box to the minimum and maximum values.\n",
    "\n",
    "- The box in the plot represents the interquartile range (IQR), which is the range of values between the first and third quartiles (Q1 and Q3). The median is shown as a line inside the box. The whiskers extend from the box to the minimum and maximum values that are not considered outliers. Outliers are plotted as individual points beyond the whiskers.\n",
    "\n",
    "- Box plots are useful for comparing the distribution of different datasets or for identifying outliers in a single dataset. They can also reveal the skewness and symmetry of the data, as well as the presence of any extreme values."
   ]
  },
  {
   "cell_type": "markdown",
   "metadata": {},
   "source": [
    "- **[sns.boxplot()](https://seaborn.pydata.org/generated/seaborn.boxplot.html)**<br>\n",
    "  - ``seaborn.boxplot(data=None, *, x=None, y=None, hue=None, order=None, hue_order=None, orient=None, color=None, palette=None, saturation=0.75, width=0.8, dodge=True, fliersize=5, linewidth=None, whis=1.5, ax=None, **kwargs)``"
   ]
  },
  {
   "cell_type": "code",
   "execution_count": 12,
   "metadata": {
    "colab": {
     "base_uri": "https://localhost:8080/",
     "height": 265
    },
    "executionInfo": {
     "elapsed": 1523,
     "status": "ok",
     "timestamp": 1678809577987,
     "user": {
      "displayName": "Richard Thames",
      "userId": "00258987493291873022"
     },
     "user_tz": -180
    },
    "id": "I5HPsrzIjY5u",
    "outputId": "2a8868c5-096c-41c1-f0f5-7df625abe914"
   },
   "outputs": [
    {
     "data": {
      "image/png": "[encoded data removed]",
      "text/plain": [
       "<Figure size 640x480 with 1 Axes>"
      ]
     },
     "metadata": {},
     "output_type": "display_data"
    }
   ],
   "source": [
    "sns.boxplot(x=data);"
   ]
  },
  {
   "cell_type": "markdown",
   "metadata": {},
   "source": [
    "<p style=\"text-align: center;\"><img src=\"https://i.ibb.co/LYkxFBG/IQR-range.png\" class=\"img-fluid\" alt=\"IQR\" width=\"600\" height=\"200\"></p>"
   ]
  },
  {
   "cell_type": "markdown",
   "metadata": {},
   "source": [
    "**The interquartile range (IQR)  can be calculated manually:**"
   ]
  },
  {
   "cell_type": "markdown",
   "metadata": {},
   "source": [
    "#### Step 3: Calculate the Interquartile Range (IQR):"
   ]
  },
  {
   "cell_type": "code",
   "execution_count": 13,
   "metadata": {
    "colab": {
     "base_uri": "https://localhost:8080/"
    },
    "executionInfo": {
     "elapsed": 287,
     "status": "ok",
     "timestamp": 1678809580578,
     "user": {
      "displayName": "Richard Thames",
      "userId": "00258987493291873022"
     },
     "user_tz": -180
    },
    "id": "UqFoDj_NKY0p",
    "outputId": "b34a8e07-8678-4fbc-f292-1ba10db3e508"
   },
   "outputs": [
    {
     "name": "stdout",
     "output_type": "stream",
     "text": [
      "The interquartile range (IQR) is: 33.0\n"
     ]
    }
   ],
   "source": [
    "# Interquaritle range (IQR) \n",
    "\n",
    "IQR = Q3 - Q1 \n",
    "  \n",
    "print(\"The interquartile range (IQR) is:\", IQR)"
   ]
  },
  {
   "cell_type": "markdown",
   "metadata": {},
   "source": [
    "<u>There are several reasons why we might want to calculate the IQR:</u>\n",
    "\n",
    "  - **``To identify outliers``**: The IQR can be used to identify outliers in a dataset. Values that fall outside the range of 1.5 times the IQR below Q1 or above Q3 are considered outliers and may be worth further investigation.\n",
    "\n",
    "  - **``To compare variability``**: The IQR can be used to compare the variability of different datasets. Datasets with larger IQRs have more variability than those with smaller IQRs.\n",
    "\n",
    "  - **``To construct box plots``**: The IQR is used to construct the box in a box plot, which provides a visual representation of the distribution of the data.\n",
    "\n",
    "  - **``To measure dispersion``**: The IQR is a common measure of dispersion in descriptive statistics and is often used in conjunction with other measures such as the mean and standard deviation."
   ]
  },
  {
   "cell_type": "code",
   "execution_count": 14,
   "metadata": {
    "id": "tMdvVqztKed4"
   },
   "outputs": [],
   "source": [
    "# Multiple Assignment or \"Tuple Unpacking\"\n",
    "\n",
    "q75, q50, q25 = np.percentile(data, [75, 50, 25])"
   ]
  },
  {
   "cell_type": "code",
   "execution_count": 15,
   "metadata": {
    "colab": {
     "base_uri": "https://localhost:8080/"
    },
    "executionInfo": {
     "elapsed": 4,
     "status": "ok",
     "timestamp": 1678809585183,
     "user": {
      "displayName": "Richard Thames",
      "userId": "00258987493291873022"
     },
     "user_tz": -180
    },
    "id": "VNScjebeKhyE",
    "outputId": "11f26444-db8c-4c84-91e2-c1eb5a1587c3"
   },
   "outputs": [
    {
     "data": {
      "text/plain": [
       "79.5"
      ]
     },
     "execution_count": 15,
     "metadata": {},
     "output_type": "execute_result"
    }
   ],
   "source": [
    "q75"
   ]
  },
  {
   "cell_type": "code",
   "execution_count": 16,
   "metadata": {},
   "outputs": [
    {
     "data": {
      "text/plain": [
       "69.0"
      ]
     },
     "execution_count": 16,
     "metadata": {},
     "output_type": "execute_result"
    }
   ],
   "source": [
    "q50"
   ]
  },
  {
   "cell_type": "code",
   "execution_count": 17,
   "metadata": {
    "colab": {
     "base_uri": "https://localhost:8080/"
    },
    "executionInfo": {
     "elapsed": 5,
     "status": "ok",
     "timestamp": 1678809586516,
     "user": {
      "displayName": "Richard Thames",
      "userId": "00258987493291873022"
     },
     "user_tz": -180
    },
    "id": "ixCxzbCOKi66",
    "outputId": "77b2438a-b696-48d0-9131-69b746e48d1d"
   },
   "outputs": [
    {
     "data": {
      "text/plain": [
       "46.5"
      ]
     },
     "execution_count": 17,
     "metadata": {},
     "output_type": "execute_result"
    }
   ],
   "source": [
    "q25"
   ]
  },
  {
   "cell_type": "code",
   "execution_count": 18,
   "metadata": {
    "colab": {
     "base_uri": "https://localhost:8080/"
    },
    "executionInfo": {
     "elapsed": 5,
     "status": "ok",
     "timestamp": 1678809587352,
     "user": {
      "displayName": "Richard Thames",
      "userId": "00258987493291873022"
     },
     "user_tz": -180
    },
    "id": "-VJjA3j6KlEV",
    "outputId": "cbefa64b-3aa7-4643-a364-0cbe409bc138"
   },
   "outputs": [
    {
     "data": {
      "text/plain": [
       "33.0"
      ]
     },
     "execution_count": 18,
     "metadata": {},
     "output_type": "execute_result"
    }
   ],
   "source": [
    "IQR = q75 - q25\n",
    "IQR"
   ]
  },
  {
   "cell_type": "markdown",
   "metadata": {},
   "source": [
    "### Oops! Can we do/calculate IQR by means of just one code?"
   ]
  },
  {
   "cell_type": "markdown",
   "metadata": {},
   "source": [
    "**The interquartile range (IQR) can also be calculated by iqr() function from importing scipy.stats module:**"
   ]
  },
  {
   "cell_type": "code",
   "execution_count": 19,
   "metadata": {
    "colab": {
     "base_uri": "https://localhost:8080/"
    },
    "executionInfo": {
     "elapsed": 5,
     "status": "ok",
     "timestamp": 1678787315091,
     "user": {
      "displayName": "Richard Thames",
      "userId": "00258987493291873022"
     },
     "user_tz": -180
    },
    "id": "GTcDD4aaLJux",
    "outputId": "dd0cb039-6c55-4900-dc22-3791b480ec81"
   },
   "outputs": [
    {
     "data": {
      "text/plain": [
       "33.0"
      ]
     },
     "execution_count": 19,
     "metadata": {},
     "output_type": "execute_result"
    }
   ],
   "source": [
    "from scipy.stats import iqr\n",
    "\n",
    "iqr(data)"
   ]
  },
  {
   "cell_type": "markdown",
   "metadata": {
    "id": "tBgPmpHhLUWB"
   },
   "source": [
    "## <p style=\"background-color:#E51A59; font-family:newtimeroman; color:#FDFEFE; font-size:175%; text-align:center; border-radius:10px 10px;\">How to Find Standart Deviation & Variance?</p>\n",
    "\n",
    "- **``Standard deviation``** and **``variance``** are measures of variability and dispersion in a dataset. They describe how spread out the values in a dataset are from the mean or average value.\n",
    "\n",
    "- **``Variance``** is the average of the squared differences from the mean of the data. It is calculated by subtracting the mean from each data point, squaring the difference, adding up all the squared differences, and dividing by the number of data points. The formula for variance is:\n",
    "\n",
    "  - ``Variance = sum((x - mean)^2) / n``<br>\n",
    "    - where x is a data point, mean is the mean of the data, and n is the number of data points.\n",
    "\n",
    "- **``Standard deviation``** is the square root of the variance and is expressed in the same units as the data. It is a more commonly used measure of dispersion than variance because it is easier to interpret. The formula for standard deviation is:\n",
    "\n",
    "  - ``Standard deviation = sqrt(sum((x - mean)^2) / n)``<br>\n",
    "    - where x is a data point, mean is the mean of the data, and n is the number of data points.\n",
    "\n",
    "Standard deviation and variance are used for several purposes in statistics, including:\n",
    "\n",
    "  - **``Describing the spread of data``**: Standard deviation and variance provide information about how spread out the data is from the mean. Larger values indicate a wider spread of data, while smaller values indicate a more concentrated or narrow spread.\n",
    "\n",
    "  - **``Identifying outliers``**: Standard deviation and variance can help identify outliers in a dataset. Data points that are far from the mean may be considered outliers and may warrant further investigation.\n",
    "\n",
    "  - **``Hypothesis testing``**: Standard deviation and variance are used in hypothesis testing to assess whether a sample of data is significantly different from a population or another sample.\n",
    "\n",
    "  - **``Constructing confidence intervals``**: Standard deviation and variance are used to calculate confidence intervals, which are estimates of the range of values that a population parameter is likely to fall within.\n",
    "\n",
    "In summary, standard deviation and variance are important measures of variability and dispersion in a dataset and are used for a variety of statistical purposes, including describing the spread of data, identifying outliers, hypothesis testing, and constructing confidence intervals."
   ]
  },
  {
   "cell_type": "markdown",
   "metadata": {},
   "source": [
    "- **[np.var()](https://numpy.org/doc/stable/reference/generated/numpy.var.html)**\n",
    "\n",
    "  - ``numpy.var(a, axis=None, dtype=None, out=None, ddof=0, keepdims=<no value>, *, where=<no value>)``"
   ]
  },
  {
   "cell_type": "code",
   "execution_count": 20,
   "metadata": {
    "colab": {
     "base_uri": "https://localhost:8080/"
    },
    "executionInfo": {
     "elapsed": 2,
     "status": "ok",
     "timestamp": 1678809591528,
     "user": {
      "displayName": "Richard Thames",
      "userId": "00258987493291873022"
     },
     "user_tz": -180
    },
    "id": "Dft2vqzTLLq8",
    "outputId": "556870e5-7bf8-432a-acb1-3e16736de3b9"
   },
   "outputs": [
    {
     "data": {
      "text/plain": [
       "391.68595041322317"
      ]
     },
     "execution_count": 20,
     "metadata": {},
     "output_type": "execute_result"
    }
   ],
   "source": [
    "np.var(data)"
   ]
  },
  {
   "cell_type": "markdown",
   "metadata": {},
   "source": [
    "- **[np.std()](https://numpy.org/doc/stable/reference/generated/numpy.std.html)**\n",
    "\n",
    "  - ``numpy.std(a, axis=None, dtype=None, out=None, ddof=0, keepdims=<no value>, *, where=<no value>)``"
   ]
  },
  {
   "cell_type": "code",
   "execution_count": 21,
   "metadata": {
    "colab": {
     "base_uri": "https://localhost:8080/"
    },
    "executionInfo": {
     "elapsed": 4,
     "status": "ok",
     "timestamp": 1678809593251,
     "user": {
      "displayName": "Richard Thames",
      "userId": "00258987493291873022"
     },
     "user_tz": -180
    },
    "id": "yPbfwv8ULVy_",
    "outputId": "b977fc3e-8e59-4423-de88-b412a5726e61"
   },
   "outputs": [
    {
     "data": {
      "text/plain": [
       "19.791057334392804"
      ]
     },
     "execution_count": 21,
     "metadata": {},
     "output_type": "execute_result"
    }
   ],
   "source": [
    "np.std(data)"
   ]
  },
  {
   "cell_type": "markdown",
   "metadata": {},
   "source": [
    "### Variance vs. Standard Deviation with the same mean:"
   ]
  },
  {
   "cell_type": "code",
   "execution_count": 22,
   "metadata": {},
   "outputs": [],
   "source": [
    "import random\n",
    "\n",
    "# Create two lists with the same mean but different variances\n",
    "# Generate two lists with the same mean but different variances\n",
    "\n",
    "# List 1: Low variance\n",
    "mylist1 = np.random.normal(loc=50, scale=5, size=10000)\n",
    "\n",
    "# List 2: High variance\n",
    "mylist2 = np.random.normal(loc=50, scale=15, size=10000)"
   ]
  },
  {
   "cell_type": "code",
   "execution_count": 23,
   "metadata": {},
   "outputs": [
    {
     "data": {
      "text/plain": [
       "49.963817973074676"
      ]
     },
     "metadata": {},
     "output_type": "display_data"
    },
    {
     "data": {
      "text/plain": [
       "50.18031880202926"
      ]
     },
     "metadata": {},
     "output_type": "display_data"
    }
   ],
   "source": [
    "display(np.mean(mylist1))\n",
    "display(np.mean(mylist2))"
   ]
  },
  {
   "cell_type": "code",
   "execution_count": 24,
   "metadata": {},
   "outputs": [
    {
     "data": {
      "text/plain": [
       "25.0567100231244"
      ]
     },
     "metadata": {},
     "output_type": "display_data"
    },
    {
     "data": {
      "text/plain": [
       "221.8399106667473"
      ]
     },
     "metadata": {},
     "output_type": "display_data"
    }
   ],
   "source": [
    "display(np.var(mylist1))\n",
    "display(np.var(mylist2))"
   ]
  },
  {
   "cell_type": "code",
   "execution_count": 25,
   "metadata": {},
   "outputs": [
    {
     "data": {
      "text/plain": [
       "5.0056677899281725"
      ]
     },
     "metadata": {},
     "output_type": "display_data"
    },
    {
     "data": {
      "text/plain": [
       "14.894291210619835"
      ]
     },
     "metadata": {},
     "output_type": "display_data"
    }
   ],
   "source": [
    "display(np.std(mylist1))\n",
    "display(np.std(mylist2))"
   ]
  },
  {
   "cell_type": "code",
   "execution_count": 26,
   "metadata": {},
   "outputs": [
    {
     "data": {
      "image/png": "[encoded data removed]",
      "text/plain": [
       "<Figure size 1500x400 with 2 Axes>"
      ]
     },
     "metadata": {},
     "output_type": "display_data"
    }
   ],
   "source": [
    "# Plot the histograms side by side\n",
    "# Plot histograms side by side\n",
    "plt.figure(figsize=(15, 4))  # Set the figure size\n",
    "\n",
    "plt.subplot(1, 2, 1)  # 1 row, 2 columns, 1st plot\n",
    "plt.hist(mylist1, bins=20, range=(-20, 110), label=f\"var={np.var(mylist1):.2f}, std={np.std(mylist1):.2f}\", alpha=0.5)\n",
    "plt.axvline(x=np.mean(mylist1), color='red', linestyle='--', label=f\"mean={np.mean(mylist1):.2f}\")\n",
    "plt.xlabel('Value')\n",
    "plt.ylabel('Frequency')\n",
    "plt.title('List-1')\n",
    "plt.legend()\n",
    "\n",
    "plt.subplot(1, 2, 2)  # 1 row, 2 columns, 2nd plot\n",
    "plt.hist(mylist2, bins=20, range=(-20, 110), label=f\"var={np.var(mylist2):.2f}, std={np.std(mylist2):.2f}\", alpha=0.5)\n",
    "plt.axvline(x=np.mean(mylist2), color='red', linestyle='--', label=f\"mean={np.mean(mylist2):.2f}\") \n",
    "plt.xlabel('Value')\n",
    "plt.ylabel('Frequency')\n",
    "plt.title('List-2')\n",
    "plt.legend();"
   ]
  },
  {
   "cell_type": "markdown",
   "metadata": {
    "id": "gaWPl2POhJqN"
   },
   "source": [
    "## <p style=\"background-color:#E51A59; font-family:newtimeroman; color:#FDFEFE; font-size:175%; text-align:center; border-radius:10px 10px;\">Time to Practice on a DataFrame</p>"
   ]
  },
  {
   "cell_type": "code",
   "execution_count": 27,
   "metadata": {},
   "outputs": [],
   "source": [
    "import matplotlib.pyplot as plt\n",
    "import seaborn as sns\n",
    "import numpy as np"
   ]
  },
  {
   "cell_type": "code",
   "execution_count": 28,
   "metadata": {
    "colab": {
     "base_uri": "https://localhost:8080/"
    },
    "executionInfo": {
     "elapsed": 330,
     "status": "ok",
     "timestamp": 1682672099167,
     "user": {
      "displayName": "Richard Thames",
      "userId": "00258987493291873022"
     },
     "user_tz": -180
    },
    "id": "aTMQcFSphkCA",
    "outputId": "348a32e6-5303-4bad-ab31-82686d40398d"
   },
   "outputs": [
    {
     "data": {
      "text/plain": [
       "['anagrams',\n",
       " 'anscombe',\n",
       " 'attention',\n",
       " 'brain_networks',\n",
       " 'car_crashes',\n",
       " 'diamonds',\n",
       " 'dots',\n",
       " 'dowjones',\n",
       " 'exercise',\n",
       " 'flights',\n",
       " 'fmri',\n",
       " 'geyser',\n",
       " 'glue',\n",
       " 'healthexp',\n",
       " 'iris',\n",
       " 'mpg',\n",
       " 'penguins',\n",
       " 'planets',\n",
       " 'seaice',\n",
       " 'taxis',\n",
       " 'tips',\n",
       " 'titanic']"
      ]
     },
     "execution_count": 28,
     "metadata": {},
     "output_type": "execute_result"
    }
   ],
   "source": [
    "# Check the names of all built-in datasets from the Seaborn library:\n",
    "\n",
    "sns.get_dataset_names()"
   ]
  },
  {
   "cell_type": "markdown",
   "metadata": {},
   "source": [
    "### ``Penguins`` Dataset:"
   ]
  },
  {
   "cell_type": "markdown",
   "metadata": {},
   "source": [
    "#### Download \"penguins\" dataset in Seaborn and assign it to an object named \"df\":"
   ]
  },
  {
   "cell_type": "code",
   "execution_count": 29,
   "metadata": {
    "id": "4F7pkzSlha1a"
   },
   "outputs": [],
   "source": [
    "df = sns.load_dataset(\"penguins\")"
   ]
  },
  {
   "cell_type": "markdown",
   "metadata": {},
   "source": [
    "#### Check the first 3 observations in the DataFrame:"
   ]
  },
  {
   "cell_type": "code",
   "execution_count": 30,
   "metadata": {
    "colab": {
     "base_uri": "https://localhost:8080/",
     "height": 143
    },
    "executionInfo": {
     "elapsed": 3,
     "status": "ok",
     "timestamp": 1678809602821,
     "user": {
      "displayName": "Richard Thames",
      "userId": "00258987493291873022"
     },
     "user_tz": -180
    },
    "id": "cFkFccmVho4-",
    "outputId": "393819d6-047b-4fe1-e491-208281d06fb2"
   },
   "outputs": [
    {
     "data": {
      "text/html": [
       "<div>\n",
       "<style scoped>\n",
       "    .dataframe tbody tr th:only-of-type {\n",
       "        vertical-align: middle;\n",
       "    }\n",
       "\n",
       "    .dataframe tbody tr th {\n",
       "        vertical-align: top;\n",
       "    }\n",
       "\n",
       "    .dataframe thead th {\n",
       "        text-align: right;\n",
       "    }\n",
       "</style>\n",
       "<table border=\"1\" class=\"dataframe\">\n",
       "  <thead>\n",
       "    <tr style=\"text-align: right;\">\n",
       "      <th></th>\n",
       "      <th>species</th>\n",
       "      <th>island</th>\n",
       "      <th>bill_length_mm</th>\n",
       "      <th>bill_depth_mm</th>\n",
       "      <th>flipper_length_mm</th>\n",
       "      <th>body_mass_g</th>\n",
       "      <th>sex</th>\n",
       "    </tr>\n",
       "  </thead>\n",
       "  <tbody>\n",
       "    <tr>\n",
       "      <th>0</th>\n",
       "      <td>Adelie</td>\n",
       "      <td>Torgersen</td>\n",
       "      <td>39.1</td>\n",
       "      <td>18.7</td>\n",
       "      <td>181.0</td>\n",
       "      <td>3750.0</td>\n",
       "      <td>Male</td>\n",
       "    </tr>\n",
       "    <tr>\n",
       "      <th>1</th>\n",
       "      <td>Adelie</td>\n",
       "      <td>Torgersen</td>\n",
       "      <td>39.5</td>\n",
       "      <td>17.4</td>\n",
       "      <td>186.0</td>\n",
       "      <td>3800.0</td>\n",
       "      <td>Female</td>\n",
       "    </tr>\n",
       "    <tr>\n",
       "      <th>2</th>\n",
       "      <td>Adelie</td>\n",
       "      <td>Torgersen</td>\n",
       "      <td>40.3</td>\n",
       "      <td>18.0</td>\n",
       "      <td>195.0</td>\n",
       "      <td>3250.0</td>\n",
       "      <td>Female</td>\n",
       "    </tr>\n",
       "  </tbody>\n",
       "</table>\n",
       "</div>"
      ],
      "text/plain": [
       "  species     island  bill_length_mm  bill_depth_mm  flipper_length_mm  \\\n",
       "0  Adelie  Torgersen            39.1           18.7              181.0   \n",
       "1  Adelie  Torgersen            39.5           17.4              186.0   \n",
       "2  Adelie  Torgersen            40.3           18.0              195.0   \n",
       "\n",
       "   body_mass_g     sex  \n",
       "0       3750.0    Male  \n",
       "1       3800.0  Female  \n",
       "2       3250.0  Female  "
      ]
     },
     "execution_count": 30,
     "metadata": {},
     "output_type": "execute_result"
    }
   ],
   "source": [
    "df.head(3)"
   ]
  },
  {
   "cell_type": "markdown",
   "metadata": {},
   "source": [
    "#### Return a summary of the DataFrame:"
   ]
  },
  {
   "cell_type": "code",
   "execution_count": 31,
   "metadata": {},
   "outputs": [
    {
     "name": "stdout",
     "output_type": "stream",
     "text": [
      "<class 'pandas.core.frame.DataFrame'>\n",
      "RangeIndex: 344 entries, 0 to 343\n",
      "Data columns (total 7 columns):\n",
      " #   Column             Non-Null Count  Dtype  \n",
      "---  ------             --------------  -----  \n",
      " 0   species            344 non-null    object \n",
      " 1   island             344 non-null    object \n",
      " 2   bill_length_mm     342 non-null    float64\n",
      " 3   bill_depth_mm      342 non-null    float64\n",
      " 4   flipper_length_mm  342 non-null    float64\n",
      " 5   body_mass_g        342 non-null    float64\n",
      " 6   sex                333 non-null    object \n",
      "dtypes: float64(4), object(3)\n",
      "memory usage: 18.9+ KB\n"
     ]
    }
   ],
   "source": [
    "df.info()"
   ]
  },
  {
   "cell_type": "markdown",
   "metadata": {},
   "source": [
    "#### ``Remove`` all rows with ``NULL`` values and Return a summary of the DataFrame:"
   ]
  },
  {
   "cell_type": "code",
   "execution_count": 32,
   "metadata": {},
   "outputs": [
    {
     "name": "stdout",
     "output_type": "stream",
     "text": [
      "<class 'pandas.core.frame.DataFrame'>\n",
      "Index: 333 entries, 0 to 343\n",
      "Data columns (total 7 columns):\n",
      " #   Column             Non-Null Count  Dtype  \n",
      "---  ------             --------------  -----  \n",
      " 0   species            333 non-null    object \n",
      " 1   island             333 non-null    object \n",
      " 2   bill_length_mm     333 non-null    float64\n",
      " 3   bill_depth_mm      333 non-null    float64\n",
      " 4   flipper_length_mm  333 non-null    float64\n",
      " 5   body_mass_g        333 non-null    float64\n",
      " 6   sex                333 non-null    object \n",
      "dtypes: float64(4), object(3)\n",
      "memory usage: 20.8+ KB\n"
     ]
    }
   ],
   "source": [
    "df = df.dropna()\n",
    "df.info()"
   ]
  },
  {
   "cell_type": "markdown",
   "metadata": {},
   "source": [
    "#### What is the ``descriptive statistics`` for the features in the DataFrame at hand?"
   ]
  },
  {
   "cell_type": "code",
   "execution_count": 33,
   "metadata": {
    "colab": {
     "base_uri": "https://localhost:8080/",
     "height": 300
    },
    "executionInfo": {
     "elapsed": 329,
     "status": "ok",
     "timestamp": 1678809604670,
     "user": {
      "displayName": "Richard Thames",
      "userId": "00258987493291873022"
     },
     "user_tz": -180
    },
    "id": "PWM--8NpBWvU",
    "outputId": "7d51785a-328e-4f1b-c982-ed815aad7bb9"
   },
   "outputs": [
    {
     "data": {
      "text/html": [
       "<div>\n",
       "<style scoped>\n",
       "    .dataframe tbody tr th:only-of-type {\n",
       "        vertical-align: middle;\n",
       "    }\n",
       "\n",
       "    .dataframe tbody tr th {\n",
       "        vertical-align: top;\n",
       "    }\n",
       "\n",
       "    .dataframe thead th {\n",
       "        text-align: right;\n",
       "    }\n",
       "</style>\n",
       "<table border=\"1\" class=\"dataframe\">\n",
       "  <thead>\n",
       "    <tr style=\"text-align: right;\">\n",
       "      <th></th>\n",
       "      <th>bill_length_mm</th>\n",
       "      <th>bill_depth_mm</th>\n",
       "      <th>flipper_length_mm</th>\n",
       "      <th>body_mass_g</th>\n",
       "    </tr>\n",
       "  </thead>\n",
       "  <tbody>\n",
       "    <tr>\n",
       "      <th>count</th>\n",
       "      <td>333.000000</td>\n",
       "      <td>333.000000</td>\n",
       "      <td>333.000000</td>\n",
       "      <td>333.000000</td>\n",
       "    </tr>\n",
       "    <tr>\n",
       "      <th>mean</th>\n",
       "      <td>43.992793</td>\n",
       "      <td>17.164865</td>\n",
       "      <td>200.966967</td>\n",
       "      <td>4207.057057</td>\n",
       "    </tr>\n",
       "    <tr>\n",
       "      <th>std</th>\n",
       "      <td>5.468668</td>\n",
       "      <td>1.969235</td>\n",
       "      <td>14.015765</td>\n",
       "      <td>805.215802</td>\n",
       "    </tr>\n",
       "    <tr>\n",
       "      <th>min</th>\n",
       "      <td>32.100000</td>\n",
       "      <td>13.100000</td>\n",
       "      <td>172.000000</td>\n",
       "      <td>2700.000000</td>\n",
       "    </tr>\n",
       "    <tr>\n",
       "      <th>25%</th>\n",
       "      <td>39.500000</td>\n",
       "      <td>15.600000</td>\n",
       "      <td>190.000000</td>\n",
       "      <td>3550.000000</td>\n",
       "    </tr>\n",
       "    <tr>\n",
       "      <th>50%</th>\n",
       "      <td>44.500000</td>\n",
       "      <td>17.300000</td>\n",
       "      <td>197.000000</td>\n",
       "      <td>4050.000000</td>\n",
       "    </tr>\n",
       "    <tr>\n",
       "      <th>75%</th>\n",
       "      <td>48.600000</td>\n",
       "      <td>18.700000</td>\n",
       "      <td>213.000000</td>\n",
       "      <td>4775.000000</td>\n",
       "    </tr>\n",
       "    <tr>\n",
       "      <th>max</th>\n",
       "      <td>59.600000</td>\n",
       "      <td>21.500000</td>\n",
       "      <td>231.000000</td>\n",
       "      <td>6300.000000</td>\n",
       "    </tr>\n",
       "  </tbody>\n",
       "</table>\n",
       "</div>"
      ],
      "text/plain": [
       "       bill_length_mm  bill_depth_mm  flipper_length_mm  body_mass_g\n",
       "count      333.000000     333.000000         333.000000   333.000000\n",
       "mean        43.992793      17.164865         200.966967  4207.057057\n",
       "std          5.468668       1.969235          14.015765   805.215802\n",
       "min         32.100000      13.100000         172.000000  2700.000000\n",
       "25%         39.500000      15.600000         190.000000  3550.000000\n",
       "50%         44.500000      17.300000         197.000000  4050.000000\n",
       "75%         48.600000      18.700000         213.000000  4775.000000\n",
       "max         59.600000      21.500000         231.000000  6300.000000"
      ]
     },
     "execution_count": 33,
     "metadata": {},
     "output_type": "execute_result"
    }
   ],
   "source": [
    "# Check the Descriptive Statistics\n",
    "\n",
    "df.describe()"
   ]
  },
  {
   "cell_type": "markdown",
   "metadata": {},
   "source": [
    "#### What is the ``standard deviation (std)`` of the bill length (in millimeters) in the DataFrame at hand?"
   ]
  },
  {
   "cell_type": "code",
   "execution_count": 34,
   "metadata": {
    "colab": {
     "base_uri": "https://localhost:8080/"
    },
    "executionInfo": {
     "elapsed": 243,
     "status": "ok",
     "timestamp": 1678809607490,
     "user": {
      "displayName": "Richard Thames",
      "userId": "00258987493291873022"
     },
     "user_tz": -180
    },
    "id": "fzUHYJcihwz7",
    "outputId": "e4a63aa0-9176-431b-a9fc-533e3c3ff50e"
   },
   "outputs": [
    {
     "data": {
      "text/plain": [
       "5.468668342647562"
      ]
     },
     "execution_count": 34,
     "metadata": {},
     "output_type": "execute_result"
    }
   ],
   "source": [
    "df.bill_length_mm.std()"
   ]
  },
  {
   "cell_type": "markdown",
   "metadata": {},
   "source": [
    "#### What is the ``average value (mean)`` of the bill length (in millimeters) in the DataFrame at hand?"
   ]
  },
  {
   "cell_type": "code",
   "execution_count": 35,
   "metadata": {
    "colab": {
     "base_uri": "https://localhost:8080/"
    },
    "executionInfo": {
     "elapsed": 243,
     "status": "ok",
     "timestamp": 1678809609475,
     "user": {
      "displayName": "Richard Thames",
      "userId": "00258987493291873022"
     },
     "user_tz": -180
    },
    "id": "0jhg8RSah2G0",
    "outputId": "233d7b22-896f-4115-f385-b670b7f82923"
   },
   "outputs": [
    {
     "data": {
      "text/plain": [
       "43.99279279279279"
      ]
     },
     "execution_count": 35,
     "metadata": {},
     "output_type": "execute_result"
    }
   ],
   "source": [
    "df.bill_length_mm.mean()"
   ]
  },
  {
   "cell_type": "markdown",
   "metadata": {},
   "source": [
    "#### What is the ``minimum value (min)`` of the bill length (in millimeters) in the DataFrame at hand?"
   ]
  },
  {
   "cell_type": "code",
   "execution_count": 36,
   "metadata": {
    "colab": {
     "base_uri": "https://localhost:8080/"
    },
    "executionInfo": {
     "elapsed": 231,
     "status": "ok",
     "timestamp": 1678809611882,
     "user": {
      "displayName": "Richard Thames",
      "userId": "00258987493291873022"
     },
     "user_tz": -180
    },
    "id": "qef8z3fTh6a8",
    "outputId": "70c7d892-0d78-49dd-f450-8cfec3c386b2"
   },
   "outputs": [
    {
     "data": {
      "text/plain": [
       "32.1"
      ]
     },
     "execution_count": 36,
     "metadata": {},
     "output_type": "execute_result"
    }
   ],
   "source": [
    "df.bill_length_mm.min()"
   ]
  },
  {
   "cell_type": "markdown",
   "metadata": {},
   "source": [
    "#### What is the ``mid value (median)`` of the bill length (in millimeters) in the DataFrame at hand?"
   ]
  },
  {
   "cell_type": "code",
   "execution_count": 37,
   "metadata": {},
   "outputs": [
    {
     "data": {
      "text/plain": [
       "44.5"
      ]
     },
     "execution_count": 37,
     "metadata": {},
     "output_type": "execute_result"
    }
   ],
   "source": [
    "df.bill_length_mm.median()"
   ]
  },
  {
   "cell_type": "code",
   "execution_count": 38,
   "metadata": {
    "colab": {
     "base_uri": "https://localhost:8080/"
    },
    "executionInfo": {
     "elapsed": 5,
     "status": "ok",
     "timestamp": 1678809613550,
     "user": {
      "displayName": "Richard Thames",
      "userId": "00258987493291873022"
     },
     "user_tz": -180
    },
    "id": "jrH7h5ioh_im",
    "outputId": "69878054-aad9-4a70-a759-cc6d7ef2540e"
   },
   "outputs": [
    {
     "data": {
      "text/plain": [
       "44.5"
      ]
     },
     "execution_count": 38,
     "metadata": {},
     "output_type": "execute_result"
    }
   ],
   "source": [
    "df.bill_length_mm.quantile(0.5)"
   ]
  },
  {
   "cell_type": "markdown",
   "metadata": {},
   "source": [
    "#### What is the value of the ``first quartile (Q1)`` for the bill length (in millimeters) in the DataFrame at hand?"
   ]
  },
  {
   "cell_type": "code",
   "execution_count": 39,
   "metadata": {
    "colab": {
     "base_uri": "https://localhost:8080/"
    },
    "executionInfo": {
     "elapsed": 304,
     "status": "ok",
     "timestamp": 1678809615866,
     "user": {
      "displayName": "Richard Thames",
      "userId": "00258987493291873022"
     },
     "user_tz": -180
    },
    "id": "fCvq5hGxiTmm",
    "outputId": "953be98b-88d1-4d79-cb0d-8a67319e5e0e"
   },
   "outputs": [
    {
     "data": {
      "text/plain": [
       "39.5"
      ]
     },
     "execution_count": 39,
     "metadata": {},
     "output_type": "execute_result"
    }
   ],
   "source": [
    "df.bill_length_mm.quantile(0.25)"
   ]
  },
  {
   "cell_type": "markdown",
   "metadata": {},
   "source": [
    "#### What is the count of each gender in the \"sex\" column of DataFrame at hand, and how are they visualized using a count plot?"
   ]
  },
  {
   "cell_type": "code",
   "execution_count": 40,
   "metadata": {
    "colab": {
     "base_uri": "https://localhost:8080/",
     "height": 279
    },
    "executionInfo": {
     "elapsed": 1207,
     "status": "ok",
     "timestamp": 1678809623902,
     "user": {
      "displayName": "Richard Thames",
      "userId": "00258987493291873022"
     },
     "user_tz": -180
    },
    "id": "nlt3TBLqhptU",
    "outputId": "000e1485-6ccd-4b38-fdeb-af5a1e108615"
   },
   "outputs": [
    {
     "data": {
      "image/png": "[encoded data removed]",
      "text/plain": [
       "<Figure size 640x480 with 1 Axes>"
      ]
     },
     "metadata": {},
     "output_type": "display_data"
    }
   ],
   "source": [
    "sns.countplot(x=\"sex\", data=df);"
   ]
  },
  {
   "cell_type": "markdown",
   "metadata": {},
   "source": [
    "#### What is the count of penguins observed on each island in the DataFrame at hand, and how are they visualized using a count plot?"
   ]
  },
  {
   "cell_type": "code",
   "execution_count": 41,
   "metadata": {
    "colab": {
     "base_uri": "https://localhost:8080/",
     "height": 279
    },
    "executionInfo": {
     "elapsed": 511,
     "status": "ok",
     "timestamp": 1678809626704,
     "user": {
      "displayName": "Richard Thames",
      "userId": "00258987493291873022"
     },
     "user_tz": -180
    },
    "id": "gI3o2LtQh9yB",
    "outputId": "9c4af451-5604-4ccb-b7b5-0c39befc0ab2",
    "scrolled": false
   },
   "outputs": [
    {
     "data": {
      "image/png": "[encoded data removed]",
      "text/plain": [
       "<Figure size 640x480 with 1 Axes>"
      ]
     },
     "metadata": {},
     "output_type": "display_data"
    }
   ],
   "source": [
    "sns.countplot(x=\"island\", data=df);"
   ]
  },
  {
   "cell_type": "markdown",
   "metadata": {},
   "source": [
    "#### What is the count of penguins belonging to each species in the DataFrame at hand, and how are they visualized using a count plot?"
   ]
  },
  {
   "cell_type": "code",
   "execution_count": 42,
   "metadata": {
    "colab": {
     "base_uri": "https://localhost:8080/",
     "height": 279
    },
    "executionInfo": {
     "elapsed": 1009,
     "status": "ok",
     "timestamp": 1678809630343,
     "user": {
      "displayName": "Richard Thames",
      "userId": "00258987493291873022"
     },
     "user_tz": -180
    },
    "id": "U2QbkxhSiCgW",
    "outputId": "d3a5475f-5978-473d-fef8-725b06454b22",
    "scrolled": false
   },
   "outputs": [
    {
     "data": {
      "image/png": "[encoded data removed]",
      "text/plain": [
       "<Figure size 640x480 with 1 Axes>"
      ]
     },
     "metadata": {},
     "output_type": "display_data"
    }
   ],
   "source": [
    "sns.countplot(x=\"species\", data=df);"
   ]
  },
  {
   "cell_type": "markdown",
   "metadata": {},
   "source": [
    "#### What is the ``average`` body mass (in grams) of male and female penguins in the DataFrame at hand, and how are they compared using a bar plot?"
   ]
  },
  {
   "cell_type": "code",
   "execution_count": 43,
   "metadata": {
    "colab": {
     "base_uri": "https://localhost:8080/",
     "height": 279
    },
    "executionInfo": {
     "elapsed": 1140,
     "status": "ok",
     "timestamp": 1678809634676,
     "user": {
      "displayName": "Richard Thames",
      "userId": "00258987493291873022"
     },
     "user_tz": -180
    },
    "id": "-VgPFXKsiJIc",
    "outputId": "b438d6b2-b8a0-4c4d-9bbf-784d7f9eab24",
    "scrolled": false
   },
   "outputs": [
    {
     "data": {
      "image/png": "[encoded data removed]",
      "text/plain": [
       "<Figure size 640x480 with 1 Axes>"
      ]
     },
     "metadata": {},
     "output_type": "display_data"
    }
   ],
   "source": [
    "sns.barplot(x=\"sex\", y =\"body_mass_g\", data = df);"
   ]
  },
  {
   "cell_type": "markdown",
   "metadata": {},
   "source": [
    "#### What is the ``distribution`` of body mass (in grams) of penguins in the DataFrame at hand, and how is it visualized using a histogram?"
   ]
  },
  {
   "cell_type": "code",
   "execution_count": 44,
   "metadata": {
    "colab": {
     "base_uri": "https://localhost:8080/",
     "height": 280
    },
    "executionInfo": {
     "elapsed": 409,
     "status": "ok",
     "timestamp": 1678809637363,
     "user": {
      "displayName": "Richard Thames",
      "userId": "00258987493291873022"
     },
     "user_tz": -180
    },
    "id": "IHbqVjq9iiyg",
    "outputId": "775a9089-49df-49d2-c8b8-09143c445ab0"
   },
   "outputs": [
    {
     "data": {
      "image/png": "[encoded data removed]",
      "text/plain": [
       "<Figure size 640x480 with 1 Axes>"
      ]
     },
     "metadata": {},
     "output_type": "display_data"
    }
   ],
   "source": [
    "sns.histplot(x=\"body_mass_g\", data =df);"
   ]
  },
  {
   "cell_type": "markdown",
   "metadata": {},
   "source": [
    "#### What is the ``distribution`` of body mass (in grams) of penguins in the DataFrame at hand, and how is it visualized using a box plot?"
   ]
  },
  {
   "cell_type": "code",
   "execution_count": 45,
   "metadata": {},
   "outputs": [
    {
     "name": "stdout",
     "output_type": "stream",
     "text": [
      "Q1 (25th percentile): 3550.0\n",
      "Q3 (75th percentile): 4775.0\n",
      "Minimum Value: 2700.0\n",
      "Median Value: 4050.0\n",
      "Maximum Value: 6300.0\n"
     ]
    },
    {
     "data": {
      "image/png": "[encoded data removed]",
      "text/plain": [
       "<Figure size 900x400 with 1 Axes>"
      ]
     },
     "metadata": {},
     "output_type": "display_data"
    }
   ],
   "source": [
    "# Step 1: Calculate statistics\n",
    "q1, q3 = np.percentile(df[\"body_mass_g\"], [25, 75])\n",
    "min_value = np.min(df[\"body_mass_g\"])\n",
    "median_value = np.median(df[\"body_mass_g\"])\n",
    "max_value = np.max(df[\"body_mass_g\"])\n",
    "\n",
    "# Step 2: Display results using f-strings\n",
    "print(f\"Q1 (25th percentile): {q1}\")\n",
    "print(f\"Q3 (75th percentile): {q3}\")\n",
    "print(f\"Minimum Value: {min_value}\")\n",
    "print(f\"Median Value: {median_value}\")\n",
    "print(f\"Maximum Value: {max_value}\")\n",
    "\n",
    "# Step 3: Create the boxplot\n",
    "plt.figure(figsize=(9, 4))\n",
    "sns.boxplot(x=\"body_mass_g\", data=df)\n",
    "plt.title('Boxplot of Body Mass')\n",
    "plt.xlabel('Body Mass (g)')\n",
    "\n",
    "# Show the plot\n",
    "plt.tight_layout()\n",
    "plt.show()"
   ]
  },
  {
   "cell_type": "code",
   "execution_count": 46,
   "metadata": {},
   "outputs": [
    {
     "data": {
      "image/png": "[encoded data removed]",
      "text/plain": [
       "<Figure size 900x400 with 1 Axes>"
      ]
     },
     "metadata": {},
     "output_type": "display_data"
    }
   ],
   "source": [
    "# Step 3: Create the boxplot\n",
    "plt.figure(figsize=(9, 4))\n",
    "sns.boxplot(x=\"body_mass_g\", data=df, whis=1)\n",
    "plt.title('Boxplot of Body Mass')\n",
    "plt.xlabel('Body Mass (g)')\n",
    "\n",
    "# Show the plot\n",
    "plt.tight_layout()\n",
    "plt.show()"
   ]
  },
  {
   "cell_type": "code",
   "execution_count": 47,
   "metadata": {},
   "outputs": [
    {
     "name": "stdout",
     "output_type": "stream",
     "text": [
      "Q1: 3550.0, Q3: 4775.0, IQR: 1225.0\n",
      "Lower Fence: 2325.0, Upper Fence: 6000.0\n",
      "Min Value: 2700.0, Max Value: 6300.0\n"
     ]
    },
    {
     "data": {
      "image/png": "[encoded data removed]",
      "text/plain": [
       "<Figure size 900x400 with 1 Axes>"
      ]
     },
     "metadata": {},
     "output_type": "display_data"
    }
   ],
   "source": [
    "# Step 1: Calculate Q1, Q3, and IQR\n",
    "q1 = df['body_mass_g'].quantile(0.25)\n",
    "q3 = df['body_mass_g'].quantile(0.75)\n",
    "iqr = q3 - q1\n",
    "\n",
    "# Calculate Tukey's fences\n",
    "lower_fence = q1 - 1 * iqr\n",
    "upper_fence = q3 + 1 * iqr\n",
    "\n",
    "# Calculate min and max values\n",
    "min_value = df['body_mass_g'].min()\n",
    "max_value = df['body_mass_g'].max()\n",
    "\n",
    "# Print the Tukey's fence values, min, and max values\n",
    "print(f\"Q1: {q1}, Q3: {q3}, IQR: {iqr}\")\n",
    "print(f\"Lower Fence: {lower_fence}, Upper Fence: {upper_fence}\")\n",
    "print(f\"Min Value: {min_value}, Max Value: {max_value}\")\n",
    "\n",
    "# Step 2: Create the boxplot\n",
    "plt.figure(figsize=(9, 4))\n",
    "sns.boxplot(x='body_mass_g', data=df)\n",
    "\n",
    "# Highlight outliers based on Tukey's fences\n",
    "outliers = df[(df['body_mass_g'] < lower_fence) | (df['body_mass_g'] > upper_fence)]\n",
    "plt.scatter(outliers['body_mass_g'], [0] * len(outliers), color='red', label='Outliers', zorder=5)\n",
    "\n",
    "# Add vertical lines for lower and upper fences\n",
    "plt.axvline(x=lower_fence, color='red', linestyle='--', label='Lower Fence')\n",
    "plt.axvline(x=upper_fence, color='green', linestyle='--', label='Upper Fence')\n",
    "\n",
    "# Add titles and labels\n",
    "plt.title('Boxplot of Body Mass with Tukey\\'s Fences')\n",
    "plt.xlabel('Body Mass (g)')\n",
    "\n",
    "# Position the legend outside the figure at the top right\n",
    "plt.legend(loc='upper left', bbox_to_anchor=(1, 1))\n",
    "\n",
    "# Show the plot\n",
    "plt.tight_layout()\n",
    "plt.show()"
   ]
  },
  {
   "cell_type": "markdown",
   "metadata": {},
   "source": [
    "#### What is the ``distribution`` of body mass (in grams) of male and female penguins in the DataFrame at hand, and how is it visualized using a box plot that compares the two genders side by side?"
   ]
  },
  {
   "cell_type": "code",
   "execution_count": 72,
   "metadata": {},
   "outputs": [
    {
     "name": "stdout",
     "output_type": "stream",
     "text": [
      "Male Statistics:\n",
      "  Q1 (25th percentile): 3900.0\n",
      "  Q3 (75th percentile): 5312.5\n",
      "  IQR: 1412.5\n",
      "  Minimum Value: 3250.0\n",
      "  Median Value: 4300.0\n",
      "  Maximum Value: 6300.0\n",
      "  Lower Fence: 3193.75, Upper Fence: 6018.75\n",
      "\n",
      "Female Statistics:\n",
      "  Q1 (25th percentile): 3350.0\n",
      "  Q3 (75th percentile): 4550.0\n",
      "  IQR: 1200.0\n",
      "  Minimum Value: 2700.0\n",
      "  Median Value: 3650.0\n",
      "  Maximum Value: 5200.0\n",
      "  Lower Fence: 2750.0, Upper Fence: 5150.0\n",
      "\n"
     ]
    },
    {
     "data": {
      "image/png": "[encoded data removed]",
      "text/plain": [
       "<Figure size 900x400 with 1 Axes>"
      ]
     },
     "metadata": {},
     "output_type": "display_data"
    }
   ],
   "source": [
    "import pandas as pd\n",
    "import numpy as np\n",
    "import seaborn as sns\n",
    "import matplotlib.pyplot as plt\n",
    "\n",
    "# Load the penguins dataset\n",
    "df = sns.load_dataset(\"penguins\")\n",
    "\n",
    "# Drop rows with missing values in 'body_mass_g' and 'sex'\n",
    "df = df.dropna(subset=['body_mass_g', 'sex'])\n",
    "\n",
    "# Initialize a dictionary to store Tukey's fences\n",
    "tukey_fences = {}\n",
    "\n",
    "# Step 1: Calculate statistics and Tukey's fences for each sex group\n",
    "for sex in df['sex'].unique():\n",
    "    group_data = df[df['sex'] == sex]['body_mass_g']\n",
    "    \n",
    "    # Calculate statistics\n",
    "    q1, q3 = np.percentile(group_data, [25, 75])\n",
    "    iqr = q3 - q1  # Calculate IQR\n",
    "    min_value = np.min(group_data)\n",
    "    median_value = np.median(group_data)\n",
    "    max_value = np.max(group_data)\n",
    "    \n",
    "    # Calculate Tukey's fences\n",
    "    lower_fence = q1 - 0.5 * iqr\n",
    "    upper_fence = q3 + 0.5 * iqr\n",
    "    \n",
    "    tukey_fences[sex] = (lower_fence, upper_fence)\n",
    "\n",
    "    # Print statistics\n",
    "    print(f\"{sex.capitalize()} Statistics:\")\n",
    "    print(f\"  Q1 (25th percentile): {q1}\")\n",
    "    print(f\"  Q3 (75th percentile): {q3}\")\n",
    "    print(f\"  IQR: {iqr}\")\n",
    "    print(f\"  Minimum Value: {min_value}\")\n",
    "    print(f\"  Median Value: {median_value}\")\n",
    "    print(f\"  Maximum Value: {max_value}\")\n",
    "    print(f\"  Lower Fence: {lower_fence}, Upper Fence: {upper_fence}\\n\")\n",
    "\n",
    "# Step 2: Create the boxplot\n",
    "plt.figure(figsize=(9, 4))\n",
    "sns.boxplot(x='body_mass_g', y='sex', data=df)\n",
    "\n",
    "# Highlight outliers based on Tukey's fences and add vertical lines\n",
    "for sex, (lower_fence, upper_fence) in tukey_fences.items():\n",
    "    outliers = df[(df['sex'] == sex) & ((df['body_mass_g'] < lower_fence) | (df['body_mass_g'] > upper_fence))]\n",
    "    plt.scatter(outliers['body_mass_g'], [sex] * len(outliers), color='red', label='Outliers', zorder=5)\n",
    "    \n",
    "    # Add vertical lines for lower and upper fences\n",
    "    plt.axvline(x=lower_fence, color='red', linestyle='--', label=f'{sex.capitalize()} Lower Fence')\n",
    "    plt.axvline(x=upper_fence, color='green', linestyle='--', label=f'{sex.capitalize()} Upper Fence')\n",
    "\n",
    "    # Annotate lower and upper fence values on the plot\n",
    "    y_offset = 0.1  # Adjust this value for more/less vertical spacing\n",
    "    plt.text(lower_fence, 0.3 + y_offset if sex == 'male' else 0.3 + y_offset, \n",
    "             f'Lower: {lower_fence:.0f}', color='red', ha='center', va='top', fontsize=9)\n",
    "    plt.text(upper_fence, 0.5 + y_offset if sex == 'male' else 0.5 + y_offset, \n",
    "             f'Upper: {upper_fence:.0f}', color='green', ha='center', va='top', fontsize=9)\n",
    "\n",
    "# Add titles and labels\n",
    "plt.title('Boxplot of Body Mass by Sex with Tukey\\'s Fences')\n",
    "plt.xlabel('Body Mass (g)')\n",
    "plt.ylabel('')  # Remove label for y-axis\n",
    "\n",
    "# Remove y-ticks and y-axis\n",
    "plt.yticks([])\n",
    "\n",
    "# Position the legend outside the figure at the top right with smaller font size\n",
    "plt.legend(loc='upper left', bbox_to_anchor=(1, 1), fontsize=8)\n",
    "\n",
    "# Show the plot\n",
    "plt.tight_layout()\n",
    "plt.show()"
   ]
  },
  {
   "cell_type": "code",
   "execution_count": 70,
   "metadata": {},
   "outputs": [
    {
     "data": {
      "image/png": "[encoded data removed]",
      "text/plain": [
       "<Figure size 900x400 with 1 Axes>"
      ]
     },
     "metadata": {},
     "output_type": "display_data"
    }
   ],
   "source": [
    "# Step 3: Create the boxplot\n",
    "plt.figure(figsize=(9, 4))\n",
    "sns.boxplot(x=\"body_mass_g\", y=\"sex\", data=df, whis=0.5)\n",
    "plt.title('Boxplot of Body Mass')\n",
    "plt.xlabel('Body Mass (g)')\n",
    "\n",
    "# Show the plot\n",
    "plt.tight_layout()\n",
    "plt.show()"
   ]
  },
  {
   "cell_type": "markdown",
   "metadata": {},
   "source": [
    "## <p style=\"background-color:#E51A59; font-family:newtimeroman; color:#FFF9ED; font-size:175%; text-align:center; border-radius:10px 10px;\">Time to Enjoy! It's your turn:</p>\n",
    "\n",
    "<!-- <img src=\"your_turn2.gif\" width=\"400\" align=\"center\"> -->\n",
    "\n",
    "<p style=\"text-align: center;\"><img src=\"https://i.ibb.co/84zhNnV/your-turn2.gif\" class=\"img-fluid\" alt=\"It's your turn\" width=\"400\" height=\"200\"></p>\n",
    "\n",
    "\n",
    "**In this example, we will generate a dataset of 1000 hypothetical customers with four variables: age, income, spending, and loyalty.**"
   ]
  },
  {
   "cell_type": "markdown",
   "metadata": {},
   "source": [
    "### ``Diamonds`` Dataset:"
   ]
  },
  {
   "cell_type": "markdown",
   "metadata": {},
   "source": [
    "#### Download \"diamonds\" dataset in Seaborn and assign it to an object named \"df\":"
   ]
  },
  {
   "cell_type": "code",
   "execution_count": 49,
   "metadata": {
    "id": "Z184ioGSC_31"
   },
   "outputs": [],
   "source": [
    "# YOUR CODE IS HERE\n",
    "\n"
   ]
  },
  {
   "cell_type": "markdown",
   "metadata": {},
   "source": [
    "#### Check the first 5 observations in the DataFrame:"
   ]
  },
  {
   "cell_type": "code",
   "execution_count": 50,
   "metadata": {
    "colab": {
     "base_uri": "https://localhost:8080/",
     "height": 206
    },
    "executionInfo": {
     "elapsed": 529,
     "status": "ok",
     "timestamp": 1678812947267,
     "user": {
      "displayName": "Richard Thames",
      "userId": "00258987493291873022"
     },
     "user_tz": -180
    },
    "id": "wNYfyYCFDH-d",
    "outputId": "576621be-a956-41eb-81c4-24755a556c12"
   },
   "outputs": [],
   "source": [
    "# YOUR CODE IS HERE\n",
    "\n"
   ]
  },
  {
   "cell_type": "markdown",
   "metadata": {},
   "source": [
    "#### Return a summary of the DataFrame:"
   ]
  },
  {
   "cell_type": "code",
   "execution_count": 51,
   "metadata": {},
   "outputs": [],
   "source": [
    "# YOUR CODE IS HERE\n",
    "\n"
   ]
  },
  {
   "cell_type": "markdown",
   "metadata": {},
   "source": [
    "#### Remove all rows with NULL values and Return a summary of the DataFrame:"
   ]
  },
  {
   "cell_type": "code",
   "execution_count": 52,
   "metadata": {},
   "outputs": [],
   "source": [
    "# YOUR CODE IS HERE\n",
    "\n"
   ]
  },
  {
   "cell_type": "markdown",
   "metadata": {},
   "source": [
    "#### What is the most common and rare diamond cut tpyes? Visually analyze cut type."
   ]
  },
  {
   "cell_type": "code",
   "execution_count": 53,
   "metadata": {
    "colab": {
     "base_uri": "https://localhost:8080/",
     "height": 279
    },
    "executionInfo": {
     "elapsed": 712,
     "status": "ok",
     "timestamp": 1678812972337,
     "user": {
      "displayName": "Richard Thames",
      "userId": "00258987493291873022"
     },
     "user_tz": -180
    },
    "id": "u9NMYNGiDNVv",
    "outputId": "6530beba-0dbe-4e3d-ea41-8ca45c91bc3e"
   },
   "outputs": [],
   "source": [
    "# YOUR CODE IS HERE\n",
    "\n"
   ]
  },
  {
   "cell_type": "markdown",
   "metadata": {},
   "source": [
    "#### Which diamond cut type is the most expensive and which one is the cheapest as average? Visually analyze cut type."
   ]
  },
  {
   "cell_type": "code",
   "execution_count": 54,
   "metadata": {
    "colab": {
     "base_uri": "https://localhost:8080/",
     "height": 279
    },
    "executionInfo": {
     "elapsed": 1601,
     "status": "ok",
     "timestamp": 1678813005673,
     "user": {
      "displayName": "Richard Thames",
      "userId": "00258987493291873022"
     },
     "user_tz": -180
    },
    "id": "2BO-8eQdDTzu",
    "outputId": "19b773fb-f3b0-4df6-9b94-609c3db47f12"
   },
   "outputs": [],
   "source": [
    "# YOUR CODE IS HERE\n",
    "\n"
   ]
  },
  {
   "cell_type": "markdown",
   "metadata": {},
   "source": [
    "#### What is the distribution of price?  Visually analyze price."
   ]
  },
  {
   "cell_type": "code",
   "execution_count": 55,
   "metadata": {
    "colab": {
     "base_uri": "https://localhost:8080/",
     "height": 279
    },
    "executionInfo": {
     "elapsed": 934,
     "status": "ok",
     "timestamp": 1678813124901,
     "user": {
      "displayName": "Richard Thames",
      "userId": "00258987493291873022"
     },
     "user_tz": -180
    },
    "id": "QDDXEH-oDqGP",
    "outputId": "cdfdaeba-10b5-4682-db1b-48e03c1b0138"
   },
   "outputs": [],
   "source": [
    "# YOUR CODE IS HERE\n",
    "\n"
   ]
  },
  {
   "cell_type": "markdown",
   "metadata": {},
   "source": [
    "#### What is the median value for price? Visually analyze price."
   ]
  },
  {
   "cell_type": "code",
   "execution_count": 56,
   "metadata": {
    "colab": {
     "base_uri": "https://localhost:8080/",
     "height": 279
    },
    "executionInfo": {
     "elapsed": 271,
     "status": "ok",
     "timestamp": 1678813185238,
     "user": {
      "displayName": "Richard Thames",
      "userId": "00258987493291873022"
     },
     "user_tz": -180
    },
    "id": "DQzqlg4-D3LH",
    "outputId": "89d5d56f-0097-48ce-9d06-9603f7901d9f"
   },
   "outputs": [],
   "source": [
    "# YOUR CODE IS HERE\n",
    "\n"
   ]
  },
  {
   "cell_type": "markdown",
   "metadata": {},
   "source": [
    "#### What is the median price in each ideal cut type? Visually analyze cut types."
   ]
  },
  {
   "cell_type": "code",
   "execution_count": 57,
   "metadata": {
    "colab": {
     "base_uri": "https://localhost:8080/",
     "height": 279
    },
    "executionInfo": {
     "elapsed": 448,
     "status": "ok",
     "timestamp": 1678813246035,
     "user": {
      "displayName": "Richard Thames",
      "userId": "00258987493291873022"
     },
     "user_tz": -180
    },
    "id": "tztS8s9JEHAY",
    "outputId": "07cf4cdf-e0e1-47b0-f0a2-72a7a587c266"
   },
   "outputs": [],
   "source": [
    "# YOUR CODE IS HERE\n",
    "\n"
   ]
  },
  {
   "cell_type": "markdown",
   "metadata": {},
   "source": [
    "### ``Taxis`` Dataset:"
   ]
  },
  {
   "cell_type": "markdown",
   "metadata": {},
   "source": [
    "#### Download \"taxis\" dataset in Seaborn and assign it to an object named \"df\":"
   ]
  },
  {
   "cell_type": "code",
   "execution_count": 58,
   "metadata": {
    "executionInfo": {
     "elapsed": 1964,
     "status": "ok",
     "timestamp": 1682672184770,
     "user": {
      "displayName": "Richard Thames",
      "userId": "00258987493291873022"
     },
     "user_tz": -180
    },
    "id": "-TJFnNLoDu_P"
   },
   "outputs": [],
   "source": [
    "# YOUR CODE IS HERE\n",
    "\n"
   ]
  },
  {
   "cell_type": "markdown",
   "metadata": {},
   "source": [
    "#### Check the first 3 observations in the DataFrame:"
   ]
  },
  {
   "cell_type": "code",
   "execution_count": 59,
   "metadata": {
    "colab": {
     "base_uri": "https://localhost:8080/",
     "height": 239
    },
    "executionInfo": {
     "elapsed": 277,
     "status": "ok",
     "timestamp": 1682672206317,
     "user": {
      "displayName": "Richard Thames",
      "userId": "00258987493291873022"
     },
     "user_tz": -180
    },
    "id": "MN2xUe8zE8VR",
    "outputId": "fca5ea5d-e28a-4863-fe9c-706f7bf03e45"
   },
   "outputs": [],
   "source": [
    "# YOUR CODE IS HERE\n",
    "\n"
   ]
  },
  {
   "cell_type": "markdown",
   "metadata": {},
   "source": [
    "#### Return a summary of the DataFrame:"
   ]
  },
  {
   "cell_type": "code",
   "execution_count": 60,
   "metadata": {},
   "outputs": [],
   "source": [
    "# YOUR CODE IS HERE\n",
    "\n"
   ]
  },
  {
   "cell_type": "markdown",
   "metadata": {},
   "source": [
    "#### Remove all rows with NULL values and Return a summary of the DataFrame:"
   ]
  },
  {
   "cell_type": "code",
   "execution_count": 61,
   "metadata": {
    "colab": {
     "base_uri": "https://localhost:8080/"
    },
    "executionInfo": {
     "elapsed": 5,
     "status": "ok",
     "timestamp": 1682672305762,
     "user": {
      "displayName": "Richard Thames",
      "userId": "00258987493291873022"
     },
     "user_tz": -180
    },
    "id": "wK4J5-d5FEXC",
    "outputId": "8fa43d5d-60ab-468e-b86c-288dd6117eb4"
   },
   "outputs": [],
   "source": [
    "# YOUR CODE IS HERE\n",
    "\n"
   ]
  },
  {
   "cell_type": "markdown",
   "metadata": {},
   "source": [
    "#### Check the unique values in the \"pickup_borough\" feature:"
   ]
  },
  {
   "cell_type": "code",
   "execution_count": 62,
   "metadata": {
    "colab": {
     "base_uri": "https://localhost:8080/"
    },
    "executionInfo": {
     "elapsed": 269,
     "status": "ok",
     "timestamp": 1682672311735,
     "user": {
      "displayName": "Richard Thames",
      "userId": "00258987493291873022"
     },
     "user_tz": -180
    },
    "id": "rjoExCt0FGWw",
    "outputId": "c05f4b9c-1b1c-4118-c438-2e5bb015d58b"
   },
   "outputs": [],
   "source": [
    "# YOUR CODE IS HERE\n",
    "\n"
   ]
  },
  {
   "cell_type": "markdown",
   "metadata": {
    "id": "6fyQqCutF4X1"
   },
   "source": [
    "#### What is the most common pickup_borough? Visually analyze pickup_borough."
   ]
  },
  {
   "cell_type": "code",
   "execution_count": 63,
   "metadata": {
    "colab": {
     "base_uri": "https://localhost:8080/",
     "height": 450
    },
    "executionInfo": {
     "elapsed": 471,
     "status": "ok",
     "timestamp": 1682672474510,
     "user": {
      "displayName": "Richard Thames",
      "userId": "00258987493291873022"
     },
     "user_tz": -180
    },
    "id": "bdsU5wMAF9gN",
    "outputId": "e12c979f-b811-407e-f925-9c439cda5cb4"
   },
   "outputs": [],
   "source": [
    "# YOUR CODE IS HERE\n",
    "\n"
   ]
  },
  {
   "cell_type": "markdown",
   "metadata": {
    "id": "5nLdJ0ljFTES"
   },
   "source": [
    "#### What is the avg tip in each pickup_borough or which city is best to get tips? Visually analyze it."
   ]
  },
  {
   "cell_type": "code",
   "execution_count": 64,
   "metadata": {
    "colab": {
     "base_uri": "https://localhost:8080/",
     "height": 450
    },
    "executionInfo": {
     "elapsed": 861,
     "status": "ok",
     "timestamp": 1682672518723,
     "user": {
      "displayName": "Richard Thames",
      "userId": "00258987493291873022"
     },
     "user_tz": -180
    },
    "id": "to-pUDXUGLR1",
    "outputId": "70d2b17c-15c5-42bf-d2ce-b2af1ed52094"
   },
   "outputs": [],
   "source": [
    "# YOUR CODE IS HERE\n",
    "\n"
   ]
  },
  {
   "cell_type": "markdown",
   "metadata": {
    "executionInfo": {
     "elapsed": 271,
     "status": "ok",
     "timestamp": 1682672877859,
     "user": {
      "displayName": "Richard Thames",
      "userId": "00258987493291873022"
     },
     "user_tz": -180
    },
    "id": "TZ02XJndHnSN"
   },
   "source": [
    "#### What is the avg tip in all pickup_boroughs? Visually analyze it."
   ]
  },
  {
   "cell_type": "code",
   "execution_count": 65,
   "metadata": {
    "colab": {
     "base_uri": "https://localhost:8080/",
     "height": 415
    },
    "executionInfo": {
     "elapsed": 571,
     "status": "ok",
     "timestamp": 1682672890751,
     "user": {
      "displayName": "Richard Thames",
      "userId": "00258987493291873022"
     },
     "user_tz": -180
    },
    "id": "xLOYJDSXHoWa",
    "outputId": "a900cff1-42cd-46cc-f0c6-05864f0b7a24"
   },
   "outputs": [],
   "source": [
    "# YOUR CODE IS HERE\n",
    "\n"
   ]
  },
  {
   "cell_type": "markdown",
   "metadata": {
    "id": "kBE5Bzz4G4aM"
   },
   "source": [
    "#### What is the distribution of tips? or what is the typical tip? Visually analyze it."
   ]
  },
  {
   "cell_type": "code",
   "execution_count": 66,
   "metadata": {
    "colab": {
     "base_uri": "https://localhost:8080/",
     "height": 449
    },
    "executionInfo": {
     "elapsed": 1546,
     "status": "ok",
     "timestamp": 1682672731826,
     "user": {
      "displayName": "Richard Thames",
      "userId": "00258987493291873022"
     },
     "user_tz": -180
    },
    "id": "xZWfE4n9G7y9",
    "outputId": "a5a8e2e3-72d1-47d0-e4cd-49dec5115fb6"
   },
   "outputs": [],
   "source": [
    "# YOUR CODE IS HERE\n",
    "\n"
   ]
  },
  {
   "cell_type": "markdown",
   "metadata": {},
   "source": [
    "#### What is the median value for tip? Visually analyze it."
   ]
  },
  {
   "cell_type": "code",
   "execution_count": 67,
   "metadata": {
    "colab": {
     "base_uri": "https://localhost:8080/",
     "height": 449
    },
    "executionInfo": {
     "elapsed": 780,
     "status": "ok",
     "timestamp": 1682672830371,
     "user": {
      "displayName": "Richard Thames",
      "userId": "00258987493291873022"
     },
     "user_tz": -180
    },
    "id": "DKFyry-8GeT3",
    "outputId": "65af9338-3214-4e6c-bc2b-c876f3d45a2f"
   },
   "outputs": [],
   "source": [
    "# YOUR CODE IS HERE\n",
    "\n"
   ]
  },
  {
   "cell_type": "markdown",
   "metadata": {},
   "source": [
    "<hr>\n",
    "\n",
    "## <p style=\"background-color:#E51A59; font-family:newtimeroman; color:#FFF9ED; font-size:150%; text-align:center; border-radius:10px 10px;\">END OF THE SESSION-02</p>\n",
    "\n",
    "## <p style=\"background-color:#FFFFFF; font-family:newtimeroman; color:#0000FF; font-size:150%; text-align:center; border-radius:10px 10px;\">Now. it's time to relax!</p>\n",
    "\n",
    "<img align=\"center\" src=\"https://i.ibb.co/qRXLyxs/blur-book-close-up-coffee-459265-scaled-e1596132095495.jpg\" width=\"700\" height=\"200\">\n",
    "\n",
    "<p style=\"text-align: center;\"><img src=\"https://i.ibb.co/99DQ3TY/DS-Courses.png\" class=\"img-fluid\" \n",
    "alt=\"CLRSWY\"></p>\n",
    "\n",
    "___\n",
    "\n",
    "<a href=\"https://clarusway.com/\"><img align=\"center\" src=\"https://i.ibb.co/KhG2kV4/new-clarusway-logo.png\" width=\"450\" height=\"200\" alt=\"CLRSWY_LOGO\" title=\"Way to Reinvent Yourself\"></a><br/>\n",
    "\n",
    "<p style=\"background-color:#E51A59; font-family:newtimeroman; color:#FDFEFE; font-size:130%; text-align:center; border-radius:10px 10px;\">WAY TO REINVENT YOURSELF</p>\n",
    "\n",
    "<hr>"
   ]
  },
  {
   "cell_type": "markdown",
   "metadata": {
    "deletable": false,
    "editable": false
   },
   "source": [
    "<a href=\"https://clarusway.com/contact-us/\"><img align=\"center\" src=\"https://i.ibb.co/B43qn24/officially-licensed-logo.png\" alt=\"Open in Clarusway LMS\" width=\"110\" height=\"200\" title=\"This notebook is licensed by Clarusway IT training school. Please contact the authorized persons about the conditions under which you can use or share.\"></a>"
   ]
  }
 ],
 "metadata": {
  "colab": {
   "provenance": []
  },
  "kernelspec": {
   "display_name": "Python 3 (ipykernel)",
   "language": "python",
   "name": "python3"
  },
  "language_info": {
   "codemirror_mode": {
    "name": "ipython",
    "version": 3
   },
   "file_extension": ".py",
   "mimetype": "text/x-python",
   "name": "python",
   "nbconvert_exporter": "python",
   "pygments_lexer": "ipython3",
   "version": "3.11.5"
  },
  "toc": {
   "base_numbering": 1,
   "nav_menu": {},
   "number_sections": false,
   "sideBar": true,
   "skip_h1_title": false,
   "title_cell": "Table of Contents",
   "title_sidebar": "Contents",
   "toc_cell": false,
   "toc_position": {
    "height": "calc(100% - 180px)",
    "left": "10px",
    "top": "150px",
    "width": "318.675px"
   },
   "toc_section_display": true,
   "toc_window_display": true
  },
  "varInspector": {
   "cols": {
    "lenName": 16,
    "lenType": 16,
    "lenVar": 40
   },
   "kernels_config": {
    "python": {
     "delete_cmd_postfix": "",
     "delete_cmd_prefix": "del ",
     "library": "var_list.py",
     "varRefreshCmd": "print(var_dic_list())"
    },
    "r": {
     "delete_cmd_postfix": ") ",
     "delete_cmd_prefix": "rm(",
     "library": "var_list.r",
     "varRefreshCmd": "cat(var_dic_list()) "
    }
   },
   "types_to_exclude": [
    "module",
    "function",
    "builtin_function_or_method",
    "instance",
    "_Feature"
   ],
   "window_display": false
  }
 },
 "nbformat": 4,
 "nbformat_minor": 1
}
