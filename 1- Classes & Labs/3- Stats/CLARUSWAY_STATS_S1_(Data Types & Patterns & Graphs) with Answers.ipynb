{
 "cells": [
  {
   "cell_type": "markdown",
   "metadata": {
    "deletable": false,
    "editable": false
   },
   "source": [
    "<a href=\"https://clarusway.com/contact-us/\"><img align=\"center\" src=\"https://i.ibb.co/B43qn24/officially-licensed-logo.png\" alt=\"Open in Clarusway LMS\" width=\"110\" height=\"200\" title=\"This notebook is licensed by Clarusway IT training school. Please contact the authorized persons about the conditions under which you can use or share.\"></a>"
   ]
  },
  {
   "cell_type": "markdown",
   "metadata": {},
   "source": [
    "<hr>\n",
    "\n",
    "<a href=\"https://clarusway.com/\"><img align=\"center\" src=\"https://i.ibb.co/Rpz9L36/clarusway-logo-black.png\" width=\"450\" height=\"200\" alt=\"CLRSWY_LOGO\" title=\"Open and Execute in Google Colaboratory\"></a><br/>\n",
    "\n",
    "<p style=\"background-color:#E51A59; font-family:newtimeroman; color:#FDFEFE; font-size:130%; text-align:center; border-radius:10px 10px;\">WAY TO REINVENT YOURSELF</p>\n",
    "\n",
    "<p style=\"text-align: center;\"><img src=\"https://i.ibb.co/Vp7VhzT/stats.png\" class=\"img-fluid\" \n",
    "alt=\"STATS\" width=\"600\" height=\"200\"></p>\n",
    "\n",
    "## <p style=\"background-color:#FDFEFE; font-family:newtimeroman; color:#0000FF; font-size:200%; text-align:center; border-radius:10px 10px;\">SESSION-01 (Data Types & Patterns & Graphs)</p>\n",
    "\n",
    "<hr>"
   ]
  },
  {
   "cell_type": "markdown",
   "metadata": {},
   "source": [
    "## Libraries Needed in this Notebook:\n",
    "\n",
    "First we must import the related libraries of Numpy, Pandas, Matplotlib and Seaborn for our analysis. We are importing the required modules by using the import keyword. "
   ]
  },
  {
   "cell_type": "code",
   "execution_count": 1,
   "metadata": {
    "colab": {
     "base_uri": "https://localhost:8080/"
    },
    "executionInfo": {
     "elapsed": 15945,
     "status": "ok",
     "timestamp": 1683389822973,
     "user": {
      "displayName": "Richard Thames",
      "userId": "00258987493291873022"
     },
     "user_tz": -180
    },
    "id": "pJ9ixrwXl9ck",
    "outputId": "e09e7da7-2aab-4065-a09d-250a8dc4584d"
   },
   "outputs": [],
   "source": [
    "# !pip install seaborn\n",
    "# !pip install matplotlib\n",
    "# !pip install jupyterlab-stickyland\n",
    "# !pip install stickyland\n",
    "# !pip install jupyterlab-sticky-dock"
   ]
  },
  {
   "cell_type": "code",
   "execution_count": 2,
   "metadata": {
    "executionInfo": {
     "elapsed": 2542,
     "status": "ok",
     "timestamp": 1683389836531,
     "user": {
      "displayName": "Richard Thames",
      "userId": "00258987493291873022"
     },
     "user_tz": -180
    },
    "id": "nVug7QfQobk8"
   },
   "outputs": [],
   "source": [
    "import seaborn as sns\n",
    "import matplotlib.pyplot as plt\n",
    "import numpy as np\n",
    "import pandas as pd\n",
    "import datetime"
   ]
  },
  {
   "cell_type": "markdown",
   "metadata": {},
   "source": [
    "<b><u>What is Matplotlib?</u></b>\n",
    "\n",
    "- Matplotlib is a popular plotting library in Python used for creating high-quality visualizations and graphs. It offers various tools to generate diverse plots, facilitating data analysis, exploration, and presentation. For more information about the library, you can visit its **[Homepage](https://matplotlib.org/)**.\n",
    "\n",
    "<b><u>What is Seaborn?</u></b>\n",
    "\n",
    "- Seaborn is a Python data visualization library based on matplotlib. It provides a high-level interface for drawing attractive and informative statistical graphics. For a brief introduction to the ideas behind the library, you can read the introductory notes on its **[Homepage](https://seaborn.pydata.org/tutorial/introduction.html)**."
   ]
  },
  {
   "cell_type": "markdown",
   "metadata": {},
   "source": [
    "**[How to Enable and Use Autocomplete in Jupyter Notebook](https://linuxhint.com/enable-use-autocomplete-jupyter-notebook/)**"
   ]
  },
  {
   "cell_type": "markdown",
   "metadata": {},
   "source": [
    "\n",
    "<p style=\"background-color:#FFFFFF; font-family:newtimeroman; color:#FF0000; font-size:140%; text-align:left;\"><strong>❗⚠️ WARNING:</strong></p>\n",
    "\n",
    "- Before we start reviewing our notebook, it should be noted that the purpose of this Statistics Course is NOT to explain the codes in the notebook, but to reinforce the topics we have covered in our Statistics in-class session. Throughout your Data Analytics journey, you will learn how the codes are created and what they mean in the relevant courses. So do NOT waste time with the codes, but rather try to digest the concepts you have learned in the Statistics sessions.\n"
   ]
  },
  {
   "cell_type": "markdown",
   "metadata": {},
   "source": [
    "## <p style=\"background-color:#E51A59; font-family:newtimeroman; color:#FDFEFE; font-size:175%; text-align:center; border-radius:10px 10px;\">Data Types in Pandas</p>\n",
    "\n",
    "Data types in Pandas are crucial for efficient data manipulation and analysis. They tell us what kind of information each column holds. \n",
    "\n",
    "\n",
    "<p style=\"background-color:#FFFFFF; font-family:newtimeroman; color:#008000; font-size:130%; text-align:left;\"><strong>Here are the most common:</strong></p>\n",
    "\n",
    "- **object:** Represents strings or mixed, a combination of different data types within a column.\n",
    "- **int64:** Integer numbers.\n",
    "- **float64:** Floating-point numbers (numbers with decimal places).\n",
    "- **datetime64[ns]:** Dates and times.\n",
    "- **bool:** Boolean values (True or False).\n",
    "\n",
    "\n"
   ]
  },
  {
   "cell_type": "markdown",
   "metadata": {},
   "source": [
    "<hr>\n",
    "\n",
    "\n",
    "###  Identifying Data Types:\n",
    "\n",
    "<p style=\"background-color:#FFFFFF; font-family:newtimeroman; color:#0000FF; font-size:130%; text-align:left;\"><strong>In the following code snippet, we are creating a pandas DataFrame using a dictionary containing various types of data:</strong></p>"
   ]
  },
  {
   "cell_type": "code",
   "execution_count": 3,
   "metadata": {},
   "outputs": [
    {
     "name": "stdout",
     "output_type": "stream",
     "text": [
      "name           object\n",
      "age           float64\n",
      "city           object\n",
      "is_working       bool\n",
      "salary          int64\n",
      "start_date     object\n",
      "dtype: object\n"
     ]
    },
    {
     "data": {
      "text/html": [
       "<div>\n",
       "<style scoped>\n",
       "    .dataframe tbody tr th:only-of-type {\n",
       "        vertical-align: middle;\n",
       "    }\n",
       "\n",
       "    .dataframe tbody tr th {\n",
       "        vertical-align: top;\n",
       "    }\n",
       "\n",
       "    .dataframe thead th {\n",
       "        text-align: right;\n",
       "    }\n",
       "</style>\n",
       "<table border=\"1\" class=\"dataframe\">\n",
       "  <thead>\n",
       "    <tr style=\"text-align: right;\">\n",
       "      <th></th>\n",
       "      <th>name</th>\n",
       "      <th>age</th>\n",
       "      <th>city</th>\n",
       "      <th>is_working</th>\n",
       "      <th>salary</th>\n",
       "      <th>start_date</th>\n",
       "    </tr>\n",
       "  </thead>\n",
       "  <tbody>\n",
       "    <tr>\n",
       "      <th>0</th>\n",
       "      <td>Alice</td>\n",
       "      <td>25.0</td>\n",
       "      <td>New York</td>\n",
       "      <td>True</td>\n",
       "      <td>5000</td>\n",
       "      <td>2023-01-15</td>\n",
       "    </tr>\n",
       "    <tr>\n",
       "      <th>1</th>\n",
       "      <td>Bob</td>\n",
       "      <td>30.0</td>\n",
       "      <td>London</td>\n",
       "      <td>False</td>\n",
       "      <td>0</td>\n",
       "      <td>2022-05-20</td>\n",
       "    </tr>\n",
       "    <tr>\n",
       "      <th>2</th>\n",
       "      <td>Charlie</td>\n",
       "      <td>28.5</td>\n",
       "      <td>Paris</td>\n",
       "      <td>True</td>\n",
       "      <td>4550</td>\n",
       "      <td>2023-09-01</td>\n",
       "    </tr>\n",
       "  </tbody>\n",
       "</table>\n",
       "</div>"
      ],
      "text/plain": [
       "      name   age      city  is_working  salary  start_date\n",
       "0    Alice  25.0  New York        True    5000  2023-01-15\n",
       "1      Bob  30.0    London       False       0  2022-05-20\n",
       "2  Charlie  28.5     Paris        True    4550  2023-09-01"
      ]
     },
     "execution_count": 3,
     "metadata": {},
     "output_type": "execute_result"
    }
   ],
   "source": [
    "# Define the data\n",
    "data = {'name': ['Alice', 'Bob', 'Charlie'],      # A list of names (strings).\n",
    "        'age': [25.0, 30.0, 28.5],                # A list of ages (floats).\n",
    "        'city': ['New York', 'London', 'Paris'],  # A list of cities (strings).\n",
    "        'is_working': [True, False, True],        # A list of boolean values indicating employment status.\n",
    "        'salary': [5000, 0, 4550],                # A list of salaries (integers).\n",
    "        'start_date': [datetime.date(2023, 1, 15), datetime.date(2022, 5, 20), datetime.date(2023, 9, 1)]}  # A list of start dates (dates).\n",
    "\n",
    "# Create the DataFrame \n",
    "df = pd.DataFrame(data)\n",
    "\n",
    "# Display the Data Types\n",
    "print(df.dtypes)\n",
    "\n",
    "# Display the DataFrame\n",
    "df"
   ]
  },
  {
   "cell_type": "markdown",
   "metadata": {},
   "source": [
    "<hr>\n",
    "\n",
    "<p style=\"background-color:#FFFFFF; font-family:newtimeroman; color:#0000FF; font-size:125%; text-align:left;\"><strong>In Pandas, the main difference between the object and category data types lies in their underlying representation and the performance characteristics they offer.</strong></p>\n",
    "\n",
    "**1. Object Data Type:**\n",
    "- The object data type in Pandas is used to represent **``text or mixed data types``**, such as strings, integers, floats, and other Python objects.\n",
    "- It is a **``general-purpose data type``** that can store a wide range of data, but it doesn't offer any specific optimizations.\n",
    "- When working with large datasets, the object data type can **``consume more memory than necessary``**, as Pandas needs to store the full string representation for each value.\n",
    "- Operations on object columns can be **``slower compared to other data types``**, as Pandas needs to perform type checking and conversion for each operation.\n",
    "\n",
    "**2. Category Data Type:**\n",
    "- The category data type in Pandas is a **``specialized data type``** designed for storing categorical data.\n",
    "- It stores the data as a set of unique values (categories) along with an integer-based index that maps each value to its corresponding category.\n",
    "- The category data type is **``more memory-efficient``** than the object data type, as it **``only stores the unique categories and the integer-based index``**, rather than the full string representation for each value.\n",
    "- Operations on category columns are generally **``faster than operations on object columns``**, as Pandas can perform optimized operations on the underlying integer-based index.\n",
    "- The category data type also provides additional functionality, such as the ability to order categories, perform categorical aggregations, and use categorical data in machine learning models.\n",
    "\n",
    "<p style=\"text-align: center;\"><img src=\"https://i.ibb.co/PmxsbKQ/data-types-in-pandas.png\" width=\"550\" height=\"200\" class=\"img-fluid\" alt=\"data-types-in-pandas\"></p>\n",
    "\n",
    "[IMAGE CREDIT](https://www.datacamp.com/tutorial/categorical-data)\n",
    "\n",
    "\n",
    "<p style=\"background-color:#FFFFFF; font-family:newtimeroman; color:#0000FF; font-size:125%; text-align:left;\"><strong>The importance of data types in Pandas and machine learning is crucial for several reasons:</strong></p>\n",
    "\n",
    "\n",
    "- **Memory Efficiency**: Pandas uses different data types to represent different kinds of data, such as integers, floats, strings, and booleans. Choosing the appropriate data type can significantly impact the memory usage of your DataFrame, which is especially important when dealing with large datasets.\n",
    "- **Data Integrity**: Ensuring that data is stored in the correct data type is essential for maintaining data integrity. For example, if a column containing numeric values is stored as a string, it can lead to issues when performing mathematical operations or feeding the data into a machine learning model.\n",
    "- **Computational Efficiency**: The choice of data type can affect the computational efficiency of your code. For instance, operations on integer data types are generally faster than operations on float data types.\n",
    "- **Feature Engineering**: In machine learning, the choice of data type can impact the feature engineering process. Some machine learning algorithms may perform better with certain data types, such as using categorical features instead of numerical features.\n",
    "- **Model Performance**: The data types used in your input data can significantly impact the performance of your machine learning models. Mismatched data types or data that is not in the expected format can lead to errors or suboptimal model performance.\n",
    "- **Data Visualization**: The choice of data type can also affect the way data is displayed in visualizations. For example, if a column containing dates is stored as a string, it may not be recognized as a date by visualization tools, making it difficult to create meaningful plots.\n",
    "\n",
    "**[Handling Machine Learning Categorical Data with Python Tutorial](https://www.datacamp.com/tutorial/categorical-data)**"
   ]
  },
  {
   "cell_type": "markdown",
   "metadata": {},
   "source": [
    "<hr>\n",
    "\n",
    "<p style=\"background-color:#FFFFFF; font-family:newtimeroman; color:#0000FF; font-size:125%; text-align:left;\"><strong>The df.info() method provides a concise summary of a pandas DataFrame, giving important information about its structure and contents.</strong></p>"
   ]
  },
  {
   "cell_type": "code",
   "execution_count": 4,
   "metadata": {},
   "outputs": [
    {
     "name": "stdout",
     "output_type": "stream",
     "text": [
      "<class 'pandas.core.frame.DataFrame'>\n",
      "RangeIndex: 3 entries, 0 to 2\n",
      "Data columns (total 6 columns):\n",
      " #   Column      Non-Null Count  Dtype  \n",
      "---  ------      --------------  -----  \n",
      " 0   name        3 non-null      object \n",
      " 1   age         3 non-null      float64\n",
      " 2   city        3 non-null      object \n",
      " 3   is_working  3 non-null      bool   \n",
      " 4   salary      3 non-null      int64  \n",
      " 5   start_date  3 non-null      object \n",
      "dtypes: bool(1), float64(1), int64(1), object(3)\n",
      "memory usage: 255.0+ bytes\n"
     ]
    }
   ],
   "source": [
    "# Let's check summary of the DataFrame BEFORE type conversion\n",
    "\n",
    "df.info()"
   ]
  },
  {
   "cell_type": "markdown",
   "metadata": {},
   "source": [
    "- Based on the summary of DataFrame above, the DataFrame consists of 3 entries indexed from 0 to 2 and contains 6 columns. Each column's details are displayed, indicating that all columns have 3 non-null entries, meaning there are NO missing values. \n",
    "- The data types include object (general-purpose data type) for strings, float64 for floating-point numbers, bool for boolean values, and int64 for integers. \n",
    "- The summary also specifies that there is one column for each data type, and the total memory usage of the DataFrame is approximately 255 bytes. \n",
    "- This information is essential for understanding the DataFrame's structure and identifying any potential data quality issues."
   ]
  },
  {
   "cell_type": "markdown",
   "metadata": {},
   "source": [
    "<hr>\n",
    "\n",
    "### Converting Data Types:\n",
    "\n",
    "<p style=\"background-color:#FFFFFF; font-family:newtimeroman; color:#0000FF; font-size:125%; text-align:left;\"><strong>In this code snippet, we are converting the data types of specific columns in a pandas DataFrame to ensure they are appropriately formatted for further analysis.</strong></p>"
   ]
  },
  {
   "cell_type": "code",
   "execution_count": 5,
   "metadata": {},
   "outputs": [
    {
     "name": "stdout",
     "output_type": "stream",
     "text": [
      "name                  object\n",
      "age                    int32\n",
      "city                  object\n",
      "is_working              bool\n",
      "salary               float64\n",
      "start_date    datetime64[ns]\n",
      "dtype: object\n"
     ]
    }
   ],
   "source": [
    "# Convert 'age' to integer\n",
    "df['age'] = df['age'].astype(int)\n",
    "\n",
    "# Convert 'salary' to float\n",
    "df['salary'] = df['salary'].astype(float)\n",
    "\n",
    "# Convert 'start_date' to datetime objects\n",
    "df['start_date'] = pd.to_datetime(df['start_date'])\n",
    "\n",
    "# Updated data types\n",
    "print(df.dtypes)"
   ]
  },
  {
   "cell_type": "markdown",
   "metadata": {},
   "source": [
    "- The values in the 'age' column are converted to to Integer.\n",
    "- The values in the 'salary' column are converted to Float:\n",
    "- The values in the 'start_date' column are converted datetime objects, allowing for easier date manipulation and analysis.\n",
    "- This lat line displays the updated data types for each column in the DataFrame after the conversions."
   ]
  },
  {
   "cell_type": "code",
   "execution_count": 6,
   "metadata": {},
   "outputs": [
    {
     "name": "stdout",
     "output_type": "stream",
     "text": [
      "<class 'pandas.core.frame.DataFrame'>\n",
      "RangeIndex: 3 entries, 0 to 2\n",
      "Data columns (total 6 columns):\n",
      " #   Column      Non-Null Count  Dtype         \n",
      "---  ------      --------------  -----         \n",
      " 0   name        3 non-null      object        \n",
      " 1   age         3 non-null      int32         \n",
      " 2   city        3 non-null      object        \n",
      " 3   is_working  3 non-null      bool          \n",
      " 4   salary      3 non-null      float64       \n",
      " 5   start_date  3 non-null      datetime64[ns]\n",
      "dtypes: bool(1), datetime64[ns](1), float64(1), int32(1), object(2)\n",
      "memory usage: 243.0+ bytes\n"
     ]
    }
   ],
   "source": [
    "# Let's check summary of the DataFrame AFTER type conversion\n",
    "\n",
    "df.info()"
   ]
  },
  {
   "cell_type": "markdown",
   "metadata": {},
   "source": [
    "**``Key Points:``**\n",
    "\n",
    "- **Data type consistency:** Pandas performs operations more efficiently when data types are consistent within a column.\n",
    "- **Conversion:** You can often convert data types using the astype() method.\n",
    "- **object type:** While versatile, it's often a sign that you might want to convert columns to more specific data types for better analysis."
   ]
  },
  {
   "cell_type": "markdown",
   "metadata": {},
   "source": [
    "## <p style=\"background-color:#E51A59; font-family:newtimeroman; color:#FDFEFE; font-size:175%; text-align:center; border-radius:10px 10px;\">Loading the Dataset</p>\n",
    "\n",
    "## What are Seaborn Datasets?\n",
    "\n",
    "- Seaborn comes with multiple datasets contained in the seaborn library. When the seaborn is installed, the datasets will automatically be downloaded. We do not need to download the same later. We can use any of the datasets as per the requirement. When browsing the seaborn data repo, we get the list of available data sets from python using the function name get_datasets_names.\n",
    "\n",
    "- **[get_dataset_names()](https://www.geeksforgeeks.org/seaborn-datasets-for-data-science/)** method is used to view the names of all the in built datasets from the seaborn library.\n",
    "\n",
    "<hr>\n",
    "\n",
    "<p style=\"background-color:#FFFFFF; font-family:newtimeroman; color:#0000FF; font-size:125%; text-align:left;\"><strong>Below example shows to retrieve the number of datasets from the Seaborn library in python as follows:</strong></p>"
   ]
  },
  {
   "cell_type": "code",
   "execution_count": 7,
   "metadata": {
    "colab": {
     "base_uri": "https://localhost:8080/"
    },
    "executionInfo": {
     "elapsed": 1812,
     "status": "ok",
     "timestamp": 1683389881724,
     "user": {
      "displayName": "Richard Thames",
      "userId": "00258987493291873022"
     },
     "user_tz": -180
    },
    "id": "D3hEDZTkogGb",
    "outputId": "5cf354fe-321b-49eb-95c2-ed61caa5cc61"
   },
   "outputs": [
    {
     "data": {
      "text/plain": [
       "['anagrams',\n",
       " 'anscombe',\n",
       " 'attention',\n",
       " 'brain_networks',\n",
       " 'car_crashes',\n",
       " 'diamonds',\n",
       " 'dots',\n",
       " 'dowjones',\n",
       " 'exercise',\n",
       " 'flights',\n",
       " 'fmri',\n",
       " 'geyser',\n",
       " 'glue',\n",
       " 'healthexp',\n",
       " 'iris',\n",
       " 'mpg',\n",
       " 'penguins',\n",
       " 'planets',\n",
       " 'seaice',\n",
       " 'taxis',\n",
       " 'tips',\n",
       " 'titanic']"
      ]
     },
     "execution_count": 7,
     "metadata": {},
     "output_type": "execute_result"
    }
   ],
   "source": [
    "sns.get_dataset_names()"
   ]
  },
  {
   "cell_type": "markdown",
   "metadata": {},
   "source": [
    "<hr>\n",
    "\n",
    "\n",
    "## How to Use Seaborn Datasets?\n",
    "\n",
    "- We are loading the dataset, **``mpg``**, among them above by using the **[seabornload_dataset()](https://seaborn.pydata.org/generated/seaborn.load_dataset.html)** function as follows. We can load any default dataset by using this function."
   ]
  },
  {
   "cell_type": "code",
   "execution_count": 8,
   "metadata": {
    "executionInfo": {
     "elapsed": 1675,
     "status": "ok",
     "timestamp": 1683389941478,
     "user": {
      "displayName": "Richard Thames",
      "userId": "00258987493291873022"
     },
     "user_tz": -180
    },
    "id": "cx2CPAB2pAyo"
   },
   "outputs": [],
   "source": [
    "# Download \"mpg\" dataset in Seaborn and assign it to an object named \"df\":\n",
    "\n",
    "df = sns.load_dataset(\"mpg\")"
   ]
  },
  {
   "cell_type": "markdown",
   "metadata": {},
   "source": [
    "## <p style=\"background-color:#E51A59; font-family:newtimeroman; color:#FFF9ED; font-size:175%; text-align:center; border-radius:10px 10px;\">Discovering the Dataset</p>"
   ]
  },
  {
   "cell_type": "markdown",
   "metadata": {},
   "source": [
    "<hr>\n",
    "\n",
    "<p style=\"background-color:#FFFFFF; font-family:newtimeroman; color:#0000FF; font-size:125%; text-align:left;\"><strong>The following code snippet randomly selects a specified number of entries/observations from the DataFrame.</strong></p>"
   ]
  },
  {
   "cell_type": "code",
   "execution_count": 9,
   "metadata": {
    "colab": {
     "base_uri": "https://localhost:8080/",
     "height": 206
    },
    "executionInfo": {
     "elapsed": 327,
     "status": "ok",
     "timestamp": 1683389950811,
     "user": {
      "displayName": "Richard Thames",
      "userId": "00258987493291873022"
     },
     "user_tz": -180
    },
    "id": "3qbUtN-HpMsq",
    "outputId": "aa362719-0f1d-4470-a3ba-bbe27a0fe9df"
   },
   "outputs": [
    {
     "data": {
      "text/html": [
       "<div>\n",
       "<style scoped>\n",
       "    .dataframe tbody tr th:only-of-type {\n",
       "        vertical-align: middle;\n",
       "    }\n",
       "\n",
       "    .dataframe tbody tr th {\n",
       "        vertical-align: top;\n",
       "    }\n",
       "\n",
       "    .dataframe thead th {\n",
       "        text-align: right;\n",
       "    }\n",
       "</style>\n",
       "<table border=\"1\" class=\"dataframe\">\n",
       "  <thead>\n",
       "    <tr style=\"text-align: right;\">\n",
       "      <th></th>\n",
       "      <th>mpg</th>\n",
       "      <th>cylinders</th>\n",
       "      <th>displacement</th>\n",
       "      <th>horsepower</th>\n",
       "      <th>weight</th>\n",
       "      <th>acceleration</th>\n",
       "      <th>model_year</th>\n",
       "      <th>origin</th>\n",
       "      <th>name</th>\n",
       "    </tr>\n",
       "  </thead>\n",
       "  <tbody>\n",
       "    <tr>\n",
       "      <th>6</th>\n",
       "      <td>14.0</td>\n",
       "      <td>8</td>\n",
       "      <td>454.0</td>\n",
       "      <td>220.0</td>\n",
       "      <td>4354</td>\n",
       "      <td>9.0</td>\n",
       "      <td>70</td>\n",
       "      <td>usa</td>\n",
       "      <td>chevrolet impala</td>\n",
       "    </tr>\n",
       "    <tr>\n",
       "      <th>373</th>\n",
       "      <td>24.0</td>\n",
       "      <td>4</td>\n",
       "      <td>140.0</td>\n",
       "      <td>92.0</td>\n",
       "      <td>2865</td>\n",
       "      <td>16.4</td>\n",
       "      <td>82</td>\n",
       "      <td>usa</td>\n",
       "      <td>ford fairmont futura</td>\n",
       "    </tr>\n",
       "    <tr>\n",
       "      <th>342</th>\n",
       "      <td>30.0</td>\n",
       "      <td>4</td>\n",
       "      <td>135.0</td>\n",
       "      <td>84.0</td>\n",
       "      <td>2385</td>\n",
       "      <td>12.9</td>\n",
       "      <td>81</td>\n",
       "      <td>usa</td>\n",
       "      <td>plymouth reliant</td>\n",
       "    </tr>\n",
       "    <tr>\n",
       "      <th>38</th>\n",
       "      <td>14.0</td>\n",
       "      <td>8</td>\n",
       "      <td>350.0</td>\n",
       "      <td>165.0</td>\n",
       "      <td>4209</td>\n",
       "      <td>12.0</td>\n",
       "      <td>71</td>\n",
       "      <td>usa</td>\n",
       "      <td>chevrolet impala</td>\n",
       "    </tr>\n",
       "    <tr>\n",
       "      <th>129</th>\n",
       "      <td>31.0</td>\n",
       "      <td>4</td>\n",
       "      <td>79.0</td>\n",
       "      <td>67.0</td>\n",
       "      <td>1950</td>\n",
       "      <td>19.0</td>\n",
       "      <td>74</td>\n",
       "      <td>japan</td>\n",
       "      <td>datsun b210</td>\n",
       "    </tr>\n",
       "  </tbody>\n",
       "</table>\n",
       "</div>"
      ],
      "text/plain": [
       "      mpg  cylinders  displacement  horsepower  weight  acceleration  \\\n",
       "6    14.0          8         454.0       220.0    4354           9.0   \n",
       "373  24.0          4         140.0        92.0    2865          16.4   \n",
       "342  30.0          4         135.0        84.0    2385          12.9   \n",
       "38   14.0          8         350.0       165.0    4209          12.0   \n",
       "129  31.0          4          79.0        67.0    1950          19.0   \n",
       "\n",
       "     model_year origin                  name  \n",
       "6            70    usa      chevrolet impala  \n",
       "373          82    usa  ford fairmont futura  \n",
       "342          81    usa      plymouth reliant  \n",
       "38           71    usa      chevrolet impala  \n",
       "129          74  japan           datsun b210  "
      ]
     },
     "execution_count": 9,
     "metadata": {},
     "output_type": "execute_result"
    }
   ],
   "source": [
    "# Generate a sample random row from DataFrame\n",
    "\n",
    "df.sample(5)"
   ]
  },
  {
   "cell_type": "markdown",
   "metadata": {},
   "source": [
    "- The **``sample()``** method in pandas is used to randomly select a specified number of rows from the DataFrame. In our case, 5 indicates that we want to sample 5 rows. This is useful for quickly inspecting a subset of your data without having to look at the entire DataFrame.\n",
    "\n",
    "<hr>\n",
    "\n",
    "**[Series.unique()](https://pandas.pydata.org/docs/reference/api/pandas.Series.unique.html)**\n",
    "\n",
    "  - Return unique values of Series object.\n",
    "\n",
    "  - Uniques are returned in order of appearance. Hash table-based unique, therefore does NOT sort.\n",
    "  \n",
    "<hr>\n",
    "\n",
    "<p style=\"background-color:#FFFFFF; font-family:newtimeroman; color:#0000FF; font-size:125%; text-align:left;\"><strong>The following code snippet checks the unique values in the \"unique\" feature.</strong></p>"
   ]
  },
  {
   "cell_type": "code",
   "execution_count": 10,
   "metadata": {
    "colab": {
     "base_uri": "https://localhost:8080/"
    },
    "executionInfo": {
     "elapsed": 331,
     "status": "ok",
     "timestamp": 1683390075647,
     "user": {
      "displayName": "Richard Thames",
      "userId": "00258987493291873022"
     },
     "user_tz": -180
    },
    "id": "-AA4-2ZusKZF",
    "outputId": "0a9be70f-023a-4be8-bef7-9217538a1ca6"
   },
   "outputs": [
    {
     "data": {
      "text/plain": [
       "array(['usa', 'japan', 'europe'], dtype=object)"
      ]
     },
     "execution_count": 10,
     "metadata": {},
     "output_type": "execute_result"
    }
   ],
   "source": [
    "# Check the unique values in the \"unique\" feature\n",
    "\n",
    "df.origin.unique()"
   ]
  },
  {
   "cell_type": "markdown",
   "metadata": {},
   "source": [
    "- The output represents a NumPy array containing a **``list of string values``**. The array contains three string elements: **``'usa'``**, **``'japan'``**, and **``'europe'``**.\n",
    "- The **``dtype=object``** indicates that the elements in this NumPy array are of type object. In NumPy, an object data type can hold any kind of Python object, but it is often used for strings when they are NOT uniform in length or type.\n",
    "\n",
    "\n",
    "<hr>\n",
    "\n",
    "\n",
    "**[Series.value_counts(normalize=False, sort=True, ascending=False, bins=None, dropna=True)](https://pandas.pydata.org/pandas-docs/stable/reference/api/pandas.Series.value_counts.html)**\n",
    "\n",
    "  - Return a Series containing counts of unique values.\n",
    "\n",
    "  - The resulting object will be in descending order so that the first element is the most frequently-occurring element. Excludes NA values by default.\n",
    "\n",
    "The value_counts() function returns an object containing counts of unique values. This means it enables us to count the number of unique elements in a column of a Pandas dataframe.\n",
    "\n",
    "<hr>\n",
    "\n",
    "<p style=\"background-color:#FFFFFF; font-family:newtimeroman; color:#0000FF; font-size:125%; text-align:left;\"><strong>The following code snippet counts the occurrences of each unique value in the origin column.</strong></p>"
   ]
  },
  {
   "cell_type": "code",
   "execution_count": 11,
   "metadata": {
    "colab": {
     "base_uri": "https://localhost:8080/"
    },
    "executionInfo": {
     "elapsed": 347,
     "status": "ok",
     "timestamp": 1683390090665,
     "user": {
      "displayName": "Richard Thames",
      "userId": "00258987493291873022"
     },
     "user_tz": -180
    },
    "id": "krPIs_t6xIzk",
    "outputId": "d70e2a62-f72e-4630-fd9f-e8aae2d530a4"
   },
   "outputs": [
    {
     "data": {
      "text/plain": [
       "origin\n",
       "usa       249\n",
       "japan      79\n",
       "europe     70\n",
       "Name: count, dtype: int64"
      ]
     },
     "execution_count": 11,
     "metadata": {},
     "output_type": "execute_result"
    }
   ],
   "source": [
    "# Return the counts (occurancies) of unique values in the \"origin\" feature\n",
    "\n",
    "df.origin.value_counts(dropna=False)"
   ]
  },
  {
   "cell_type": "markdown",
   "metadata": {},
   "source": [
    "- The command **``value_counts(dropna=False)``** **``counts the occurrences of each unique value``** in the origin column of a pandas DataFrame, providing insights into the distribution of categorical data. The output is a Series showing the counts of each category.\n",
    "- The parameter **``dropna=False``** specifies that missing values (NaN) should be included in the count. If set to True, missing values would be excluded from the count.\n",
    "\n",
    "- The output shows the **``unique values in the \"origin\" column``** as the index:\n",
    "  - usa: 249 occurrences\n",
    "  - japan: 79 occurrences\n",
    "  - europe: 70 occurrences\n",
    "  - The Name: count indicates that this Series is named count, which describes the data it holds.\n",
    "  - The dtype: int64 confirms that the values are stored as 64-bit integers."
   ]
  },
  {
   "cell_type": "markdown",
   "metadata": {},
   "source": [
    "## <p style=\"background-color:#E51A59; font-family:newtimeroman; color:#FFF9ED; font-size:175%; text-align:center; border-radius:10px 10px;\">Visualizing the Data</p>"
   ]
  },
  {
   "cell_type": "code",
   "execution_count": 12,
   "metadata": {},
   "outputs": [],
   "source": [
    "import warnings\n",
    "warnings.filterwarnings('ignore')"
   ]
  },
  {
   "cell_type": "markdown",
   "metadata": {},
   "source": [
    "<hr>\n",
    "\n",
    "### Countplot\n",
    "\n",
    "\n",
    "<p style=\"background-color:#FFFFFF; font-family:newtimeroman; color:#0000FF; font-size:125%; text-align:left;\"><strong>What is Countplot in Seaborn?</strong></p>\n",
    "\n",
    "- **[Countplot()](https://seaborn.pydata.org/generated/seaborn.countplot.html)** method in Seaborn is used to Show the counts of observations in each categorical bin using bars.\n",
    "\n",
    "<hr>\n",
    "\n",
    "<p style=\"background-color:#FFFFFF; font-family:newtimeroman; color:#0000FF; font-size:125%; text-align:left;\"><strong>The following code snippet generates a bar plot to visualize the counts of car origins in the mpg datase.</strong></p>"
   ]
  },
  {
   "cell_type": "code",
   "execution_count": 13,
   "metadata": {
    "colab": {
     "base_uri": "https://localhost:8080/",
     "height": 449
    },
    "executionInfo": {
     "elapsed": 486,
     "status": "ok",
     "timestamp": 1683390116321,
     "user": {
      "displayName": "Richard Thames",
      "userId": "00258987493291873022"
     },
     "user_tz": -180
    },
    "id": "fE4xp9-aoafZ",
    "jupyter": {
     "source_hidden": true
    },
    "outputId": "6d207113-da59-4ed4-c233-b37331154f71",
    "tags": []
   },
   "outputs": [
    {
     "data": {
      "image/png": "[encoded data removed]",
      "text/plain": [
       "<Figure size 700x500 with 1 Axes>"
      ]
     },
     "metadata": {},
     "output_type": "display_data"
    }
   ],
   "source": [
    "fig, ax = plt.subplots(figsize=(7, 5))\n",
    "\n",
    "# Show the counts of observations in \"origin\" feature using bars (bins)\n",
    "sns.countplot(x=\"origin\", data=df);\n",
    "\n",
    "# add the annotation\n",
    "ax.bar_label(ax.containers[0]);\n",
    "\n",
    "# df.origin.value_counts().plot.bar()"
   ]
  },
  {
   "cell_type": "markdown",
   "metadata": {},
   "source": [
    "<hr>\n",
    "\n",
    "- **``Story Told by the Chart:``**\n",
    "  - **``Count of Car Origins``**: The bar plot clearly shows the number of cars from different origins represented in the dataset. Each bar's height corresponds to the count of cars, making it easy to compare the volumes between different categories.\n",
    "  - **``Visual Comparison``**: The use of bars allows for quick visual comparisons. For instance, viewers can immediately see which origin has the highest count and how the others compare.\n",
    "  - **``Data Transparency``**: By adding annotations that display the exact counts on top of each bar, the chart provides transparency regarding the data. This helps viewers understand the distribution without needing to interpret the heights of the bars alone.\n",
    "  - **``Insights into Preferences``**: The plot may suggest trends or preferences in car manufacturing or sales based on origin, which can be valuable for stakeholders in the automotive industry or for analysis in broader contexts.\n"
   ]
  },
  {
   "cell_type": "markdown",
   "metadata": {},
   "source": [
    "<hr>\n",
    "\n",
    "### Pie Chart\n",
    "\n",
    "\n",
    "<p style=\"background-color:#FFFFFF; font-family:newtimeroman; color:#0000FF; font-size:125%; text-align:left;\"><strong>What is Pie Chart in Seaborn?</strong></p>\n",
    "\n",
    "- A **[pie chart](https://en.wikipedia.org/wiki/Pie_chart)** is a type of graph representing data in a circular form, with each slice of the circle representing a fraction or proportionate part of the whole. All slices of the pie add up to make the whole equaling 100 percent and 360 degrees. Each of these categories is represented as a “slice of the pie.” The size of each slice is directly proportional to the number of data points that belong to a particular category.\n",
    "\n",
    "<hr>\n",
    "\n",
    "<p style=\"background-color:#FFFFFF; font-family:newtimeroman; color:#0000FF; font-size:125%; text-align:left;\"><strong>The following code snippet generates a pie chart to visually represent the distribution of car origins in the mpg datase.</strong></p>"
   ]
  },
  {
   "cell_type": "code",
   "execution_count": 14,
   "metadata": {
    "colab": {
     "base_uri": "https://localhost:8080/",
     "height": 576
    },
    "executionInfo": {
     "elapsed": 445,
     "status": "ok",
     "timestamp": 1683390248892,
     "user": {
      "displayName": "Richard Thames",
      "userId": "00258987493291873022"
     },
     "user_tz": -180
    },
    "id": "dJ5jRiqBzbkS",
    "jupyter": {
     "source_hidden": true
    },
    "outputId": "cb4736b9-61e8-4fe4-daab-910286d7490a",
    "tags": []
   },
   "outputs": [
    {
     "data": {
      "image/png": "[encoded data removed]",
      "text/plain": [
       "<Figure size 500x500 with 1 Axes>"
      ]
     },
     "metadata": {},
     "output_type": "display_data"
    }
   ],
   "source": [
    "import matplotlib.pyplot as plt\n",
    "\n",
    "# Pie chart, where the slices will be ordered and plotted counter-clockwise:\n",
    "labels = df.origin.value_counts().index\n",
    "sizes = df.origin.value_counts().values\n",
    "explode = ( 0, 0.2, 0)  # only \"explode\" the 2nd slice (i.e. 'Japan')\n",
    "\n",
    "fig, ax = plt.subplots(figsize=(5, 5))\n",
    "\n",
    "ax.pie(sizes, explode=explode, \n",
    "       labels=labels, \n",
    "       autopct='%1.1f%%',\n",
    "       shadow=True, startangle=110)\n",
    "\n",
    "ax.axis('equal')  # Equal aspect ratio ensures that pie is drawn as a circle.\n",
    "\n",
    "plt.show()"
   ]
  },
  {
   "cell_type": "markdown",
   "metadata": {},
   "source": [
    "- **``Story Told by this Pie Chart:``**\n",
    "  - **``Distribution of Car Origins``**: The pie chart visually represents the proportion of cars from different origins in the dataset. Each slice corresponds to a region (e.g., USA, Japan, Europe), and the size of each slice indicates the relative number of cars from that region.\n",
    "  - **``Emphasis on Japan``**: By exploding the slice for Japan, the chart highlights its significance, suggesting that it may have a notable presence in the dataset compared to the other origins.\n",
    "  - **``Overall Insight``**: Viewers can quickly grasp the distribution of car origins, making it easier to analyze trends or preferences in car manufacturing across different regions.\n",
    "  \n",
    "<hr>\n"
   ]
  },
  {
   "cell_type": "code",
   "execution_count": 15,
   "metadata": {
    "colab": {
     "base_uri": "https://localhost:8080/"
    },
    "executionInfo": {
     "elapsed": 311,
     "status": "ok",
     "timestamp": 1682536634188,
     "user": {
      "displayName": "Richard Thames",
      "userId": "00258987493291873022"
     },
     "user_tz": -180
    },
    "id": "qIFXBxYqmzsq",
    "outputId": "c5abff91-ac9f-40af-e158-0b0717fe8f0f"
   },
   "outputs": [
    {
     "data": {
      "text/plain": [
       "cylinders\n",
       "4    204\n",
       "8    103\n",
       "6     84\n",
       "3      4\n",
       "5      3\n",
       "Name: count, dtype: int64"
      ]
     },
     "execution_count": 15,
     "metadata": {},
     "output_type": "execute_result"
    }
   ],
   "source": [
    "# Return the counts (occurancies) of unique values in the \"cylinders\" feature\n",
    "\n",
    "df.cylinders.value_counts()"
   ]
  },
  {
   "cell_type": "markdown",
   "metadata": {},
   "source": [
    "<hr>\n",
    "\n",
    "### Barplot\n",
    "\n",
    "\n",
    "<p style=\"background-color:#FFFFFF; font-family:newtimeroman; color:#0000FF; font-size:125%; text-align:left;\"><strong>What is Barplot in Seaborn?</strong></p>\n",
    "\n",
    "\n",
    "- A barplot represents an aggregate or statistical estimate for a numeric variable with the height of each rectangle and indicates the uncertainty around that estimate using an error bar. \n",
    "\n",
    "- A **[barplot in Seaborn](https://seaborn.pydata.org/generated/seaborn.barplot.html)** is basically used to aggregate the categorical data according to some methods and by default it’s the mean. It can also be understood as a visualization of the group by action. To use this plot we choose a categorical column for the x-axis and a numerical column for the y-axis, and we see that it creates a plot taking a mean per categorical column.\n",
    "\n",
    "<hr>\n",
    "\n",
    "<p style=\"background-color:#FFFFFF; font-family:newtimeroman; color:#0000FF; font-size:125%; text-align:left;\"><strong>The following code snippet generates a bar plot to visualize the counts of different cylinder configurations in the mpg datase.</strong></p>"
   ]
  },
  {
   "cell_type": "code",
   "execution_count": 16,
   "metadata": {
    "colab": {
     "base_uri": "https://localhost:8080/",
     "height": 449
    },
    "executionInfo": {
     "elapsed": 374,
     "status": "ok",
     "timestamp": 1683390395753,
     "user": {
      "displayName": "Richard Thames",
      "userId": "00258987493291873022"
     },
     "user_tz": -180
    },
    "id": "Hlk3WEg4mo0K",
    "jupyter": {
     "outputs_hidden": true,
     "source_hidden": true
    },
    "outputId": "8e32a590-b126-4ddf-f220-444e4b852ab0",
    "tags": []
   },
   "outputs": [
    {
     "data": {
      "image/png": "[encoded data removed]",
      "text/plain": [
       "<Figure size 700x500 with 1 Axes>"
      ]
     },
     "metadata": {},
     "output_type": "display_data"
    }
   ],
   "source": [
    "fig, ax = plt.subplots(figsize=(7, 5))\n",
    "\n",
    "# Show the counts of observations in \"cylinders\" feature using bars (bins)\n",
    "sns.countplot(x=\"cylinders\", data=df)\n",
    "\n",
    "# add the annotation\n",
    "ax.bar_label(ax.containers[0]);"
   ]
  },
  {
   "cell_type": "markdown",
   "metadata": {},
   "source": [
    "- **``Story Told by the Chart:``**\n",
    "  - **``Distribution of Cylinders``**: The bar plot provides a clear visualization of how many vehicles in the dataset have different cylinder configurations. Each bar's height represents the count of cars with that specific number of cylinders.\n",
    "  - **``Comparative Analysis``**: Viewers can quickly see which cylinder configurations are more common. For example, they might observe that cars with 4 cylinders are more prevalent than those with 6 or 8 cylinders, indicating a trend towards fuel efficiency in the dataset.\n",
    "  - **``Data Transparency``**: The inclusion of annotations on the bars shows the exact counts, making it easy for viewers to interpret the data without estimating from the bar heights alone.\n",
    "  - **``Insights into Automotive Trends``**: The distribution of cylinders can provide insights into consumer preferences, regulations, and market trends in the automotive industry. A higher count of smaller cylinder configurations might suggest a shift towards more fuel-efficient vehicles.\n",
    "  \n",
    "<hr>"
   ]
  },
  {
   "cell_type": "code",
   "execution_count": 17,
   "metadata": {},
   "outputs": [
    {
     "data": {
      "text/plain": [
       "cylinders\n",
       "4    204\n",
       "8    103\n",
       "6     84\n",
       "3      4\n",
       "5      3\n",
       "Name: count, dtype: int64"
      ]
     },
     "execution_count": 17,
     "metadata": {},
     "output_type": "execute_result"
    }
   ],
   "source": [
    "df[\"cylinders\"].value_counts()"
   ]
  },
  {
   "cell_type": "markdown",
   "metadata": {},
   "source": [
    "<hr>\n",
    "\n",
    "<p style=\"background-color:#FFFFFF; font-family:newtimeroman; color:#FF0000; font-size:130%; text-align:left;\"><strong>❗⚠️ BE CAREFUL while using Bar plot in Seaborn:</strong></p>\n",
    "\n",
    "- When using bar plots in Seaborn, it's important to be aware that the default behavior is to calculate and display the mean of the values for each category.\n",
    "- When interpreting the bar plot, remember that the height of each bar represents the average (or other statistic if changed) of the values for that category, which may not reflect the distribution of the data.\n",
    "- If you want to visualize the actual counts of observations for each category, consider using countplot() instead, which directly counts the number of occurrences of each category without averaging."
   ]
  },
  {
   "cell_type": "code",
   "execution_count": 18,
   "metadata": {},
   "outputs": [
    {
     "data": {
      "image/png": "[encoded data removed]",
      "text/plain": [
       "<Figure size 600x400 with 1 Axes>"
      ]
     },
     "metadata": {},
     "output_type": "display_data"
    }
   ],
   "source": [
    "fig, ax = plt.subplots(figsize=(6, 4))\n",
    "\n",
    "# Show the counts of observations in \"cylinders\" feature using bars (bins)\n",
    "sns.barplot(x=\"cylinders\", data=df)\n",
    "\n",
    "# add the annotation\n",
    "ax.bar_label(ax.containers[0]);"
   ]
  },
  {
   "cell_type": "code",
   "execution_count": 19,
   "metadata": {},
   "outputs": [
    {
     "data": {
      "text/plain": [
       "5.454773869346734"
      ]
     },
     "execution_count": 19,
     "metadata": {},
     "output_type": "execute_result"
    }
   ],
   "source": [
    "df[\"cylinders\"].mean()"
   ]
  },
  {
   "cell_type": "markdown",
   "metadata": {},
   "source": [
    "<hr>\n",
    "\n",
    "\n",
    "<p style=\"background-color:#FFFFFF; font-family:newtimeroman; color:#0000FF; font-size:125%; text-align:left;\"><strong>What is the average weight by car origions?</strong></p>"
   ]
  },
  {
   "cell_type": "code",
   "execution_count": 20,
   "metadata": {
    "colab": {
     "base_uri": "https://localhost:8080/",
     "height": 449
    },
    "executionInfo": {
     "elapsed": 879,
     "status": "ok",
     "timestamp": 1682536653460,
     "user": {
      "displayName": "Richard Thames",
      "userId": "00258987493291873022"
     },
     "user_tz": -180
    },
    "id": "x_Tg5lJBpa9N",
    "outputId": "52a3efdc-d2a6-4b23-acdc-15b14a2552cf"
   },
   "outputs": [
    {
     "data": {
      "image/png": "[encoded data removed]",
      "text/plain": [
       "<Figure size 700x500 with 1 Axes>"
      ]
     },
     "metadata": {},
     "output_type": "display_data"
    }
   ],
   "source": [
    "# average weights by origin\n",
    "\n",
    "fig, ax = plt.subplots(figsize=(7, 5))\n",
    "\n",
    "sns.barplot(x=\"origin\", y=\"weight\", data=df)\n",
    "\n",
    "# add the annotation\n",
    "ax.bar_label(ax.containers[0], label_type='center');\n",
    "\n",
    "# df.groupby(\"origin\").weight.mean().plot.bar()"
   ]
  },
  {
   "cell_type": "markdown",
   "metadata": {},
   "source": [
    "- **``Story Told by the Chart:``**\n",
    "  - **``Average Weight by Origin``**: The bar plot visually conveys the average weights of cars from different origins, allowing for immediate comparisons. For example, viewers can see how the average weight of cars from the USA compares to those from Japan or Europe.\n",
    "  - **``Insights into Design Trends``**: Differences in average weights may hint at design philosophies or market trends in automotive manufacturing. For instance, if cars from one region are significantly heavier, it could suggest a focus on larger vehicles, which might be common in the USA.\n",
    "  - **``Data Transparency``**: The inclusion of average weight labels on the bars provides clarity, allowing viewers to see exact values without estimating from the bar heights.\n",
    "  - **``Consumer Preferences and Regulations``**: Understanding average weights can be relevant for discussions around fuel efficiency, safety regulations, and consumer preferences. Heavier vehicles may be associated with different performance characteristics compared to lighter ones."
   ]
  },
  {
   "cell_type": "markdown",
   "metadata": {},
   "source": [
    "<hr>\n",
    "\n",
    "\n",
    "<p style=\"background-color:#FFFFFF; font-family:newtimeroman; color:#0000FF; font-size:125%; text-align:left;\"><strong>What is the average weight by car cylinder?</strong></p>"
   ]
  },
  {
   "cell_type": "code",
   "execution_count": 21,
   "metadata": {
    "colab": {
     "base_uri": "https://localhost:8080/",
     "height": 449
    },
    "executionInfo": {
     "elapsed": 862,
     "status": "ok",
     "timestamp": 1683390763369,
     "user": {
      "displayName": "Richard Thames",
      "userId": "00258987493291873022"
     },
     "user_tz": -180
    },
    "id": "FJQixjrUyQF1",
    "jupyter": {
     "outputs_hidden": true,
     "source_hidden": true
    },
    "outputId": "b2511dd5-69a6-42d5-fe66-f47a64ca540f",
    "tags": []
   },
   "outputs": [
    {
     "data": {
      "image/png": "[encoded data removed]",
      "text/plain": [
       "<Figure size 640x480 with 1 Axes>"
      ]
     },
     "metadata": {},
     "output_type": "display_data"
    }
   ],
   "source": [
    "# avg weights by different cylinders\n",
    "\n",
    "sns.barplot(x=\"cylinders\", y=\"weight\", data=df);\n",
    "\n",
    "# Vehicles with more cylinders tend to be heavier due to larger engines and additional components. "
   ]
  },
  {
   "cell_type": "markdown",
   "metadata": {},
   "source": [
    "- **``Story Told by the Chart:``**\n",
    "  - **``Average Weight by Cylinder Count``**: The bar plot visually communicates how the average weight of cars varies with the number of cylinders. This allows for immediate comparisons across different cylinder configurations.\n",
    "  - **``Insights into Engine Design and Vehicle Type``**: Typically, vehicles with more cylinders tend to be heavier due to larger engines and additional components. Therefore, if the plot shows that cars with 8 cylinders are significantly heavier than those with 4 or 6, it reflects common automotive engineering trends.\n",
    "  - **``Performance Implications``**: The relationship between cylinder count and weight can also indicate performance characteristics. Heavier vehicles may be associated with different driving dynamics, fuel consumption, and power outputs compared to lighter cars.\n",
    "  - **``Consumer Preferences and Market Trends``**: Understanding how weight varies with cylinder count can provide insights into consumer preferences. For instance, if there is a prevalent trend towards smaller, lighter vehicles (e.g., cars with 4 cylinders), it might reflect a shift towards fuel efficiency and environmental considerations."
   ]
  },
  {
   "cell_type": "markdown",
   "metadata": {},
   "source": [
    "<hr>\n",
    "\n",
    "\n",
    "#### It's your turn:\n",
    "\n",
    "  - **What is the average mpg by country/continent?**"
   ]
  },
  {
   "cell_type": "code",
   "execution_count": 22,
   "metadata": {
    "colab": {
     "base_uri": "https://localhost:8080/",
     "height": 449
    },
    "executionInfo": {
     "elapsed": 9,
     "status": "ok",
     "timestamp": 1683390753776,
     "user": {
      "displayName": "Richard Thames",
      "userId": "00258987493291873022"
     },
     "user_tz": -180
    },
    "id": "bkCCPg0PraMq",
    "outputId": "8d701c03-ec92-4fa2-b875-c794272c31e1"
   },
   "outputs": [
    {
     "data": {
      "image/png": "[encoded data removed]",
      "text/plain": [
       "<Figure size 640x480 with 1 Axes>"
      ]
     },
     "metadata": {},
     "output_type": "display_data"
    }
   ],
   "source": [
    "# avg mpg values in different continents\n",
    "\n",
    "sns.barplot(x=\"origin\", y=\"mpg\", data=df);"
   ]
  },
  {
   "cell_type": "markdown",
   "metadata": {},
   "source": [
    "- **``Story Told by the Chart:``**\n",
    "  - **``Average MPG by Origin``**: The bar plot visually communicates how fuel efficiency (measured in MPG) varies among cars from different origins. This allows viewers to quickly compare the average fuel efficiency of vehicles from the USA, Japan, and Europe.\n",
    "  - **``Insights into Fuel Efficiency Trends``**: If the plot shows that cars from Japan have a higher average MPG compared to those from the USA, it could suggest that Japanese manufacturers focus more on fuel-efficient designs. This insight could reflect broader trends in the automotive industry related to consumer demand for efficiency.\n",
    "  - **``Impact of Design and Technology``**: Differences in average MPG may also be indicative of varying engineering practices, regulations, and technological advancements across regions. For example, European cars might be designed with smaller engines that prioritize fuel economy, while American cars might emphasize power, leading to lower MPG.\n",
    "  - **``Consumer Preferences and Market Dynamics``**: Understanding average MPG by origin can provide valuable insights into consumer preferences. A trend towards higher MPG vehicles might indicate a shift in consumer priorities towards sustainability and cost-effectiveness in fuel consumption."
   ]
  },
  {
   "cell_type": "code",
   "execution_count": 23,
   "metadata": {
    "id": "BldhdehUwTWc"
   },
   "outputs": [],
   "source": [
    "# help(sns.barplot)\n",
    "# help(sns.countplot)"
   ]
  },
  {
   "cell_type": "markdown",
   "metadata": {},
   "source": [
    "<hr>\n",
    "\n",
    "\n",
    "<p style=\"background-color:#FFFFFF; font-family:newtimeroman; color:#0000FF; font-size:125%; text-align:left;\"><strong>Barplot vs. Countplot in Seaborn:</strong></p>\n",
    "\n",
    "\n",
    "\n",
    "Both barplot and countplot in Seaborn are used to create bar charts, but they differ in how they handle the data they visualize:\n",
    "\n",
    "- **1. barplot:**\n",
    "\n",
    "  - **Purpose:** Visualizes the relationship between a categorical variable and a numerical variable. It aggregates the numerical data for each category and displays it as bars.\n",
    "  - **Data:** Requires two columns:\n",
    "     - Categorical Variable: This is the variable that defines the groups for the bars (e.g., \"Gender\", \"City\").\n",
    "     - Numerical Variable: This is the variable that is aggregated for each category (e.g., \"Age\", \"Sales\").\n",
    "  - **Aggregation:** The barplot function automatically aggregates the numerical data for each category (usually using the mean). You can customize the aggregation method using the estimator parameter.\n",
    "\n",
    "- **2. countplot:**\n",
    "\n",
    "  - **Purpose:** Visualizes the frequency distribution of a categorical variable. It counts the occurrences of each category and displays them as bars.\n",
    "  - **Data:** Requires only one column:\n",
    "     - Categorical Variable: This is the variable whose frequencies you want to visualize.\n",
    "  - **Aggregation:** The countplot function automatically counts the occurrences of each category. It doesn't require a numerical variable.\n",
    "\n",
    "**In Summary:**\n",
    "\n",
    "- **``barplot:``** Shows the relationship between a categorical variable and a numerical variable.\n",
    "\n",
    "- **``countplot:``** Shows the frequency distribution of a categorical variable.\n",
    "\n",
    "<hr>\n"
   ]
  },
  {
   "cell_type": "markdown",
   "metadata": {},
   "source": [
    "<hr>\n",
    "\n",
    "### Histogram\n",
    "\n",
    "\n",
    "<hr>\n",
    "\n",
    "<p style=\"background-color:#FFFFFF; font-family:newtimeroman; color:#0000FF; font-size:125%; text-align:left;\"><strong>What is histplot in Seaborn?</strong></p>\n",
    "\n",
    "In Seaborn, histplot is used to create a histogram, which is a graphical representation of the distribution of numerical data.\n",
    "\n",
    "Here's a breakdown of what it does:\n",
    "\n",
    "- **Visualizes Data Distribution:** It shows the frequency or count of data points within specified ranges or bins. This helps understand the shape, center, and spread of your data.\n",
    "- **Flexible Options:** It offers various options to customize the appearance and functionality of the histogram:\n",
    "     - **``x`` and ``y`` Arguments:** You can specify the column to plot on the x-axis or y-axis.\n",
    "     - **``hue`` Argument:** You can group data points by a categorical variable, creating separate histograms for each group.\n",
    "     - **multiple Argument:** You can choose how to display multiple histograms (e.g., stacked, overlaid, etc.).\n",
    "     - **``kde`` Argument:** You can add a kernel density estimate (KDE) line to smooth the histogram and show the underlying distribution more clearly.\n",
    "     - **``bins`` Argument:** You can control the number of bins used to group the data.\n",
    "     - **``stat`` Argument:** You can specify the statistic to use for the histogram (e.g., count, frequency, probability density).\n",
    "     \n",
    "<hr>\n",
    "\n"
   ]
  },
  {
   "cell_type": "markdown",
   "metadata": {},
   "source": [
    "<hr>\n",
    "\n",
    "#### <p style=\"background-color:#FFFFFF; font-family:newtimeroman; color:#0000FF; font-size:125%; text-align:left;\"><strong>Analyze the distribution of the number of cylinders in the dataset:</strong></p>"
   ]
  },
  {
   "cell_type": "code",
   "execution_count": 24,
   "metadata": {},
   "outputs": [
    {
     "data": {
      "image/png": "[encoded data removed]",
      "text/plain": [
       "<Figure size 640x480 with 1 Axes>"
      ]
     },
     "metadata": {},
     "output_type": "display_data"
    }
   ],
   "source": [
    "# sns.histplot(x=\"cylinders\", data=df);\n",
    "\n",
    "sns.countplot(x=\"cylinders\", data=df);"
   ]
  },
  {
   "cell_type": "markdown",
   "metadata": {},
   "source": [
    " - **``Story Told by the Chart:``**\n",
    "   - **``Distribution of Cylinder Configurations``**: The count plot visually represents how many cars in the dataset have different cylinder counts. This allows viewers to quickly see which configurations are most common.\n",
    "   - **``Insights into Automotive Design Trends``**: If the plot shows a high count of cars with 4 cylinders compared to those with 6 or 8, it suggests a trend toward smaller, more fuel-efficient vehicles. This could reflect consumer preferences for economy and sustainability.\n",
    "   - **``Market Dynamics``**: The distribution of cylinder counts may also indicate shifts in the automotive market, such as a move away from larger engines in response to fuel economy standards or changing consumer preferences.\n",
    "   - **``Engineering Implications``**: Understanding the distribution of cylinder configurations can provide insights into engineering practices. A predominance of a specific cylinder count could imply design choices that prioritize fuel efficiency, power, or vehicle type (e.g., sports cars vs. sedans)."
   ]
  },
  {
   "cell_type": "markdown",
   "metadata": {},
   "source": [
    "**``Histplot`` vs. ``Countplot`` in Seaborn:** \n",
    "\n",
    "While both create bar charts, they are used for distinct purposes and visualize different types of data.\n",
    "\n",
    "**1. histplot:**\n",
    "\n",
    "- **Purpose:** Visualizes the distribution of a numerical variable. It shows the frequency or count of data points within specified ranges or bins.\n",
    "- **Data:** Requires a single numerical column.\n",
    "- **Focus:** Understanding the shape, center, and spread of a numerical variable.\n",
    "\n",
    "**2. countplot:**\n",
    "\n",
    "- **Purpose:** Visualizes the frequency distribution of a categorical variable. It counts the occurrences of each category and displays them as bars.\n",
    "- **Data:** Requires a single categorical column.\n",
    "- **Focus:** Understanding the frequency of each category in a dataset.\n",
    "\n",
    "<img align=\"center\" src=\"https://i.ibb.co/n3BKcns/histplot-vs-countplot.png\" width=\"400\" height=\"200\">\n",
    "\n",
    "**In Summary:**\n",
    "\n",
    "- 🎯 Use **``histplot``** to visualize the **``distribution of a numerical variable``**.\n",
    "\n",
    "- 🎯 Use **``countplot``** to visualize the **``frequency of categories``** in a **``categorical variable``**."
   ]
  },
  {
   "cell_type": "markdown",
   "metadata": {},
   "source": [
    "<hr>\n",
    "\n",
    "#### <p style=\"background-color:#FFFFFF; font-family:newtimeroman; color:#0000FF; font-size:125%; text-align:left;\"><strong>Analyze the distribution of weight in the dataset:</strong></p>"
   ]
  },
  {
   "cell_type": "code",
   "execution_count": 25,
   "metadata": {
    "colab": {
     "base_uri": "https://localhost:8080/",
     "height": 449
    },
    "executionInfo": {
     "elapsed": 393,
     "status": "ok",
     "timestamp": 1683390811730,
     "user": {
      "displayName": "Richard Thames",
      "userId": "00258987493291873022"
     },
     "user_tz": -180
    },
    "id": "g4xku4CutBhH",
    "outputId": "597e7a62-0c8c-499a-b51b-288dd27209bc"
   },
   "outputs": [
    {
     "data": {
      "image/png": "[encoded data removed]",
      "text/plain": [
       "<Figure size 640x480 with 1 Axes>"
      ]
     },
     "metadata": {},
     "output_type": "display_data"
    }
   ],
   "source": [
    "# Represent the distribution of a continuous, weight, data:\n",
    "\n",
    "sns.histplot(x=\"weight\", data=df);\n",
    "\n",
    "# how car weights are distributed across the dataset"
   ]
  },
  {
   "cell_type": "markdown",
   "metadata": {},
   "source": [
    "- **``Story Told by the Chart:``**\n",
    "  - **``Distribution of Car Weights``**: The histogram visually communicates how car weights are distributed across the dataset. Viewers can easily see where most cars fall on the weight spectrum, identifying trends such as whether most cars are lightweight, mid-weight, or heavy.\n",
    "  - **``Insights into Automotive Design``**: A histogram showing a concentration of cars in a specific weight range might suggest common design trends. For example, if most cars fall into the lighter weight category, it could indicate a focus on fuel efficiency and performance.\n",
    "  - **``Understanding Market Segments``**: The distribution of car weights can also provide insights into market segments. For instance, a significant presence of heavier vehicles may point to a market oriented towards larger families or utility vehicles, while a concentration of lighter cars might indicate preferences for compact or sporty vehicles.\n",
    "  - **``Identifying Outliers``**: The histogram can help identify any outliers or unusual weight distributions. For example, if there are very few cars at extreme weights, this could prompt further investigation into why those vehicles are outliers.\n",
    "\n",
    "\n",
    "<hr>\n",
    "\n",
    "#### <p style=\"background-color:#FFFFFF; font-family:newtimeroman; color:#0000FF; font-size:125%; text-align:left;\"><strong>Analyze the distribution of horsepower in the dataset:</strong></p>"
   ]
  },
  {
   "cell_type": "code",
   "execution_count": 26,
   "metadata": {
    "colab": {
     "base_uri": "https://localhost:8080/",
     "height": 449
    },
    "executionInfo": {
     "elapsed": 893,
     "status": "ok",
     "timestamp": 1683390981670,
     "user": {
      "displayName": "Richard Thames",
      "userId": "00258987493291873022"
     },
     "user_tz": -180
    },
    "id": "witgAYn_uKrV",
    "outputId": "277c3747-1663-49d0-d508-404da30a8352"
   },
   "outputs": [
    {
     "data": {
      "image/png": "[encoded data removed]",
      "text/plain": [
       "<Figure size 640x480 with 1 Axes>"
      ]
     },
     "metadata": {},
     "output_type": "display_data"
    }
   ],
   "source": [
    "# Represent the distribution of a continuous, horsepower, data\n",
    "\n",
    "sns.histplot(x=\"horsepower\", data =df);"
   ]
  },
  {
   "cell_type": "code",
   "execution_count": 27,
   "metadata": {
    "id": "WrOrro_fuR-1"
   },
   "outputs": [
    {
     "data": {
      "image/png": "[encoded data removed]",
      "text/plain": [
       "<Figure size 640x480 with 1 Axes>"
      ]
     },
     "metadata": {},
     "output_type": "display_data"
    }
   ],
   "source": [
    "# Representation of the depicting groups of numerical, horsepower, data through their quartiles\n",
    "\n",
    "sns.boxplot(x=\"horsepower\", data=df);\n",
    "\n",
    "# The length of the box (the interquartile range) illustrates the variability in horsepower among the cars in the dataset.\n",
    "# A wider box indicates greater variability, while a narrower box suggests consistency in horsepower among vehicles."
   ]
  },
  {
   "cell_type": "markdown",
   "metadata": {},
   "source": [
    "- **``Story Told by the Chart:``**\n",
    "  - **``Summary of Horsepower Distribution``**: The box plot provides a concise summary of the horsepower values, including the median, quartiles, and range. The central line within the box indicates the median horsepower, while the edges of the box represent the first (Q1) and third (Q3) quartiles.\n",
    "I  - **``nsights into Variability``**: The length of the box (the interquartile range) illustrates the variability in horsepower among the cars in the dataset. A wider box indicates greater variability, while a narrower box suggests consistency in horsepower among vehicles.\n",
    "  - **``Identification of Outliers``**: The plot also highlights potential outliers, which are represented as individual points outside the \"whiskers\" of the box. These outliers can indicate unique vehicles with exceptionally high or low horsepower, prompting further investigation into their characteristics.\n",
    "  - **``Comparison Across Different Vehicle Types``**: If the box plot were extended to include categories (e.g., by origin or cylinders), it could provide insights into how horsepower varies between different types of vehicles. For example, you might see that sports cars (often with higher horsepower) cluster in a different range compared to economy cars.\n",
    "\n",
    "\n",
    "<hr>\n",
    "\n",
    "\n",
    "<p style=\"background-color:#FFFFFF; font-family:newtimeroman; color:#0000FF; font-size:125%; text-align:left;\"><strong>histplot vs. boxplot</strong></p>\n",
    "\n",
    "\n",
    "histplot and boxplot are both powerful visualization tools in Seaborn, but they serve different purposes and highlight different aspects of your data.\n",
    "\n",
    "Here's a breakdown of their key differences:\n",
    "\n",
    "- **1. histplot:** showing the overall distribution of scores, highlighting the frequency of different score ranges.\n",
    "\n",
    "  - **Purpose:** Visualizes the distribution of a numerical variable. It shows the frequency or count of data points within specified ranges or bins.\n",
    "  - **What it shows:**\n",
    "     - **Shape:** The overall shape of the distribution (e.g., bell-shaped, skewed, bimodal).\n",
    "     - **Center:** The approximate location of the center of the data (e.g., mean, median).\n",
    "     - **Spread:** How spread out the data is (e.g., range, standard deviation).\n",
    "  - **Best for:** Understanding the overall distribution of a single numerical variable.\n",
    "\n",
    "- **2. boxplot:** showing the distribution of scores separately, allowing you to compare their average scores, quartiles, and potential outliers.\n",
    "\n",
    "  - **Purpose:** Summarizes the distribution of a numerical variable, focusing on key statistical measures.\n",
    "  - **What it shows:**\n",
    "     - **Median:** The middle value of the data.\n",
    "     - **Quartiles:** The 25th, 50th, and 75th percentiles of the data.\n",
    "     - **Outliers:** Extreme values that fall outside the expected range.\n",
    "- **Best for:**\n",
    "  - Comparing the distribution of a numerical variable across different groups (e.g., by gender, age, etc.).\n",
    "  - Identifying potential outliers in the data.\n",
    "\n",
    "<img align=\"center\" src=\"https://i.ibb.co/8NT1Hp0/hisplot-vs-boxplot.png\" width=\"500\" height=\"200\">\n",
    "\n",
    "**Choice:**\n",
    "\n",
    "- The choice between histplot and boxplot depends on your specific goals and the type of data you're working with. If you want to understand the overall shape of a distribution, use histplot. If you want to compare distributions across groups or identify outliers, use boxplot.\n",
    "\n",
    "<hr>"
   ]
  },
  {
   "cell_type": "markdown",
   "metadata": {},
   "source": [
    "## <p style=\"background-color:#E51A59; font-family:newtimeroman; color:#FFF9ED; font-size:175%; text-align:center; border-radius:10px 10px;\">Analyzing Skewness & Kurtosis</p>\n",
    "\n",
    "### <p style=\"background-color:#FFFFFF; font-family:newtimeroman; color:#0000FF; font-size:125%; text-align:left;\"><strong>Why do we need Scipy.stats library?</strong></p>\n",
    "\n",
    "Scipy.stats is a Python library that provides a wide range of statistical functions and probability distributions, as well as tools for statistical analysis and hypothesis testing. Some of the reasons why we might need this library include:\n",
    "\n",
    "  - Probability distributions: Scipy.stats provides a large number of probability distributions, such as the normal distribution, the binomial distribution, the Poisson distribution, and many others. These distributions can be used to model and analyze various types of data in fields such as physics, engineering, economics, and many others.\n",
    "\n",
    "  - Statistical functions: Scipy.stats also provides a wide range of statistical functions, such as mean, median, variance, standard deviation, skewness, kurtosis, and many others. These functions can be used to analyze and summarize data, as well as to compute various types of statistical tests.\n",
    "\n",
    "  - Hypothesis testing: Scipy.stats provides tools for hypothesis testing, such as t-tests, chi-square tests, ANOVA, and many others. These tests can be used to determine whether there is a significant difference between two or more groups of data, or to test whether a particular hypothesis is supported by the data.\n",
    "\n",
    "  - Regression analysis: Scipy.stats provides tools for linear and non-linear regression analysis, which can be used to model relationships between variables and to make predictions based on the data.\n",
    "\n",
    "In summary, Scipy.stats is a powerful library that provides a wide range of statistical functionality, making it an essential tool for anyone working with data analysis and statistical modeling in Python."
   ]
  },
  {
   "cell_type": "code",
   "execution_count": 28,
   "metadata": {
    "executionInfo": {
     "elapsed": 355,
     "status": "ok",
     "timestamp": 1683391033467,
     "user": {
      "displayName": "Richard Thames",
      "userId": "00258987493291873022"
     },
     "user_tz": -180
    },
    "id": "uPV0TIi2sQFk"
   },
   "outputs": [],
   "source": [
    "import numpy as np\n",
    "from scipy.stats import kurtosis, skew"
   ]
  },
  {
   "cell_type": "code",
   "execution_count": 29,
   "metadata": {
    "executionInfo": {
     "elapsed": 2,
     "status": "ok",
     "timestamp": 1683391036653,
     "user": {
      "displayName": "Richard Thames",
      "userId": "00258987493291873022"
     },
     "user_tz": -180
    },
    "id": "tf2Alxp8sQIT"
   },
   "outputs": [],
   "source": [
    "from scipy import stats"
   ]
  },
  {
   "cell_type": "markdown",
   "metadata": {},
   "source": [
    "### <p style=\"background-color:#FFFFFF; font-family:newtimeroman; color:#0000FF; font-size:125%; text-align:left;\"><strong>Skewness and Kurtosis:</strong></p>\n",
    "\n",
    "Skewness and kurtosis are both measures of the shape of a distribution.\n",
    "\n",
    "- **Skewness** is a measure of the asymmetry of a distribution. A distribution that is symmetric about its mean has a skewness of zero. If a distribution has a long tail to the right (i.e., the right side of the distribution extends further than the left side), it is said to be positively skewed, and its skewness value will be greater than zero. If a distribution has a long tail to the left (i.e., the left side of the distribution extends further than the right side), it is said to be negatively skewed, and its skewness value will be less than zero.\n",
    "\n",
    "- **Kurtosis** is a measure of the \"peakedness\" of a distribution. A distribution that has a sharp peak (i.e., it is more peaked than a normal distribution) has positive kurtosis, while a distribution that is less peaked than a normal distribution has negative kurtosis. A normal distribution has a kurtosis of zero.\n",
    "\n",
    "There are several ways to compute skewness and kurtosis, but one common method is to use the standardized moments:\n",
    "\n",
    "<code>Skewness = (mean - mode) / standard deviation</code><br>\n",
    "<code>Kurtosis = (mean - mode)^2 / variance</code><br>\n",
    "where the mode is the value that occurs most frequently in the distribution.\n",
    "\n",
    "Skewness and kurtosis are important because they can provide insight into the underlying properties of a dataset. For example, if a dataset has high positive skewness, it may suggest that there are outliers in the data that are pulling the mean to the right. Similarly, if a dataset has high positive kurtosis, it may suggest that the data is more \"peaked\" than a normal distribution, which could affect the accuracy of certain statistical tests."
   ]
  },
  {
   "cell_type": "markdown",
   "metadata": {},
   "source": [
    "### <p style=\"background-color:#FFFFFF; font-family:newtimeroman; color:#0000FF; font-size:125%; text-align:left;\"><strong>Which kurtosis and skewness values can be considered out of limit?</strong></p>\n",
    "\n",
    "In general, there is no definitive and clear answer in literature to what kurtosis or skewness values can be considered \"out of limit\" because it can depend on the specific context and distribution of the data being analyzed. However, there are some general guidelines that can be used as a starting point.\n",
    "\n",
    "Kurtosis measures the degree of \"peakedness\" or \"flatness\" of a distribution, relative to a normal distribution. A normal distribution has a kurtosis of 0, and distributions with kurtosis values greater than 0 are said to be \"leptokurtic\" or \"heavy-tailed,\" while distributions with kurtosis values less than 0 are said to be \"platykurtic\" or \"light-tailed.\" A kurtosis value of 3 is often used as a benchmark for \"normal\" kurtosis, because this is the kurtosis of a normal distribution. However, it is important to note that kurtosis values outside the range of -2 to +2 may indicate that the data is NOT normally distributed.\n",
    "\n",
    "Skewness measures the degree of asymmetry of a distribution. A normal distribution has a skewness of 0, and distributions with skewness values greater than 0 are said to be \"skewed to the right,\" while distributions with skewness values less than 0 are said to be \"skewed to the left.\" A commonly used rule of thumb is that skewness values between -1 and +1 are considered \"acceptable,\" while values outside this range may indicate significant skewness. However, it is important to note that there is no strict cutoff for what constitutes \"too much\" skewness, and the interpretation of skewness values should always be based on the specific context and distribution of the data being analyzed.\n",
    "\n",
    "It's also important to keep in mind that kurtosis and skewness are just two measures of the shape of a distribution, and they should always be interpreted in conjunction with other measures, such as histograms or Q-Q plots, to get a complete understanding of the distribution of the data."
   ]
  },
  {
   "cell_type": "code",
   "execution_count": 30,
   "metadata": {
    "colab": {
     "base_uri": "https://localhost:8080/",
     "height": 430
    },
    "executionInfo": {
     "elapsed": 1593,
     "status": "ok",
     "timestamp": 1683391042221,
     "user": {
      "displayName": "Richard Thames",
      "userId": "00258987493291873022"
     },
     "user_tz": -180
    },
    "id": "UJpm9R2UzdPS",
    "outputId": "6a4ccc5d-3e4a-4c9d-c1bb-02760866ab93"
   },
   "outputs": [
    {
     "data": {
      "image/png": "[encoded data removed]",
      "text/plain": [
       "<Figure size 640x480 with 1 Axes>"
      ]
     },
     "metadata": {},
     "output_type": "display_data"
    }
   ],
   "source": [
    "# x = np.random.normal(0, 2, 10)\n",
    "# x = np.random.normal(0, 2, 100)\n",
    "# x = np.random.normal(0, 2, 1000)\n",
    "# x = np.random.normal(0, 2, 10000)\n",
    "# x = np.random.normal(0, 2, 100000)\n",
    "\n",
    "x = np.random.normal(0, 2, 10000000)\n",
    "\n",
    "plt.hist(x, bins=100);"
   ]
  },
  {
   "cell_type": "markdown",
   "metadata": {},
   "source": [
    "<hr>\n",
    "\n",
    "\n",
    "### EXAMPLE-01:"
   ]
  },
  {
   "cell_type": "code",
   "execution_count": 31,
   "metadata": {},
   "outputs": [
    {
     "data": {
      "image/png": "[encoded data removed]",
      "text/plain": [
       "<Figure size 1500x800 with 6 Axes>"
      ]
     },
     "metadata": {},
     "output_type": "display_data"
    }
   ],
   "source": [
    "import numpy as np\n",
    "import matplotlib.pyplot as plt\n",
    "from scipy.stats import skew, kurtosis\n",
    "\n",
    "# Generate the datasets\n",
    "data1 = np.random.normal(0, 2, 10)\n",
    "data2 = np.random.normal(0, 2, 100)\n",
    "data3 = np.random.normal(0, 2, 1000)\n",
    "data4 = np.random.normal(0, 2, 10000)\n",
    "data5 = np.random.normal(0, 2, 100000)\n",
    "data6 = np.random.normal(0, 2, 1000000)\n",
    "\n",
    "# Compute the skewness and kurtosis\n",
    "skewness1 = skew(data1)\n",
    "skewness2 = skew(data2)\n",
    "skewness3 = skew(data3)\n",
    "skewness4 = skew(data4)\n",
    "skewness5 = skew(data5)\n",
    "skewness6 = skew(data6)\n",
    "\n",
    "kurtosis1 = kurtosis(data1)\n",
    "kurtosis2 = kurtosis(data2)\n",
    "kurtosis3 = kurtosis(data3)\n",
    "kurtosis4 = kurtosis(data4)\n",
    "kurtosis5 = kurtosis(data5)\n",
    "kurtosis6 = kurtosis(data6)\n",
    "\n",
    "# Plot the histograms\n",
    "fig, axs = plt.subplots(2, 3, figsize=(15, 8))\n",
    "axs[0, 0].hist(data1, bins=5)\n",
    "axs[0, 0].set_title(f\"n=10\\nSkewness: {skewness1:.2f}, Kurtosis: {kurtosis1:.2f}\")\n",
    "axs[0, 1].hist(data2, bins=20)\n",
    "axs[0, 1].set_title(f\"n=100\\nSkewness: {skewness2:.2f}, Kurtosis: {kurtosis2:.2f}\")\n",
    "axs[0, 2].hist(data3, bins=40)\n",
    "axs[0, 2].set_title(f\"n=1000\\nSkewness: {skewness3:.2f}, Kurtosis: {kurtosis3:.2f}\")\n",
    "axs[1, 0].hist(data4, bins=80)\n",
    "axs[1, 0].set_title(f\"n=10000\\nSkewness: {skewness4:.2f}, Kurtosis: {kurtosis4:.2f}\")\n",
    "axs[1, 1].hist(data5, bins=150)\n",
    "axs[1, 1].set_title(f\"n=100000\\nSkewness: {skewness5:.2f}, Kurtosis: {kurtosis5:.2f}\")\n",
    "axs[1, 2].hist(data6, bins=200)\n",
    "axs[1, 2].set_title(f\"n=1000000\\nSkewness: {skewness6:.2f}, Kurtosis: {kurtosis6:.2f}\")\n",
    "\n",
    "plt.tight_layout()\n",
    "\n",
    "plt.show()"
   ]
  },
  {
   "cell_type": "markdown",
   "metadata": {},
   "source": [
    "<hr>\n",
    "\n",
    "#### <p style=\"background-color:#FFFFFF; font-family:newtimeroman; color:#0000FF; font-size:125%; text-align:left;\"><strong>Calculate kurtosis value for ``x``:</strong></p>\n"
   ]
  },
  {
   "cell_type": "code",
   "execution_count": 32,
   "metadata": {
    "colab": {
     "base_uri": "https://localhost:8080/"
    },
    "executionInfo": {
     "elapsed": 1157,
     "status": "ok",
     "timestamp": 1683391155847,
     "user": {
      "displayName": "Richard Thames",
      "userId": "00258987493291873022"
     },
     "user_tz": -180
    },
    "id": "54LE05XizdSY",
    "outputId": "a58e37da-3c30-4b59-baf7-6935f7ac47b1"
   },
   "outputs": [
    {
     "data": {
      "text/plain": [
       "0.0006652570282525971"
      ]
     },
     "execution_count": 32,
     "metadata": {},
     "output_type": "execute_result"
    }
   ],
   "source": [
    "kurtosis(x)"
   ]
  },
  {
   "cell_type": "markdown",
   "metadata": {},
   "source": [
    "<p style=\"background-color:#FFFFFF; font-family:newtimeroman; color:#0000FF; font-size:125%; text-align:left;\"><strong>What does the kurtosis value of 0.0001503658038473077 tell us?</strong></p>\n",
    "\n",
    "- A kurtosis value of 0.0001503658038473077 on its own does not provide much information about the shape of the distribution. However, it suggests that the distribution is very close to a normal distribution, which has a kurtosis of 0.\n",
    "\n",
    "Kurtosis measures the \"peakedness\" of a distribution, relative to a normal distribution. A positive kurtosis value indicates that the distribution is more peaked than a normal distribution, while a negative kurtosis value indicates that the distribution is less peaked than a normal distribution. A kurtosis value of 0 indicates that the distribution has the same degree of peakedness as a normal distribution.\n",
    "\n",
    "However, it is important to note that kurtosis should be interpreted in conjunction with other measures of the distribution, such as skewness and the shape of the histogram. For example, a distribution that has a kurtosis close to 0 could still be heavily skewed, which would indicate that the distribution is not normal.\n",
    "\n",
    "In summary, a kurtosis value of 0.0001503658038473077 suggests that the distribution is very close to a normal distribution, but it is important to consider other measures of the distribution to fully understand its shape.\n",
    "\n",
    "<p style=\"text-align: center;\"><img src=\"https://i.ibb.co/SRCWb4h/kurtosis.jpg\" class=\"img-fluid\" alt=\"kurtosis\" width=\"300\" height=\"200\"></p>\n",
    "\n",
    "[IMAGE CREDIT](https://medium.com/@dancerworld60/kurtosis-and-how-to-find-given-distribution-is-normal-or-not-50ed3b05bf3b)"
   ]
  },
  {
   "cell_type": "markdown",
   "metadata": {},
   "source": [
    "<hr>\n",
    "\n",
    "#### <p style=\"background-color:#FFFFFF; font-family:newtimeroman; color:#0000FF; font-size:125%; text-align:left;\"><strong>Calculate skewness value for ``x``:</strong></p>"
   ]
  },
  {
   "cell_type": "code",
   "execution_count": 33,
   "metadata": {
    "colab": {
     "base_uri": "https://localhost:8080/"
    },
    "executionInfo": {
     "elapsed": 592,
     "status": "ok",
     "timestamp": 1678705058681,
     "user": {
      "displayName": "Richard Thames",
      "userId": "00258987493291873022"
     },
     "user_tz": -180
    },
    "id": "kqPDsdXZzdU_",
    "outputId": "aca51750-508f-47a2-ecb5-6d0df377de08"
   },
   "outputs": [
    {
     "data": {
      "text/plain": [
       "-0.001255742992360643"
      ]
     },
     "execution_count": 33,
     "metadata": {},
     "output_type": "execute_result"
    }
   ],
   "source": [
    "skew(x)"
   ]
  },
  {
   "cell_type": "markdown",
   "metadata": {},
   "source": [
    "<p style=\"background-color:#FFFFFF; font-family:newtimeroman; color:#0000FF; font-size:125%; text-align:left;\"><strong>What does the skewness value of 0.0010853329881215733 tell us?</strong></p>\n",
    "\n",
    "- A skewness value of 0.0010853329881215733 on its own suggests that the distribution is approximately symmetric. Skewness measures the degree of asymmetry of a distribution. A skewness value of 0 indicates that the distribution is perfectly symmetric.\n",
    "\n",
    "However, it is important to note that small deviations from zero in the skewness value can still indicate some degree of asymmetry in the distribution, especially in large datasets. Therefore, it is important to also look at the histogram or other visualizations of the data to confirm the degree of symmetry or asymmetry.\n",
    "\n",
    "In summary, a skewness value of 0.0010853329881215733 suggests that the distribution is approximately symmetric, **but it is still important to examine the distribution visually to confirm this.**\n",
    "\n",
    "Together, these values indicate that the distribution has a shape that is very similar to a normal distribution, with only small deviations from perfect symmetry and the standard level of peakedness."
   ]
  },
  {
   "cell_type": "markdown",
   "metadata": {},
   "source": [
    "<hr>\n",
    "\n",
    "#### <p style=\"background-color:#FFFFFF; font-family:newtimeroman; color:#0000FF; font-size:125%; text-align:left;\"><strong>Analyze the distribution of observations  in the ``x`` visually:</strong></p>\n"
   ]
  },
  {
   "cell_type": "code",
   "execution_count": 34,
   "metadata": {},
   "outputs": [
    {
     "data": {
      "image/png": "[encoded data removed]",
      "text/plain": [
       "<Figure size 640x480 with 1 Axes>"
      ]
     },
     "metadata": {},
     "output_type": "display_data"
    }
   ],
   "source": [
    "plt.hist(x, bins=100);"
   ]
  },
  {
   "cell_type": "markdown",
   "metadata": {},
   "source": [
    "<hr>\n",
    "\n",
    "\n",
    "### EXAMPLE-02:"
   ]
  },
  {
   "cell_type": "code",
   "execution_count": 35,
   "metadata": {
    "executionInfo": {
     "elapsed": 338,
     "status": "ok",
     "timestamp": 1683391210721,
     "user": {
      "displayName": "Richard Thames",
      "userId": "00258987493291873022"
     },
     "user_tz": -180
    },
    "id": "K3b1YEF0zdXa"
   },
   "outputs": [],
   "source": [
    "shape, scale = 2, 2\n",
    "\n",
    "s = np.random.gamma(shape, scale, 100000)"
   ]
  },
  {
   "cell_type": "markdown",
   "metadata": {},
   "source": [
    "<hr>\n",
    "\n",
    "#### <p style=\"background-color:#FFFFFF; font-family:newtimeroman; color:#0000FF; font-size:125%; text-align:left;\"><strong>Calculate kurtosis value for ``S``:</strong></p>"
   ]
  },
  {
   "cell_type": "code",
   "execution_count": 36,
   "metadata": {
    "colab": {
     "base_uri": "https://localhost:8080/"
    },
    "executionInfo": {
     "elapsed": 348,
     "status": "ok",
     "timestamp": 1683391253675,
     "user": {
      "displayName": "Richard Thames",
      "userId": "00258987493291873022"
     },
     "user_tz": -180
    },
    "id": "LlI39FsWz28W",
    "outputId": "1c125eaf-318b-4304-8607-c6078ccb4498"
   },
   "outputs": [
    {
     "data": {
      "text/plain": [
       "2.924955156777636"
      ]
     },
     "execution_count": 36,
     "metadata": {},
     "output_type": "execute_result"
    }
   ],
   "source": [
    "kurtosis(s)"
   ]
  },
  {
   "cell_type": "markdown",
   "metadata": {},
   "source": [
    "<hr>\n",
    "\n",
    "#### <p style=\"background-color:#FFFFFF; font-family:newtimeroman; color:#0000FF; font-size:125%; text-align:left;\"><strong>Calculate skewness value for ``S``:</strong></p>"
   ]
  },
  {
   "cell_type": "code",
   "execution_count": 37,
   "metadata": {
    "colab": {
     "base_uri": "https://localhost:8080/"
    },
    "executionInfo": {
     "elapsed": 343,
     "status": "ok",
     "timestamp": 1683391258949,
     "user": {
      "displayName": "Richard Thames",
      "userId": "00258987493291873022"
     },
     "user_tz": -180
    },
    "id": "W3KOcH2T0CHp",
    "outputId": "01917ed3-de31-4486-d678-25c076fe40da"
   },
   "outputs": [
    {
     "data": {
      "text/plain": [
       "1.3948202627069737"
      ]
     },
     "execution_count": 37,
     "metadata": {},
     "output_type": "execute_result"
    }
   ],
   "source": [
    "skew(s)"
   ]
  },
  {
   "cell_type": "markdown",
   "metadata": {},
   "source": [
    "- A kurtosis value of 3.065298252359012 indicates that the distribution has higher kurtosis than a normal distribution, which has a kurtosis of 0. This indicates that the distribution has a sharper, more peaked shape than a normal distribution. A higher kurtosis value can be indicative of heavier tails or more extreme values in the distribution.\n",
    "\n",
    "- A skewness value of 1.4274139132518717 indicates that the distribution is positively skewed, meaning that it has a long tail to the right and most of the data is concentrated on the left side of the distribution. A positive skewness value indicates that the mean of the distribution is greater than the median.\n",
    "\n",
    "Together, the high kurtosis and positive skewness values suggest that the distribution has a sharp peak and a long tail to the right, with more extreme values in the upper end of the distribution. However, it is important to consider other measures and visualizations, such as histograms, to fully understand the distribution and its properties. Additionally, the context and purpose of the analysis should be taken into account when interpreting the skewness and kurtosis values."
   ]
  },
  {
   "cell_type": "markdown",
   "metadata": {},
   "source": [
    "<hr>\n",
    "\n",
    "#### <p style=\"background-color:#FFFFFF; font-family:newtimeroman; color:#0000FF; font-size:125%; text-align:left;\"><strong>Analyze the distribution of observations  in the ``S`` visually:</strong></p>"
   ]
  },
  {
   "cell_type": "code",
   "execution_count": 38,
   "metadata": {
    "colab": {
     "base_uri": "https://localhost:8080/",
     "height": 430
    },
    "executionInfo": {
     "elapsed": 524,
     "status": "ok",
     "timestamp": 1683391222134,
     "user": {
      "displayName": "Richard Thames",
      "userId": "00258987493291873022"
     },
     "user_tz": -180
    },
    "id": "zoE4fCvJz25B",
    "outputId": "7c7c25cc-a692-4c76-f8ec-2d15beacccf5"
   },
   "outputs": [
    {
     "data": {
      "image/png": "[encoded data removed]",
      "text/plain": [
       "<Figure size 640x480 with 1 Axes>"
      ]
     },
     "metadata": {},
     "output_type": "display_data"
    }
   ],
   "source": [
    "plt.hist(s, bins=100);"
   ]
  },
  {
   "cell_type": "markdown",
   "metadata": {},
   "source": [
    "## <p style=\"background-color:#E51A59; font-family:newtimeroman; color:#FFF9ED; font-size:175%; text-align:center; border-radius:10px 10px;\">Time to Enjoy! It's your turn:</p>\n",
    "\n",
    "<img src=\"your_turn2.gif\" width=\"400\" align=\"center\">\n",
    "\n",
    "<!-- <p style=\"text-align: center;\"><img src=\"https://i.ibb.co/84zhNnV/your-turn2.gif\" class=\"img-fluid\" alt=\"It's your turn\" width=\"400\" height=\"200\"></p>\n",
    "\n",
    "In this example, we will generate a dataset of 1000 hypothetical customers with four variables: age, income, spending, and loyalty."
   ]
  },
  {
   "cell_type": "code",
   "execution_count": 39,
   "metadata": {},
   "outputs": [
    {
     "data": {
      "text/html": [
       "<div>\n",
       "<style scoped>\n",
       "    .dataframe tbody tr th:only-of-type {\n",
       "        vertical-align: middle;\n",
       "    }\n",
       "\n",
       "    .dataframe tbody tr th {\n",
       "        vertical-align: top;\n",
       "    }\n",
       "\n",
       "    .dataframe thead th {\n",
       "        text-align: right;\n",
       "    }\n",
       "</style>\n",
       "<table border=\"1\" class=\"dataframe\">\n",
       "  <thead>\n",
       "    <tr style=\"text-align: right;\">\n",
       "      <th></th>\n",
       "      <th>Age</th>\n",
       "      <th>Income</th>\n",
       "      <th>Spending</th>\n",
       "      <th>Loyalty</th>\n",
       "    </tr>\n",
       "  </thead>\n",
       "  <tbody>\n",
       "    <tr>\n",
       "      <th>0</th>\n",
       "      <td>24.143694</td>\n",
       "      <td>10416.772583</td>\n",
       "      <td>1.787441</td>\n",
       "      <td>0.076384</td>\n",
       "    </tr>\n",
       "    <tr>\n",
       "      <th>1</th>\n",
       "      <td>44.973454</td>\n",
       "      <td>38855.104069</td>\n",
       "      <td>2.522769</td>\n",
       "      <td>0.090969</td>\n",
       "    </tr>\n",
       "    <tr>\n",
       "      <th>2</th>\n",
       "      <td>37.829785</td>\n",
       "      <td>45168.288717</td>\n",
       "      <td>2.092551</td>\n",
       "      <td>0.090935</td>\n",
       "    </tr>\n",
       "    <tr>\n",
       "      <th>3</th>\n",
       "      <td>19.937053</td>\n",
       "      <td>8108.103322</td>\n",
       "      <td>3.765284</td>\n",
       "      <td>0.134342</td>\n",
       "    </tr>\n",
       "    <tr>\n",
       "      <th>4</th>\n",
       "      <td>29.213997</td>\n",
       "      <td>35415.268615</td>\n",
       "      <td>1.960278</td>\n",
       "      <td>0.209330</td>\n",
       "    </tr>\n",
       "    <tr>\n",
       "      <th>...</th>\n",
       "      <td>...</td>\n",
       "      <td>...</td>\n",
       "      <td>...</td>\n",
       "      <td>...</td>\n",
       "    </tr>\n",
       "    <tr>\n",
       "      <th>995</th>\n",
       "      <td>41.347631</td>\n",
       "      <td>51313.093993</td>\n",
       "      <td>12.587333</td>\n",
       "      <td>0.119075</td>\n",
       "    </tr>\n",
       "    <tr>\n",
       "      <th>996</th>\n",
       "      <td>45.699186</td>\n",
       "      <td>7187.347634</td>\n",
       "      <td>10.079080</td>\n",
       "      <td>0.187938</td>\n",
       "    </tr>\n",
       "    <tr>\n",
       "      <th>997</th>\n",
       "      <td>25.906730</td>\n",
       "      <td>15378.155142</td>\n",
       "      <td>5.198944</td>\n",
       "      <td>0.191980</td>\n",
       "    </tr>\n",
       "    <tr>\n",
       "      <th>998</th>\n",
       "      <td>39.702637</td>\n",
       "      <td>4404.160388</td>\n",
       "      <td>3.933484</td>\n",
       "      <td>0.230321</td>\n",
       "    </tr>\n",
       "    <tr>\n",
       "      <th>999</th>\n",
       "      <td>23.885696</td>\n",
       "      <td>22327.403553</td>\n",
       "      <td>4.960353</td>\n",
       "      <td>0.407821</td>\n",
       "    </tr>\n",
       "  </tbody>\n",
       "</table>\n",
       "<p>1000 rows × 4 columns</p>\n",
       "</div>"
      ],
      "text/plain": [
       "           Age        Income   Spending   Loyalty\n",
       "0    24.143694  10416.772583   1.787441  0.076384\n",
       "1    44.973454  38855.104069   2.522769  0.090969\n",
       "2    37.829785  45168.288717   2.092551  0.090935\n",
       "3    19.937053   8108.103322   3.765284  0.134342\n",
       "4    29.213997  35415.268615   1.960278  0.209330\n",
       "..         ...           ...        ...       ...\n",
       "995  41.347631  51313.093993  12.587333  0.119075\n",
       "996  45.699186   7187.347634  10.079080  0.187938\n",
       "997  25.906730  15378.155142   5.198944  0.191980\n",
       "998  39.702637   4404.160388   3.933484  0.230321\n",
       "999  23.885696  22327.403553   4.960353  0.407821\n",
       "\n",
       "[1000 rows x 4 columns]"
      ]
     },
     "execution_count": 39,
     "metadata": {},
     "output_type": "execute_result"
    }
   ],
   "source": [
    "# Generate the hypothetical customer dataset\n",
    "\n",
    "# Set the random seed to ensure that the random numbers generated are reproducible.\n",
    "np.random.seed(123)\n",
    "\n",
    "# The number of customer records to generate\n",
    "n = 1000\n",
    "\n",
    "# Generate ages using a normal distribution with a mean of 35 years and a standard deviation of 10 years.\n",
    "age = np.random.normal(35, 10, n)\n",
    "\n",
    "# Generate income values using a log-normal distribution with a mean of 10 and a standard deviation of 1,\n",
    "income = np.random.lognormal(10, 1, n)\n",
    "\n",
    "# Generate spending values using a gamma distribution, \n",
    "# which is often used to model waiting times or amounts spent in a given context.\n",
    "spending = np.random.gamma(5, 1, n)\n",
    "\n",
    "# Generate loyalty scores using a beta distribution\n",
    "loyalty = np.random.beta(2, 5, n)\n",
    "\n",
    "# Create the DataFrame\n",
    "df = pd.DataFrame({'Age': age, 'Income': income, 'Spending': spending, 'Loyalty': loyalty})\n",
    "\n",
    "# Display the DataFrame\n",
    "df"
   ]
  },
  {
   "cell_type": "markdown",
   "metadata": {},
   "source": [
    "<hr>\n",
    "\n",
    "### <p style=\"background-color:#FFFFFF; font-family:newtimeroman; color:#0000FF; font-size:125%; text-align:left;\"><strong>Question: What is the skewness & kurtosis values of ``Age`` for customers? Interpret them.</strong></p>"
   ]
  },
  {
   "cell_type": "code",
   "execution_count": 40,
   "metadata": {},
   "outputs": [
    {
     "data": {
      "text/plain": [
       "-0.029083757327319375"
      ]
     },
     "execution_count": 40,
     "metadata": {},
     "output_type": "execute_result"
    }
   ],
   "source": [
    "# Calculate skewness value for Age:\n",
    "\n",
    "age_skewness = df[\"Age\"].skew()\n",
    "age_skewness"
   ]
  },
  {
   "cell_type": "code",
   "execution_count": 41,
   "metadata": {},
   "outputs": [
    {
     "data": {
      "text/plain": [
       "-0.0195420965694324"
      ]
     },
     "execution_count": 41,
     "metadata": {},
     "output_type": "execute_result"
    }
   ],
   "source": [
    "# Calculate kurtosis value for Age:\n",
    "\n",
    "age_kurtosis = df[\"Age\"].kurtosis()\n",
    "age_kurtosis"
   ]
  },
  {
   "cell_type": "markdown",
   "metadata": {},
   "source": [
    "<hr>\n",
    "\n",
    "\n",
    "#### Question: The age distribution of a sample of 1000 customers has a skewness of -0.029083757327319375 and a kurtosis of -0.0195420965694324. Based on these values, what can you say about the shape of the age distribution?"
   ]
  },
  {
   "cell_type": "markdown",
   "metadata": {},
   "source": [
    "- Based on the given information, we can say that the age distribution of the sample is approximately symmetric with a flatter peak than a normal distribution.\n",
    "\n",
    "- A skewness value of -0.029083757327319375 indicates that the age distribution is approximately symmetric, with the mean and median being close together. This suggests that the majority of the customers in the sample have ages that are evenly distributed around the mean age.\n",
    "\n",
    "- A kurtosis value of -0.0195420965694324 indicates that the age distribution has a flatter peak than a normal distribution. This suggests that the age distribution is more spread out than a normal distribution and has fewer values clustered around the mean age.\n",
    "\n",
    "In summary, the skewness and kurtosis values of the age distribution in the sample suggest that the distribution is approximately normally distributed and does not have any significant skewness. However, the negative kurtosis value close to zero(0) indicates that the age distribution has a flatter peak than a normal distribution, which suggests that the data is more spread out and has fewer values clustered around the mean age. It is important to examine the distribution visually and consider other measures to fully understand the shape of the distribution and its properties."
   ]
  },
  {
   "cell_type": "markdown",
   "metadata": {},
   "source": [
    "<hr>\n",
    "\n",
    "\n",
    "#### Question: How do the distribution of ``Age`` feature look like? Analyze it visually."
   ]
  },
  {
   "cell_type": "code",
   "execution_count": 42,
   "metadata": {},
   "outputs": [
    {
     "data": {
      "image/png": "[encoded data removed]",
      "text/plain": [
       "<Figure size 640x480 with 1 Axes>"
      ]
     },
     "metadata": {},
     "output_type": "display_data"
    }
   ],
   "source": [
    "plt.hist(df['Age'], bins=20, density=True);"
   ]
  },
  {
   "cell_type": "markdown",
   "metadata": {},
   "source": [
    "- **``Story Told by the Plot:``**\n",
    "  - **``Age Distribution``**: The histogram for age likely shows a normal distribution centered around 35 years, reflecting the way customers are spread across different age groups. Insights into age demographics can help businesses tailor their marketing strategies."
   ]
  },
  {
   "cell_type": "markdown",
   "metadata": {},
   "source": [
    "<hr>\n",
    "\n",
    "### <p style=\"background-color:#FFFFFF; font-family:newtimeroman; color:#0000FF; font-size:125%; text-align:left;\"><strong>Question: What is the skewness & kurtosis values of ``Income`` for customers? Interpret them.</strong></p>"
   ]
  },
  {
   "cell_type": "code",
   "execution_count": 43,
   "metadata": {},
   "outputs": [
    {
     "data": {
      "text/plain": [
       "3.103441394203849"
      ]
     },
     "execution_count": 43,
     "metadata": {},
     "output_type": "execute_result"
    }
   ],
   "source": [
    "# Calculate skewness value for Income:\n",
    "\n",
    "income_skewness = df[\"Income\"].skew()\n",
    "income_skewness"
   ]
  },
  {
   "cell_type": "code",
   "execution_count": 44,
   "metadata": {},
   "outputs": [
    {
     "data": {
      "text/plain": [
       "15.486963929865338"
      ]
     },
     "execution_count": 44,
     "metadata": {},
     "output_type": "execute_result"
    }
   ],
   "source": [
    "# Calculate kurtosis value for Income:\n",
    "\n",
    "income_kurtosis = df[\"Income\"].kurtosis()\n",
    "income_kurtosis"
   ]
  },
  {
   "cell_type": "markdown",
   "metadata": {},
   "source": [
    "<hr>\n",
    "\n",
    "\n",
    "#### Question: The Income distribution of a sample of 1000 customers has a skewness of 3.103441394203849 and a kurtosis of 15.486963929865338. Based on these values, what can you say about the shape of the Income distribution?"
   ]
  },
  {
   "cell_type": "markdown",
   "metadata": {},
   "source": [
    "- Based on the given information, we can say that the Income distribution of the sample is highly skewed to the right and has a very sharp peak.\n",
    "\n",
    "- A skewness value of 3.103441394203849 indicates that the Income distribution is highly skewed to the right, with a long tail on the right side of the distribution. This suggests that the majority of the customers in the sample have lower Income levels, with a few customers having much higher Income levels that are driving the positive skewness.\n",
    "\n",
    "- A kurtosis value of 15.486963929865338 indicates that the Income distribution has a very sharp peak compared to a normal distribution. This suggests that the Income distribution has a very high concentration of values around the mean, with very few values dispersed in the tails.\n",
    "\n",
    "In summary, the skewness and kurtosis values of the Income distribution in the sample suggest that the distribution is highly skewed to the right and has a very sharp peak. This can be indicative of a distribution with a very high concentration of lower Income levels and a few very high-Income outliers. However, it is important to examine the distribution visually and consider other measures to fully understand the shape of the distribution and its properties."
   ]
  },
  {
   "cell_type": "markdown",
   "metadata": {},
   "source": [
    "<hr>\n",
    "\n",
    "\n",
    "#### Question: How do the distribution of ``Income`` feature look like? Analyze it visually."
   ]
  },
  {
   "cell_type": "code",
   "execution_count": 45,
   "metadata": {},
   "outputs": [
    {
     "data": {
      "image/png": "[encoded data removed]",
      "text/plain": [
       "<Figure size 640x480 with 1 Axes>"
      ]
     },
     "metadata": {},
     "output_type": "display_data"
    }
   ],
   "source": [
    "plt.hist(df['Income'], bins=20, density=True);"
   ]
  },
  {
   "cell_type": "markdown",
   "metadata": {},
   "source": [
    "- **``Story Told by the Histogram:``**\n",
    "  - **``Income Distribution``**: The histogram visually represents how income is distributed among the customers in the dataset. Given that income is generated using a log-normal distribution, one would expect the histogram to be positively skewed. This means most customers will have lower income values, with fewer customers having very high incomes.\n",
    "  - **``Understanding Economic Diversity``**: The shape of the histogram provides insights into the economic diversity of the customer base. A concentration of individuals at lower income levels may indicate a customer segment that is more price-sensitive, while the presence of higher income values can reveal opportunities for premium product offerings.\n",
    "  - **``Identifying Key Segments``**: By analyzing the histogram, businesses can identify income brackets that represent significant portions of their customer base. This can help in tailoring marketing strategies, product placements, and pricing structures to better align with customer capabilities and preferences.\n",
    "  - **``Implications for Business Strategy``**: The distribution of income can inform various business strategies, such as targeting specific demographics or adjusting product offerings. For instance, if the majority of customers fall within a certain income range, businesses might focus on budget-friendly products or services that appeal to that segment."
   ]
  },
  {
   "cell_type": "markdown",
   "metadata": {},
   "source": [
    "<hr>\n",
    "\n",
    "### <p style=\"background-color:#FFFFFF; font-family:newtimeroman; color:#0000FF; font-size:125%; text-align:left;\"><strong>Question: What is the skewness & kurtosis values of ``Spending`` for customers? Interpret them.</strong></p>"
   ]
  },
  {
   "cell_type": "code",
   "execution_count": 46,
   "metadata": {},
   "outputs": [
    {
     "data": {
      "text/plain": [
       "0.8821959835065027"
      ]
     },
     "execution_count": 46,
     "metadata": {},
     "output_type": "execute_result"
    }
   ],
   "source": [
    "# Calculate skewness value for Spending:\n",
    "\n",
    "spending_skewness = df[\"Spending\"].skew()\n",
    "spending_skewness"
   ]
  },
  {
   "cell_type": "code",
   "execution_count": 47,
   "metadata": {},
   "outputs": [
    {
     "data": {
      "text/plain": [
       "0.9346270959667513"
      ]
     },
     "execution_count": 47,
     "metadata": {},
     "output_type": "execute_result"
    }
   ],
   "source": [
    "# Calculate kurtosis value for Spending:\n",
    "\n",
    "spending_kurtosis = df[\"Spending\"].kurtosis()\n",
    "spending_kurtosis"
   ]
  },
  {
   "cell_type": "markdown",
   "metadata": {},
   "source": [
    "#### The Spending distribution of a sample of 1000 customers has a skewness of 0.8821959835065027 and a kurtosis of 0.9346270959667513. Based on these values, what can you say about the shape of the Spending distribution?"
   ]
  },
  {
   "cell_type": "markdown",
   "metadata": {},
   "source": [
    "- Based on the given information, we can say that the spending distribution of the sample is positively skewed with a sharper peak than a normal distribution.\n",
    "\n",
    "- A skewness value of 0.8821959835065027 indicates that the spending distribution is positively skewed, with a long tail to the right. This suggests that the majority of the customers in the sample have lower spending levels, with a few customers having much higher spending levels that are driving the positive skewness.\n",
    "\n",
    "- A kurtosis value of 0.9346270959667513 indicates that the spending distribution has a sharper peak than a normal distribution. This suggests that the spending distribution has a higher concentration of values around the mean, with fewer values dispersed in the tails.\n",
    "\n",
    "In summary, the skewness and kurtosis values of the spending distribution in the sample suggest that the distribution is positively skewed and has a sharper peak than a normal distribution. This can be indicative of a distribution with a high concentration of lower spending levels and a few high-spending outliers. However, it is important to examine the distribution visually and consider other measures to fully understand the shape of the distribution and its properties."
   ]
  },
  {
   "cell_type": "markdown",
   "metadata": {},
   "source": [
    "<hr>\n",
    "\n",
    "\n",
    "#### Question: How do the distribution of Income feature look like?"
   ]
  },
  {
   "cell_type": "code",
   "execution_count": 48,
   "metadata": {},
   "outputs": [
    {
     "data": {
      "image/png": "[encoded data removed]",
      "text/plain": [
       "<Figure size 640x480 with 1 Axes>"
      ]
     },
     "metadata": {},
     "output_type": "display_data"
    }
   ],
   "source": [
    "plt.hist(df['Spending'], bins=20, density=True);"
   ]
  },
  {
   "cell_type": "markdown",
   "metadata": {},
   "source": [
    "- **``Story Told by the Histogram:``**\n",
    "  - **``Spending Distribution``**: The histogram visually represents how spending is distributed among the customers in the dataset. Since spending is generated using a gamma distribution, the histogram is likely to show a positive skew, indicating that most customers spend less, with a smaller number spending significantly more.\n",
    "  - **``Insights into Customer Behavior``**: The shape of the histogram provides insights into customer spending behavior. A concentration of customers at lower spending levels suggests that many individuals may have limited budgets or are occasional purchasers, while higher spending levels can indicate segments of more engaged or affluent customers.\n",
    "  - **``Identifying Key Segments``**: By analyzing the histogram, businesses can identify spending patterns within their customer base. Understanding which segments are more likely to spend higher amounts can help in developing targeted marketing strategies, loyalty programs, or promotional offers.\n",
    "  - **``Implications for Product Offerings``**: The distribution of spending can inform decisions about product offerings. If a significant number of customers fall within a specific spending range, businesses might consider introducing products tailored to that segment, whether they are budget-friendly options or premium items for high spenders."
   ]
  },
  {
   "cell_type": "markdown",
   "metadata": {},
   "source": [
    "<hr>\n",
    "\n",
    "### <p style=\"background-color:#FFFFFF; font-family:newtimeroman; color:#0000FF; font-size:125%; text-align:left;\"><strong>Question: What is the skewness & kurtosis values of ``Loyalty`` for customers? Interpret them.</strong></p>"
   ]
  },
  {
   "cell_type": "code",
   "execution_count": 49,
   "metadata": {},
   "outputs": [
    {
     "data": {
      "text/plain": [
       "0.569171263680116"
      ]
     },
     "execution_count": 49,
     "metadata": {},
     "output_type": "execute_result"
    }
   ],
   "source": [
    "# Calculate skewness value for Loyalty:\n",
    "\n",
    "loyalty_skewness = df[\"Loyalty\"].skew()\n",
    "loyalty_skewness"
   ]
  },
  {
   "cell_type": "code",
   "execution_count": 50,
   "metadata": {},
   "outputs": [
    {
     "data": {
      "text/plain": [
       "0.04262648205127251"
      ]
     },
     "execution_count": 50,
     "metadata": {},
     "output_type": "execute_result"
    }
   ],
   "source": [
    "# Calculate kurtosis value for Loyalty:\n",
    "\n",
    "loyalty_kurtosis = df[\"Loyalty\"].kurtosis()\n",
    "loyalty_kurtosis"
   ]
  },
  {
   "cell_type": "markdown",
   "metadata": {},
   "source": [
    "<hr>\n",
    "\n",
    "\n",
    "#### The Loyalty distribution of a sample of 1000 customers has a skewness of 0.569171263680116 and a kurtosis of 0.04262648205127251. Based on these values, what can you say about the shape of the Loyalty distribution?"
   ]
  },
  {
   "cell_type": "markdown",
   "metadata": {},
   "source": [
    "- Based on the given information, we can say that the Loyalty distribution of the sample is moderately skewed to the right with a peak similar to a normal distribution.\n",
    "\n",
    "- A skewness value of 0.569171263680116 indicates that the Loyalty distribution is moderately skewed to the right, with a longer tail on the right side of the distribution.\n",
    "\n",
    "- A kurtosis value of 0.04262648205127251 indicates that the Loyalty distribution is close to a normal distribution in terms of peakedness. This suggests that the majority of the customers in the sample have Loyalty levels that are evenly distributed around the mean Loyalty level.\n",
    "\n",
    "In summary, the skewness and kurtosis values of the Loyalty distribution in the sample suggest that the distribution is moderately skewed to the right with a peak similar to a normal distribution. This can be indicative of a distribution with a moderate concentration of Loyalty levels around the mean and a moderate number of outliers on the high side. However, it is important to examine the distribution visually and consider other measures to fully understand the shape of the distribution and its properties."
   ]
  },
  {
   "cell_type": "markdown",
   "metadata": {},
   "source": [
    "<hr>\n",
    "\n",
    "\n",
    "#### Question: How do the distribution of Loyalty feature look like? Analyze it visually."
   ]
  },
  {
   "cell_type": "code",
   "execution_count": 51,
   "metadata": {},
   "outputs": [
    {
     "data": {
      "image/png": "[encoded data removed]",
      "text/plain": [
       "<Figure size 640x480 with 1 Axes>"
      ]
     },
     "metadata": {},
     "output_type": "display_data"
    }
   ],
   "source": [
    "plt.hist(df['Loyalty'], bins=20, density=True);"
   ]
  },
  {
   "cell_type": "markdown",
   "metadata": {},
   "source": [
    "- **``Story Told by the Histogram:``**\n",
    "  - **``Loyalty Distribution``**: The histogram visually represents how loyalty scores are distributed among customers. Since loyalty is generated using a beta distribution, the histogram is likely to show a concentration of scores toward the lower end (0 to 1) with a possible peak. This reflects that many customers may exhibit varying degrees of loyalty, with fewer customers demonstrating very high loyalty.\n",
    "  - **``Understanding Customer Engagement``**: The shape of the histogram provides insights into customer engagement levels. A concentration of lower loyalty scores can indicate that many customers are less engaged with the brand, while higher scores might suggest a core group of loyal customers who consistently return.\n",
    "  - **``Identifying Opportunities for Improvement``**: By analyzing the histogram, businesses can identify the proportion of customers who may need encouragement to increase their loyalty. Strategies could be developed to enhance customer engagement and retention for those on the lower end of the loyalty spectrum.\n",
    "  - **``Implications for Marketing Strategies``**: Understanding loyalty distribution can inform targeted marketing strategies. For instance, businesses might implement loyalty programs or personalized offers aimed at converting less loyal customers into more committed ones, fostering long-term relationships."
   ]
  },
  {
   "cell_type": "markdown",
   "metadata": {},
   "source": [
    "**Let's do it once:**"
   ]
  },
  {
   "cell_type": "code",
   "execution_count": 52,
   "metadata": {},
   "outputs": [
    {
     "data": {
      "text/plain": [
       "Age        -0.029084\n",
       "Income      3.103441\n",
       "Spending    0.882196\n",
       "Loyalty     0.569171\n",
       "dtype: float64"
      ]
     },
     "metadata": {},
     "output_type": "display_data"
    },
    {
     "data": {
      "text/plain": [
       "Age         -0.019542\n",
       "Income      15.486964\n",
       "Spending     0.934627\n",
       "Loyalty      0.042626\n",
       "dtype: float64"
      ]
     },
     "metadata": {},
     "output_type": "display_data"
    }
   ],
   "source": [
    "# Compute the skewness and kurtosis of each variable\n",
    "skewness = df.skew()\n",
    "kurtosis = df.kurtosis()\n",
    "\n",
    "display(skewness)\n",
    "display(kurtosis)"
   ]
  },
  {
   "cell_type": "code",
   "execution_count": 53,
   "metadata": {},
   "outputs": [
    {
     "data": {
      "image/png": "[encoded data removed]",
      "text/plain": [
       "<Figure size 800x600 with 4 Axes>"
      ]
     },
     "metadata": {},
     "output_type": "display_data"
    }
   ],
   "source": [
    "# Plot the histograms and density plots\n",
    "fig, axs = plt.subplots(2, 2, figsize=(8, 6))\n",
    "\n",
    "axs[0, 0].hist(df['Age'], bins=20, density=True)\n",
    "axs[0, 0].set_title(f\"Age\\nSkewness: {skewness['Age']:.2f}, Kurtosis: {kurtosis['Age']:.2f}\")\n",
    "axs[0, 0].set_xlabel('Age')\n",
    "\n",
    "axs[0, 1].hist(df['Income'], bins=20, density=True)\n",
    "axs[0, 1].set_title(f\"Income\\nSkewness: {skewness['Income']:.2f}, Kurtosis: {kurtosis['Income']:.2f}\")\n",
    "axs[0, 1].set_xlabel('Income')\n",
    "\n",
    "axs[1, 0].hist(df['Spending'], bins=20, density=True)\n",
    "axs[1, 0].set_title(f\"Spending\\nSkewness: {skewness['Spending']:.2f}, Kurtosis: {kurtosis['Spending']:.2f}\")\n",
    "axs[1, 0].set_xlabel('Spending')\n",
    "\n",
    "axs[1, 1].hist(df['Loyalty'], bins=20, density=True)\n",
    "axs[1, 1].set_title(f\"Loyalty\\nSkewness: {skewness['Loyalty']:.2f}, Kurtosis: {kurtosis['Loyalty']:.2f}\")\n",
    "axs[1, 1].set_xlabel('Loyalty')\n",
    "\n",
    "plt.tight_layout()\n",
    "plt.show()"
   ]
  },
  {
   "cell_type": "markdown",
   "metadata": {},
   "source": [
    "- **``Story Told by the Plots:``**\n",
    "  - **``Age Distribution``**: The histogram for age likely shows a normal distribution centered around 35 years, reflecting the way customers are spread across different age groups. Insights into age demographics can help businesses tailor their marketing strategies.\n",
    "  - **``Income Distribution``**: The income histogram is expected to be positively skewed, indicating that most customers have lower incomes, with a few having very high incomes. This could reflect typical consumer behavior regarding spending power.\n",
    "  - **``Spending Distribution``**: The spending histogram might show a range of spending behaviors, potentially skewed towards lower amounts, indicating varying levels of engagement or spending habits among customers.\n",
    "  - **``Loyalty Distribution``**: The loyalty histogram is likely to show a concentration of scores towards the lower end, suggesting that while some customers are very loyal, many exhibit varying degrees of loyalty. This can provide insights into customer retention strategies.\n",
    "  - **``Skewness and Kurtosis``**: By including skewness and kurtosis in the titles, the plots provide additional context about the distributions. Skewness indicates the asymmetry of the distribution, while kurtosis indicates the \"tailedness,\" helping to understand the underlying data characteristics better."
   ]
  },
  {
   "cell_type": "markdown",
   "metadata": {},
   "source": [
    "<hr>\n",
    "\n",
    "### <p style=\"background-color:#FFFFFF; font-family:newtimeroman; color:#0000FF; font-size:125%; text-align:left;\"><strong>Focus on a different hypothetical Dataset:</strong></p>"
   ]
  },
  {
   "cell_type": "code",
   "execution_count": 54,
   "metadata": {},
   "outputs": [],
   "source": [
    "# import pandas as pd\n",
    "# import numpy as np\n",
    "\n",
    "# # Define variables for generating data\n",
    "# gender = ['Male', 'Female']\n",
    "# marital_status = ['Single', 'Married', 'Divorced', 'Widowed']\n",
    "# race = ['Caucasian', 'African-American', 'Hispanic', 'Asian', 'Other']\n",
    "# position = ['Manager', 'Senior', 'Junior', 'Technician', 'Analyst']\n",
    "# job_titles = ['Sales Manager', 'IT Analyst', 'Marketing Coordinator', 'Operations Supervisor', 'Finance Director']\n",
    "# education_level = ['High School Diploma', 'Associate Degree', 'Bachelor\\'s Degree', 'Master\\'s Degree', 'PhD']\n",
    "# status = ['Full-Time', 'Part-Time', 'Contract']\n",
    "\n",
    "# # Seed the random number generator to ensure consistent results\n",
    "# np.random.seed(123)\n",
    "\n",
    "# # Define function to randomly generate data for each employee\n",
    "# def generate_employee_data():\n",
    "#     first_name = np.random.choice(['John', 'Mary', 'Michael', 'Emily', 'David', 'Sarah', 'James', 'Laura', 'Daniel', 'Anna'], p=[0.1, 0.1, 0.1, 0.1, 0.1, 0.1, 0.1, 0.1, 0.1, 0.1])\n",
    "#     last_name = np.random.choice(['Smith', 'Johnson', 'Garcia', 'Brown', 'Jones', 'Lee', 'Williams', 'Rodriguez', 'Davis', 'Martinez'], p=[0.1, 0.1, 0.1, 0.1, 0.1, 0.1, 0.1, 0.1, 0.1, 0.1])\n",
    "#     gender_val = np.random.choice(gender, p=[0.35, 0.65])\n",
    "#     age = np.random.randint(22, 65)\n",
    "#     marital_status_val = np.random.choice(marital_status, p=[0.4, 0.4, 0.1, 0.1])\n",
    "#     race_val = np.random.choice(race, p=[0.4, 0.2, 0.2, 0.1, 0.1])\n",
    "#     position_val = np.random.choice(position, p=[0.2, 0.2, 0.2, 0.2, 0.2])\n",
    "#     job_title = np.random.choice(job_titles, p=[0.2, 0.2, 0.2, 0.2, 0.2])\n",
    "#     education = np.random.choice(education_level, p=[0.2, 0.2, 0.2, 0.2, 0.2])\n",
    "#     experience = np.random.randint(0, 30)\n",
    "#     performance_rating = np.random.randint(1, 6)\n",
    "#     tenure = np.random.randint(0, 20)\n",
    "#     job_satisfaction = np.random.randint(1, 6)\n",
    "#     commute_time = np.random.randint(10, 120)\n",
    "#     employment_status = np.random.choice(status, p=[0.7, 0.2, 0.1])\n",
    "#     benefits_eligibility = np.random.choice(['Yes', 'No'], p=[0.8, 0.2])\n",
    "#     salary = round(np.random.normal(loc=80000, scale=20000), 2)\n",
    "#     city = np.random.choice(['New York', 'Los Angeles', 'Chicago', 'Houston', 'Philadelphia', 'San Francisco'], p=[0.2, 0.2, 0.2, 0.2, 0.1, 0.1])\n",
    "#     return (first_name, last_name, gender_val, age, marital_status_val, race_val, position_val, job_title, education, experience, performance_rating, tenure, job_satisfaction, commute_time, employment_status, benefits_eligibility, salary, city)\n",
    "\n",
    "# # Generate data for 1500 employees\n",
    "# employee_data = [generate_employee_data() for i in range(1500)]\n",
    "\n",
    "# # Create dataframe from generated data\n",
    "# df = pd.DataFrame(employee_data, columns=['First Name', 'Last Name', 'Gender', 'Age', 'Marital Status', 'Race', 'Position', 'Job Title', 'Education Level', 'Years of Experience', 'Performance Rating', 'Employee Tenure', 'Job Satisfaction', 'Commute Time (minutes)', 'Employment Status', 'Benefits Eligibility', 'Salary', 'City'])\n",
    "\n",
    "# # Print data frame\n",
    "# df"
   ]
  },
  {
   "cell_type": "code",
   "execution_count": 55,
   "metadata": {},
   "outputs": [
    {
     "data": {
      "text/html": [
       "<div>\n",
       "<style scoped>\n",
       "    .dataframe tbody tr th:only-of-type {\n",
       "        vertical-align: middle;\n",
       "    }\n",
       "\n",
       "    .dataframe tbody tr th {\n",
       "        vertical-align: top;\n",
       "    }\n",
       "\n",
       "    .dataframe thead th {\n",
       "        text-align: right;\n",
       "    }\n",
       "</style>\n",
       "<table border=\"1\" class=\"dataframe\">\n",
       "  <thead>\n",
       "    <tr style=\"text-align: right;\">\n",
       "      <th></th>\n",
       "      <th>First Name</th>\n",
       "      <th>Last Name</th>\n",
       "      <th>Gender</th>\n",
       "      <th>Age</th>\n",
       "      <th>Marital Status</th>\n",
       "      <th>Race</th>\n",
       "      <th>Position</th>\n",
       "      <th>Job Title</th>\n",
       "      <th>Education Level</th>\n",
       "      <th>Years of Experience</th>\n",
       "      <th>Performance Rating</th>\n",
       "      <th>Employee Tenure</th>\n",
       "      <th>Job Satisfaction</th>\n",
       "      <th>Commute Time (minutes)</th>\n",
       "      <th>Employment Status</th>\n",
       "      <th>Benefits Eligibility</th>\n",
       "      <th>Salary</th>\n",
       "      <th>City</th>\n",
       "    </tr>\n",
       "  </thead>\n",
       "  <tbody>\n",
       "    <tr>\n",
       "      <th>0</th>\n",
       "      <td>James</td>\n",
       "      <td>Garcia</td>\n",
       "      <td>Male</td>\n",
       "      <td>60</td>\n",
       "      <td>Married</td>\n",
       "      <td>African-American</td>\n",
       "      <td>Technician</td>\n",
       "      <td>Marketing Coordinator</td>\n",
       "      <td>Bachelor's Degree</td>\n",
       "      <td>15</td>\n",
       "      <td>2</td>\n",
       "      <td>0</td>\n",
       "      <td>1</td>\n",
       "      <td>35</td>\n",
       "      <td>Full-Time</td>\n",
       "      <td>Yes</td>\n",
       "      <td>109827.79</td>\n",
       "      <td>New York</td>\n",
       "    </tr>\n",
       "    <tr>\n",
       "      <th>1</th>\n",
       "      <td>Mary</td>\n",
       "      <td>Lee</td>\n",
       "      <td>Female</td>\n",
       "      <td>29</td>\n",
       "      <td>Married</td>\n",
       "      <td>Hispanic</td>\n",
       "      <td>Technician</td>\n",
       "      <td>IT Analyst</td>\n",
       "      <td>Associate Degree</td>\n",
       "      <td>27</td>\n",
       "      <td>3</td>\n",
       "      <td>1</td>\n",
       "      <td>5</td>\n",
       "      <td>50</td>\n",
       "      <td>Part-Time</td>\n",
       "      <td>Yes</td>\n",
       "      <td>67221.96</td>\n",
       "      <td>New York</td>\n",
       "    </tr>\n",
       "    <tr>\n",
       "      <th>2</th>\n",
       "      <td>Mary</td>\n",
       "      <td>Johnson</td>\n",
       "      <td>Male</td>\n",
       "      <td>37</td>\n",
       "      <td>Married</td>\n",
       "      <td>Asian</td>\n",
       "      <td>Analyst</td>\n",
       "      <td>Marketing Coordinator</td>\n",
       "      <td>Master's Degree</td>\n",
       "      <td>16</td>\n",
       "      <td>5</td>\n",
       "      <td>7</td>\n",
       "      <td>4</td>\n",
       "      <td>64</td>\n",
       "      <td>Full-Time</td>\n",
       "      <td>Yes</td>\n",
       "      <td>80270.77</td>\n",
       "      <td>Houston</td>\n",
       "    </tr>\n",
       "    <tr>\n",
       "      <th>3</th>\n",
       "      <td>Mary</td>\n",
       "      <td>Davis</td>\n",
       "      <td>Female</td>\n",
       "      <td>63</td>\n",
       "      <td>Single</td>\n",
       "      <td>Caucasian</td>\n",
       "      <td>Technician</td>\n",
       "      <td>Finance Director</td>\n",
       "      <td>Associate Degree</td>\n",
       "      <td>7</td>\n",
       "      <td>2</td>\n",
       "      <td>2</td>\n",
       "      <td>4</td>\n",
       "      <td>21</td>\n",
       "      <td>Full-Time</td>\n",
       "      <td>Yes</td>\n",
       "      <td>86747.48</td>\n",
       "      <td>Philadelphia</td>\n",
       "    </tr>\n",
       "    <tr>\n",
       "      <th>4</th>\n",
       "      <td>John</td>\n",
       "      <td>Rodriguez</td>\n",
       "      <td>Male</td>\n",
       "      <td>34</td>\n",
       "      <td>Married</td>\n",
       "      <td>Caucasian</td>\n",
       "      <td>Junior</td>\n",
       "      <td>Sales Manager</td>\n",
       "      <td>PhD</td>\n",
       "      <td>1</td>\n",
       "      <td>1</td>\n",
       "      <td>5</td>\n",
       "      <td>1</td>\n",
       "      <td>119</td>\n",
       "      <td>Full-Time</td>\n",
       "      <td>Yes</td>\n",
       "      <td>58437.21</td>\n",
       "      <td>Houston</td>\n",
       "    </tr>\n",
       "    <tr>\n",
       "      <th>...</th>\n",
       "      <td>...</td>\n",
       "      <td>...</td>\n",
       "      <td>...</td>\n",
       "      <td>...</td>\n",
       "      <td>...</td>\n",
       "      <td>...</td>\n",
       "      <td>...</td>\n",
       "      <td>...</td>\n",
       "      <td>...</td>\n",
       "      <td>...</td>\n",
       "      <td>...</td>\n",
       "      <td>...</td>\n",
       "      <td>...</td>\n",
       "      <td>...</td>\n",
       "      <td>...</td>\n",
       "      <td>...</td>\n",
       "      <td>...</td>\n",
       "      <td>...</td>\n",
       "    </tr>\n",
       "    <tr>\n",
       "      <th>1495</th>\n",
       "      <td>Anna</td>\n",
       "      <td>Rodriguez</td>\n",
       "      <td>Female</td>\n",
       "      <td>48</td>\n",
       "      <td>Widowed</td>\n",
       "      <td>Hispanic</td>\n",
       "      <td>Junior</td>\n",
       "      <td>Operations Supervisor</td>\n",
       "      <td>PhD</td>\n",
       "      <td>28</td>\n",
       "      <td>4</td>\n",
       "      <td>17</td>\n",
       "      <td>3</td>\n",
       "      <td>53</td>\n",
       "      <td>Full-Time</td>\n",
       "      <td>Yes</td>\n",
       "      <td>79647.53</td>\n",
       "      <td>Chicago</td>\n",
       "    </tr>\n",
       "    <tr>\n",
       "      <th>1496</th>\n",
       "      <td>Daniel</td>\n",
       "      <td>Johnson</td>\n",
       "      <td>Male</td>\n",
       "      <td>34</td>\n",
       "      <td>Single</td>\n",
       "      <td>Hispanic</td>\n",
       "      <td>Manager</td>\n",
       "      <td>Marketing Coordinator</td>\n",
       "      <td>Master's Degree</td>\n",
       "      <td>10</td>\n",
       "      <td>2</td>\n",
       "      <td>17</td>\n",
       "      <td>3</td>\n",
       "      <td>33</td>\n",
       "      <td>Full-Time</td>\n",
       "      <td>Yes</td>\n",
       "      <td>41914.84</td>\n",
       "      <td>New York</td>\n",
       "    </tr>\n",
       "    <tr>\n",
       "      <th>1497</th>\n",
       "      <td>Laura</td>\n",
       "      <td>Rodriguez</td>\n",
       "      <td>Female</td>\n",
       "      <td>49</td>\n",
       "      <td>Married</td>\n",
       "      <td>Caucasian</td>\n",
       "      <td>Analyst</td>\n",
       "      <td>IT Analyst</td>\n",
       "      <td>Bachelor's Degree</td>\n",
       "      <td>9</td>\n",
       "      <td>2</td>\n",
       "      <td>9</td>\n",
       "      <td>3</td>\n",
       "      <td>105</td>\n",
       "      <td>Part-Time</td>\n",
       "      <td>Yes</td>\n",
       "      <td>91837.92</td>\n",
       "      <td>New York</td>\n",
       "    </tr>\n",
       "    <tr>\n",
       "      <th>1498</th>\n",
       "      <td>John</td>\n",
       "      <td>Williams</td>\n",
       "      <td>Female</td>\n",
       "      <td>46</td>\n",
       "      <td>Married</td>\n",
       "      <td>Hispanic</td>\n",
       "      <td>Analyst</td>\n",
       "      <td>IT Analyst</td>\n",
       "      <td>Master's Degree</td>\n",
       "      <td>16</td>\n",
       "      <td>2</td>\n",
       "      <td>7</td>\n",
       "      <td>1</td>\n",
       "      <td>14</td>\n",
       "      <td>Full-Time</td>\n",
       "      <td>Yes</td>\n",
       "      <td>96010.93</td>\n",
       "      <td>Philadelphia</td>\n",
       "    </tr>\n",
       "    <tr>\n",
       "      <th>1499</th>\n",
       "      <td>Mary</td>\n",
       "      <td>Smith</td>\n",
       "      <td>Female</td>\n",
       "      <td>59</td>\n",
       "      <td>Married</td>\n",
       "      <td>Caucasian</td>\n",
       "      <td>Manager</td>\n",
       "      <td>Sales Manager</td>\n",
       "      <td>Master's Degree</td>\n",
       "      <td>17</td>\n",
       "      <td>2</td>\n",
       "      <td>6</td>\n",
       "      <td>1</td>\n",
       "      <td>17</td>\n",
       "      <td>Full-Time</td>\n",
       "      <td>No</td>\n",
       "      <td>63256.87</td>\n",
       "      <td>Philadelphia</td>\n",
       "    </tr>\n",
       "  </tbody>\n",
       "</table>\n",
       "<p>1500 rows × 18 columns</p>\n",
       "</div>"
      ],
      "text/plain": [
       "     First Name  Last Name  Gender  Age Marital Status              Race  \\\n",
       "0         James     Garcia    Male   60        Married  African-American   \n",
       "1          Mary        Lee  Female   29        Married          Hispanic   \n",
       "2          Mary    Johnson    Male   37        Married             Asian   \n",
       "3          Mary      Davis  Female   63         Single         Caucasian   \n",
       "4          John  Rodriguez    Male   34        Married         Caucasian   \n",
       "...         ...        ...     ...  ...            ...               ...   \n",
       "1495       Anna  Rodriguez  Female   48        Widowed          Hispanic   \n",
       "1496     Daniel    Johnson    Male   34         Single          Hispanic   \n",
       "1497      Laura  Rodriguez  Female   49        Married         Caucasian   \n",
       "1498       John   Williams  Female   46        Married          Hispanic   \n",
       "1499       Mary      Smith  Female   59        Married         Caucasian   \n",
       "\n",
       "        Position              Job Title    Education Level  \\\n",
       "0     Technician  Marketing Coordinator  Bachelor's Degree   \n",
       "1     Technician             IT Analyst   Associate Degree   \n",
       "2        Analyst  Marketing Coordinator    Master's Degree   \n",
       "3     Technician       Finance Director   Associate Degree   \n",
       "4         Junior          Sales Manager                PhD   \n",
       "...          ...                    ...                ...   \n",
       "1495      Junior  Operations Supervisor                PhD   \n",
       "1496     Manager  Marketing Coordinator    Master's Degree   \n",
       "1497     Analyst             IT Analyst  Bachelor's Degree   \n",
       "1498     Analyst             IT Analyst    Master's Degree   \n",
       "1499     Manager          Sales Manager    Master's Degree   \n",
       "\n",
       "      Years of Experience  Performance Rating  Employee Tenure  \\\n",
       "0                      15                   2                0   \n",
       "1                      27                   3                1   \n",
       "2                      16                   5                7   \n",
       "3                       7                   2                2   \n",
       "4                       1                   1                5   \n",
       "...                   ...                 ...              ...   \n",
       "1495                   28                   4               17   \n",
       "1496                   10                   2               17   \n",
       "1497                    9                   2                9   \n",
       "1498                   16                   2                7   \n",
       "1499                   17                   2                6   \n",
       "\n",
       "      Job Satisfaction  Commute Time (minutes) Employment Status  \\\n",
       "0                    1                      35         Full-Time   \n",
       "1                    5                      50         Part-Time   \n",
       "2                    4                      64         Full-Time   \n",
       "3                    4                      21         Full-Time   \n",
       "4                    1                     119         Full-Time   \n",
       "...                ...                     ...               ...   \n",
       "1495                 3                      53         Full-Time   \n",
       "1496                 3                      33         Full-Time   \n",
       "1497                 3                     105         Part-Time   \n",
       "1498                 1                      14         Full-Time   \n",
       "1499                 1                      17         Full-Time   \n",
       "\n",
       "     Benefits Eligibility     Salary          City  \n",
       "0                     Yes  109827.79      New York  \n",
       "1                     Yes   67221.96      New York  \n",
       "2                     Yes   80270.77       Houston  \n",
       "3                     Yes   86747.48  Philadelphia  \n",
       "4                     Yes   58437.21       Houston  \n",
       "...                   ...        ...           ...  \n",
       "1495                  Yes   79647.53       Chicago  \n",
       "1496                  Yes   41914.84      New York  \n",
       "1497                  Yes   91837.92      New York  \n",
       "1498                  Yes   96010.93  Philadelphia  \n",
       "1499                   No   63256.87  Philadelphia  \n",
       "\n",
       "[1500 rows x 18 columns]"
      ]
     },
     "execution_count": 55,
     "metadata": {},
     "output_type": "execute_result"
    }
   ],
   "source": [
    "import pandas as pd\n",
    "import numpy as np\n",
    "\n",
    "# Define variables for generating data\n",
    "gender = ['Male', 'Female']\n",
    "marital_status = ['Single', 'Married', 'Divorced', 'Widowed']\n",
    "race = ['Caucasian', 'African-American', 'Hispanic', 'Asian', 'Other']\n",
    "position = ['Manager', 'Senior', 'Junior', 'Technician', 'Analyst']\n",
    "job_titles = ['Sales Manager', 'IT Analyst', 'Marketing Coordinator', 'Operations Supervisor', 'Finance Director']\n",
    "education_level = ['High School Diploma', 'Associate Degree', 'Bachelor\\'s Degree', 'Master\\'s Degree', 'PhD']\n",
    "status = ['Full-Time', 'Part-Time', 'Contract']\n",
    "\n",
    "# Seed the random number generator to ensure consistent results\n",
    "np.random.seed(123)\n",
    "\n",
    "# Define function to randomly generate data for each employee\n",
    "def generate_employee_data():\n",
    "    first_name = np.random.choice(['John', 'Mary', 'Michael', 'Emily', 'David', 'Sarah', 'James', 'Laura', 'Daniel', 'Anna'], p=[0.1, 0.1, 0.1, 0.1, 0.1, 0.1, 0.1, 0.1, 0.1, 0.1])\n",
    "    last_name = np.random.choice(['Smith', 'Johnson', 'Garcia', 'Brown', 'Jones', 'Lee', 'Williams', 'Rodriguez', 'Davis', 'Martinez'], p=[0.1, 0.1, 0.1, 0.1, 0.1, 0.1, 0.1, 0.1, 0.1, 0.1])\n",
    "    gender_val = np.random.choice(gender, p=[0.35, 0.65])\n",
    "    age = np.random.randint(22, 65)\n",
    "    marital_status_val = np.random.choice(marital_status, p=[0.4, 0.4, 0.1, 0.1])\n",
    "    race_val = np.random.choice(race, p=[0.4, 0.2, 0.2, 0.1, 0.1])\n",
    "    position_val = np.random.choice(position, p=[0.2, 0.2, 0.2, 0.2, 0.2])\n",
    "    job_title = np.random.choice(job_titles, p=[0.2, 0.2, 0.2, 0.2, 0.2])\n",
    "    education = np.random.choice(education_level, p=[0.2, 0.2, 0.2, 0.2, 0.2])\n",
    "    experience = np.random.randint(0, 30)\n",
    "    performance_rating = np.random.randint(1, 6)\n",
    "    tenure = np.random.randint(0, 20)\n",
    "    job_satisfaction = np.random.randint(1, 6)\n",
    "    commute_time = np.random.randint(10, 120)\n",
    "    employment_status = np.random.choice(status, p=[0.7, 0.2, 0.1])\n",
    "    benefits_eligibility = np.random.choice(['Yes', 'No'], p=[0.8, 0.2])\n",
    "    salary = round(np.random.normal(loc=80000, scale=20000), 2)\n",
    "    city = np.random.choice(['New York', 'Los Angeles', 'Chicago', 'Houston', 'Philadelphia', 'San Francisco'], p=[0.2, 0.2, 0.2, 0.2, 0.1, 0.1])\n",
    "    return (first_name, last_name, gender_val, age, marital_status_val, race_val, position_val, job_title, education, experience, performance_rating, tenure, job_satisfaction, commute_time, employment_status, benefits_eligibility, salary, city)\n",
    "\n",
    "# Generate data for 1500 employees\n",
    "employee_data = [generate_employee_data() for i in range(1500)]\n",
    "\n",
    "# Create data frame from generated data\n",
    "df = pd.DataFrame(employee_data, columns=['First Name', 'Last Name', 'Gender', 'Age', 'Marital Status', 'Race', 'Position', 'Job Title', 'Education Level', 'Years of Experience', 'Performance Rating', 'Employee Tenure', 'Job Satisfaction', 'Commute Time (minutes)', 'Employment Status', 'Benefits Eligibility', 'Salary', 'City'])\n",
    "\n",
    "# Apply the salary transformation for matching employees\n",
    "criteria = ((df['Position'] == 'Manager') & \n",
    "            ((df['Education Level'] == 'MA') | (df['Education Level'] == 'PhD')) & \n",
    "            (df['Age'] > 50))\n",
    "df.loc[criteria, 'Salary'] = np.exp(np.random.normal(loc=11, scale=0.45, size=sum(criteria))) * 2.5 \n",
    "\n",
    "# Print data frame\n",
    "df"
   ]
  },
  {
   "cell_type": "markdown",
   "metadata": {},
   "source": [
    "Here are explanations for all the features in the DataFrame:\n",
    "\n",
    "- **First Name:** The first name of each employee.\n",
    "- **Last Name:** The last name of each employee.\n",
    "- **Gender:** The gender of each employee.\n",
    "- **Age:** The age of each employee.\n",
    "- **Marital Status:** The marital status of each employee.\n",
    "- **Race:** The race or ethnicity of each employee.\n",
    "- **Position:** The general position or level of each employee within the company.\n",
    "- **Job Title:** A specific job title for each employee, which provides more detailed information about their role and responsibilities.\n",
    "- **Education Level:** The highest level of education attained by each employee, which can be an indicator of their skills and qualifications for their job.\n",
    "- **Years of Experience:** The number of years of relevant work experience for each employee, which can be an indicator of their level of expertise and knowledge.\n",
    "- **Performance Rating:** A rating of each employee's job performance, which can provide information about their level of success and contribution to the company.\n",
    "- **Employee Tenure:** The length of time each employee has worked for the company, which can be an indicator of their loyalty and commitment to the company.\n",
    "- **Job Satisfaction:** A rating of each employee's job satisfaction, which can be an indicator of their motivation, engagement, and overall happiness in their job.\n",
    "- **Commute Time:** The amount of time it takes each employee to commute to work, which can be an indicator of their work-life balance and potential stress levels.\n",
    "- **Employment Status:** Whether each employee is a full-time, part-time, or contract employee, which can have implications for their benefits, job security, and other factors.\n",
    "- **Benefits Eligibility:** Whether each employee is eligible for various benefits, such as health insurance, retirement savings plans, or paid time off, which can be an indicator of their overall compensation and job satisfaction.\n",
    "- **Salary:** The annual salary of each employee, which is an important factor in their compensation and financial well-being.\n",
    "- **City:** The city where each employee works, which can provide information about the company's geographic locations and potential regional differences in salaries and living expenses.\n",
    "\n",
    "<hr>"
   ]
  },
  {
   "cell_type": "markdown",
   "metadata": {},
   "source": [
    "**``Descriptive statistics``** refers to a set of statistical measures and techniques used to summarize and describe the main characteristics of a dataset. These measures provide a numerical or graphical representation of the data, allowing us to gain insights and understand the underlying patterns, distribution, and variability of the dataset. Descriptive statistics are commonly used to explore and analyze data in various fields, including statistics, economics, social sciences, and business.\n",
    "\n",
    "Some common descriptive statistics include:\n",
    "\n",
    "<u>**Measures of Central Tendency:**</u>\n",
    "\n",
    "  - <u>Mean:</u> The average value of a dataset.\n",
    "  - <u>Median:</u> The middle value in a sorted dataset.\n",
    "  - <u>Mode:</u> The most frequently occurring value(s) in a dataset.\n",
    "\n",
    "<u>**Measures of Dispersion:**</u>\n",
    "\n",
    "  - <u>Range:</u> The difference between the maximum and minimum values in a dataset.\n",
    "  - <u>Variance:</u> The average squared deviation from the mean.\n",
    "  - <u>Standard Deviation:</u> The square root of the variance.\n",
    "  - <u>Interquartile Range (IQR):</u> The range between the 25th and 75th percentiles.\n",
    "\n",
    "<u>**Measures of Shape and Distribution:**</u>\n",
    "\n",
    "  - <u>Skewness:</u> A measure of the asymmetry of the data distribution.\n",
    "  - <u>Kurtosis:</u> A measure of the peakedness or flatness of the data distribution.\n",
    "  - <u>Histogram:</u> A graphical representation of the data distribution.\n",
    "  \n",
    "<u>**Percentiles:**</u> Values below which a given percentage of data falls.\n",
    "  - <u>Median (50th percentile):</u> The middle value.\n",
    "  - <u>Quartiles:</u> Values that divide the data into four equal parts (25th, 50th, and 75th percentiles).\n",
    "\n",
    "<u>**Count, Sum, Minimum, Maximum:**</u> Basic summary statistics for the dataset."
   ]
  },
  {
   "cell_type": "code",
   "execution_count": 56,
   "metadata": {},
   "outputs": [
    {
     "data": {
      "text/html": [
       "<div>\n",
       "<style scoped>\n",
       "    .dataframe tbody tr th:only-of-type {\n",
       "        vertical-align: middle;\n",
       "    }\n",
       "\n",
       "    .dataframe tbody tr th {\n",
       "        vertical-align: top;\n",
       "    }\n",
       "\n",
       "    .dataframe thead th {\n",
       "        text-align: right;\n",
       "    }\n",
       "</style>\n",
       "<table border=\"1\" class=\"dataframe\">\n",
       "  <thead>\n",
       "    <tr style=\"text-align: right;\">\n",
       "      <th></th>\n",
       "      <th>Age</th>\n",
       "      <th>Years of Experience</th>\n",
       "      <th>Performance Rating</th>\n",
       "      <th>Employee Tenure</th>\n",
       "      <th>Job Satisfaction</th>\n",
       "      <th>Commute Time (minutes)</th>\n",
       "      <th>Salary</th>\n",
       "    </tr>\n",
       "  </thead>\n",
       "  <tbody>\n",
       "    <tr>\n",
       "      <th>count</th>\n",
       "      <td>1500.000000</td>\n",
       "      <td>1500.000000</td>\n",
       "      <td>1500.000000</td>\n",
       "      <td>1500.000000</td>\n",
       "      <td>1500.000000</td>\n",
       "      <td>1500.000000</td>\n",
       "      <td>1500.000000</td>\n",
       "    </tr>\n",
       "    <tr>\n",
       "      <th>mean</th>\n",
       "      <td>43.448000</td>\n",
       "      <td>14.393333</td>\n",
       "      <td>2.952000</td>\n",
       "      <td>9.523333</td>\n",
       "      <td>2.985333</td>\n",
       "      <td>63.654667</td>\n",
       "      <td>80676.651202</td>\n",
       "    </tr>\n",
       "    <tr>\n",
       "      <th>std</th>\n",
       "      <td>12.257982</td>\n",
       "      <td>8.673145</td>\n",
       "      <td>1.425617</td>\n",
       "      <td>5.770354</td>\n",
       "      <td>1.391789</td>\n",
       "      <td>31.409995</td>\n",
       "      <td>24095.929057</td>\n",
       "    </tr>\n",
       "    <tr>\n",
       "      <th>min</th>\n",
       "      <td>22.000000</td>\n",
       "      <td>0.000000</td>\n",
       "      <td>1.000000</td>\n",
       "      <td>0.000000</td>\n",
       "      <td>1.000000</td>\n",
       "      <td>10.000000</td>\n",
       "      <td>3698.490000</td>\n",
       "    </tr>\n",
       "    <tr>\n",
       "      <th>25%</th>\n",
       "      <td>33.000000</td>\n",
       "      <td>7.000000</td>\n",
       "      <td>2.000000</td>\n",
       "      <td>4.750000</td>\n",
       "      <td>2.000000</td>\n",
       "      <td>37.000000</td>\n",
       "      <td>66077.990000</td>\n",
       "    </tr>\n",
       "    <tr>\n",
       "      <th>50%</th>\n",
       "      <td>43.000000</td>\n",
       "      <td>14.000000</td>\n",
       "      <td>3.000000</td>\n",
       "      <td>10.000000</td>\n",
       "      <td>3.000000</td>\n",
       "      <td>63.000000</td>\n",
       "      <td>79625.640000</td>\n",
       "    </tr>\n",
       "    <tr>\n",
       "      <th>75%</th>\n",
       "      <td>54.000000</td>\n",
       "      <td>22.000000</td>\n",
       "      <td>4.000000</td>\n",
       "      <td>15.000000</td>\n",
       "      <td>4.000000</td>\n",
       "      <td>91.000000</td>\n",
       "      <td>93431.490000</td>\n",
       "    </tr>\n",
       "    <tr>\n",
       "      <th>max</th>\n",
       "      <td>64.000000</td>\n",
       "      <td>29.000000</td>\n",
       "      <td>5.000000</td>\n",
       "      <td>19.000000</td>\n",
       "      <td>5.000000</td>\n",
       "      <td>119.000000</td>\n",
       "      <td>318938.619949</td>\n",
       "    </tr>\n",
       "  </tbody>\n",
       "</table>\n",
       "</div>"
      ],
      "text/plain": [
       "               Age  Years of Experience  Performance Rating  Employee Tenure  \\\n",
       "count  1500.000000          1500.000000         1500.000000      1500.000000   \n",
       "mean     43.448000            14.393333            2.952000         9.523333   \n",
       "std      12.257982             8.673145            1.425617         5.770354   \n",
       "min      22.000000             0.000000            1.000000         0.000000   \n",
       "25%      33.000000             7.000000            2.000000         4.750000   \n",
       "50%      43.000000            14.000000            3.000000        10.000000   \n",
       "75%      54.000000            22.000000            4.000000        15.000000   \n",
       "max      64.000000            29.000000            5.000000        19.000000   \n",
       "\n",
       "       Job Satisfaction  Commute Time (minutes)         Salary  \n",
       "count       1500.000000             1500.000000    1500.000000  \n",
       "mean           2.985333               63.654667   80676.651202  \n",
       "std            1.391789               31.409995   24095.929057  \n",
       "min            1.000000               10.000000    3698.490000  \n",
       "25%            2.000000               37.000000   66077.990000  \n",
       "50%            3.000000               63.000000   79625.640000  \n",
       "75%            4.000000               91.000000   93431.490000  \n",
       "max            5.000000              119.000000  318938.619949  "
      ]
     },
     "execution_count": 56,
     "metadata": {},
     "output_type": "execute_result"
    }
   ],
   "source": [
    "# Check the Descriptive Statistics:\n",
    "\n",
    "df.describe()"
   ]
  },
  {
   "cell_type": "code",
   "execution_count": 57,
   "metadata": {},
   "outputs": [
    {
     "data": {
      "image/png": "[encoded data removed]",
      "text/plain": [
       "<Figure size 640x480 with 1 Axes>"
      ]
     },
     "metadata": {},
     "output_type": "display_data"
    }
   ],
   "source": [
    "# Create histogram of salaries:\n",
    "plt.hist(df['Salary'], bins=20, density=True)\n",
    "\n",
    "# # Get current axes\n",
    "# ax = plt.gca()\n",
    "\n",
    "# # Set tick label format to use regular numbers instead of scientific notation\n",
    "# ax.ticklabel_format(style='plain', axis='y')\n",
    "\n",
    "# Display plot\n",
    "plt.show()"
   ]
  },
  {
   "cell_type": "code",
   "execution_count": 58,
   "metadata": {},
   "outputs": [
    {
     "data": {
      "image/png": "[encoded data removed]",
      "text/plain": [
       "<Figure size 640x480 with 1 Axes>"
      ]
     },
     "metadata": {},
     "output_type": "display_data"
    }
   ],
   "source": [
    "# Create boxplot of salaries:\n",
    "\n",
    "sns.boxplot(x=\"Salary\", data=df);"
   ]
  },
  {
   "cell_type": "code",
   "execution_count": 59,
   "metadata": {},
   "outputs": [
    {
     "data": {
      "text/plain": [
       "2.1519112587949616"
      ]
     },
     "metadata": {},
     "output_type": "display_data"
    },
    {
     "data": {
      "text/plain": [
       "16.55336541692395"
      ]
     },
     "metadata": {},
     "output_type": "display_data"
    }
   ],
   "source": [
    "# Compute the skewness and kurtosis of each variable:\n",
    "\n",
    "sal_skewness = df['Salary'].skew()\n",
    "sal_kurtosis = df['Salary'].kurtosis()\n",
    "\n",
    "display(sal_skewness)\n",
    "display(sal_kurtosis)"
   ]
  },
  {
   "cell_type": "code",
   "execution_count": 60,
   "metadata": {},
   "outputs": [
    {
     "data": {
      "text/plain": [
       "Age                      -0.044678\n",
       "Years of Experience       0.013988\n",
       "Performance Rating        0.047233\n",
       "Employee Tenure          -0.009687\n",
       "Job Satisfaction          0.014313\n",
       "Commute Time (minutes)    0.015257\n",
       "Salary                    2.151911\n",
       "dtype: float64"
      ]
     },
     "metadata": {},
     "output_type": "display_data"
    },
    {
     "data": {
      "text/plain": [
       "Age                       -1.135850\n",
       "Years of Experience       -1.216528\n",
       "Performance Rating        -1.315209\n",
       "Employee Tenure           -1.182254\n",
       "Job Satisfaction          -1.266753\n",
       "Commute Time (minutes)    -1.186817\n",
       "Salary                    16.553365\n",
       "dtype: float64"
      ]
     },
     "metadata": {},
     "output_type": "display_data"
    }
   ],
   "source": [
    "# Compute the skewness and kurtosis values of all numerical features in the DataFrame:\n",
    "\n",
    "skewness = df.select_dtypes(\"number\").skew()\n",
    "kurtosis = df.select_dtypes(\"number\").kurtosis()\n",
    "\n",
    "display(skewness)\n",
    "display(kurtosis)"
   ]
  },
  {
   "cell_type": "markdown",
   "metadata": {},
   "source": [
    "<hr>\n",
    "\n",
    "## <p style=\"background-color:#E51A59; font-family:newtimeroman; color:#FFF9ED; font-size:150%; text-align:center; border-radius:10px 10px;\">END OF THE SESSION-01</p>\n",
    "\n",
    "## <p style=\"background-color:#FFFFFF; font-family:newtimeroman; color:#0000FF; font-size:150%; text-align:center; border-radius:10px 10px;\">Now. it's time to relax!</p>\n",
    "\n",
    "<img align=\"center\" src=\"https://i.ibb.co/JtvrgGC/relaxing-on-the-tree-panda.jpg\" width=\"700\" height=\"200\">\n",
    "\n",
    "<p style=\"text-align: center;\"><img src=\"https://i.ibb.co/99DQ3TY/DS-Courses.png\" class=\"img-fluid\" \n",
    "alt=\"CLRSWY\"></p>\n",
    "\n",
    "___\n",
    "\n",
    "<a href=\"https://clarusway.com/\"><img align=\"center\" src=\"https://i.ibb.co/Rpz9L36/clarusway-logo-black.png\" width=\"450\" height=\"200\" alt=\"CLRSWY_LOGO\" title=\"Way to Reinvent Yourself\"></a><br/>\n",
    "\n",
    "<p style=\"background-color:#E51A59; font-family:newtimeroman; color:#FDFEFE; font-size:130%; text-align:center; border-radius:10px 10px;\">WAY TO REINVENT YOURSELF</p>\n",
    "\n",
    "<hr>"
   ]
  },
  {
   "cell_type": "markdown",
   "metadata": {
    "deletable": false,
    "editable": false
   },
   "source": [
    "<a href=\"https://clarusway.com/contact-us/\"><img align=\"center\" src=\"https://i.ibb.co/B43qn24/officially-licensed-logo.png\" alt=\"Open in Clarusway LMS\" width=\"110\" height=\"200\" title=\"This notebook is licensed by Clarusway IT training school. Please contact the authorized persons about the conditions under which you can use or share.\"></a>"
   ]
  }
 ],
 "metadata": {
  "colab": {
   "provenance": [
    {
     "file_id": "1GzIPMGQMaoT2-ZNkEe3wRoHG3XMCq8na",
     "timestamp": 1641276287610
    },
    {
     "file_id": "1SZrAkI5B_TqwG5-vCL9nrJi-mx46v9MO",
     "timestamp": 1640515689075
    }
   ]
  },
  "kernelspec": {
   "display_name": "Python 3 (ipykernel)",
   "language": "python",
   "name": "python3"
  },
  "language_info": {
   "codemirror_mode": {
    "name": "ipython",
    "version": 3
   },
   "file_extension": ".py",
   "mimetype": "text/x-python",
   "name": "python",
   "nbconvert_exporter": "python",
   "pygments_lexer": "ipython3",
   "version": "3.11.5"
  },
  "toc": {
   "base_numbering": 1,
   "nav_menu": {},
   "number_sections": false,
   "sideBar": true,
   "skip_h1_title": false,
   "title_cell": "Table of Contents",
   "title_sidebar": "Contents",
   "toc_cell": false,
   "toc_position": {
    "height": "calc(100% - 180px)",
    "left": "10px",
    "top": "150px",
    "width": "361px"
   },
   "toc_section_display": true,
   "toc_window_display": true
  },
  "varInspector": {
   "cols": {
    "lenName": 16,
    "lenType": 16,
    "lenVar": 40
   },
   "kernels_config": {
    "python": {
     "delete_cmd_postfix": "",
     "delete_cmd_prefix": "del ",
     "library": "var_list.py",
     "varRefreshCmd": "print(var_dic_list())"
    },
    "r": {
     "delete_cmd_postfix": ") ",
     "delete_cmd_prefix": "rm(",
     "library": "var_list.r",
     "varRefreshCmd": "cat(var_dic_list()) "
    }
   },
   "types_to_exclude": [
    "module",
    "function",
    "builtin_function_or_method",
    "instance",
    "_Feature"
   ],
   "window_display": false
  }
 },
 "nbformat": 4,
 "nbformat_minor": 4
}
